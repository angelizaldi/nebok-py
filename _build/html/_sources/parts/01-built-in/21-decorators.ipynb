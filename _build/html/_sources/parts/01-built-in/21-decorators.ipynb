{
 "cells": [
  {
   "cell_type": "markdown",
   "id": "a96b2a1e",
   "metadata": {},
   "source": [
    "# Decorators\n",
    "\n",
    "```{attention} En esta sección solo se cubre lo básico en relación a decorators y no pretende cubrir extensamente el tema. Se recomienda consultar otras fuentes para saber más del tema.\n",
    "```\n",
    "\n",
    "- Un \"_decorator_\" modifica el comportamiento de una función, puede modificar los inputs, los outputs o modificar el comportamiento como tal de la función. \n",
    "- Los decorators reciben una función como parámetros y retornan otra. \n",
    "- Los decorators se utilizan junto con el símbolo `@` y se ponen justo arriba de la función que se quierer alterar:\n",
    "\n",
    "---\n",
    "## Crear un decorator:\n",
    "\n",
    "- Para crear un decorator se tiene que crear una función anidada. \n",
    "- La función padre debe de recibir como argumento la función que se va a modificar y retornar una función hija. \n",
    "- La función hija recibe los argumentos de la función que se va a modificar (si tiene) y realizar cualquier modificación o comportamiento de la función original.\n",
    "- La función hija puede o no retornar objetos, dependiendo de las intenciones del decorador.\n",
    "```python\n",
    "# Definir el decorator\n",
    "def decorator_function(function):\n",
    "    ...\n",
    "    def inner_function(args):\n",
    "        # Aqui se define cualquier modificación a function\n",
    "        ...\n",
    "        # No es obligatorio retornar algo\n",
    "        return something\n",
    "    return inner_function\n",
    "\n",
    "# Utilizar el decorator\n",
    "@decorator_function\n",
    "def my_function(args):\n",
    "    ...\n",
    "    \n",
    "# Usar el @ equivale a hacer lo siguiente:\n",
    "my_function = decorator_function(my_function)\n",
    "```\n",
    "- _decorator_function_: Es una función que recibe como argumento otra función que es justamente la que va a decorar, en este caso function.\n",
    "- _decorator funcion_ suele ser un \"_closure_\".\n",
    "- Después de usar el decorator _my_function_ tendrá las modificaciones definidas en _inner_function_.\n",
    "\n",
    "Ejemplo:\n",
    "El siguiente ejemplo modifica el comportamiento de la función `_fecha_`, esta función retorna la fecha actual con ayuda de la función `datetime.datetime.today()`, sin el decorator el valor retornado sería similar a `datetime.datetime(YYY, MM, DD, HH, MM, SS)`, pero con el decorator retorna una cadena en un formato `\"YYYY-MM-DD\"`."
   ]
  },
  {
   "cell_type": "code",
   "execution_count": 1,
   "id": "ca7f3652",
   "metadata": {},
   "outputs": [
    {
     "name": "stdout",
     "output_type": "stream",
     "text": [
      "2022-12-31\n"
     ]
    }
   ],
   "source": [
    "from datetime import datetime\n",
    "\n",
    "def format_decorator(fecha):\n",
    "    def formatter():\n",
    "        return fecha().strftime(\"%Y-%m-%d\")\n",
    "    return formatter\n",
    "\n",
    "@format_decorator\n",
    "def fecha():\n",
    "    return datetime.today()\n",
    "\n",
    "print(fecha())"
   ]
  }
 ],
 "metadata": {
  "jupytext": {
   "formats": "md:myst",
   "text_representation": {
    "extension": ".md",
    "format_name": "myst"
   }
  },
  "kernelspec": {
   "display_name": "Python 3",
   "language": "python",
   "name": "python3"
  },
  "language_info": {
   "codemirror_mode": {
    "name": "ipython",
    "version": 3
   },
   "file_extension": ".py",
   "mimetype": "text/x-python",
   "name": "python",
   "nbconvert_exporter": "python",
   "pygments_lexer": "ipython3",
   "version": "3.7.7"
  },
  "source_map": [
   11,
   55
  ]
 },
 "nbformat": 4,
 "nbformat_minor": 5
}