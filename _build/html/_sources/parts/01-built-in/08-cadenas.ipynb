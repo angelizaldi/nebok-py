{
 "cells": [
  {
   "cell_type": "markdown",
   "id": "42709425",
   "metadata": {},
   "source": [
    "# Cadenas\n",
    "\n",
    "El tipo de dato `str` almacenan una secuencia de caracteres encerrados en comillas dobles o simples. `str` es considerado una secuencia. Sus principales características son:\n",
    "- Es inmutable: No se puede modificar una vez creada.\n",
    "- Está indexado: Sus elementos están ordenados.\n",
    "- Es un iterable: Se puede iterar por sus elementos y se puede utilizar la palabra reservada `in` para verificar membresía.\n",
    "- Se puede hacer _subsetting_ y _slicing_ de sus caracteres.\n",
    "- Se puede concatenar con otras cadenas."
   ]
  },
  {
   "cell_type": "markdown",
   "id": "e957f34f",
   "metadata": {},
   "source": [
    "---\n",
    "## Crear una cadena\n",
    "\n",
    "Para crear una variable de tipo de cadena usar comillas dobles o comillas simples para abrir y cerrar la cadena:\n",
    "```python\n",
    "x = \"text\"\n",
    "x = 'text'\n",
    "```\n",
    "\n",
    "Para crear una cadena de mútiples líneas usar tres comillas dobles o tres comillas simples para abrir y cerrar la cadena:\n",
    "```python\n",
    "x = \"\"\"\n",
    "    text\n",
    "    more text\n",
    "    \"\"\"\n",
    "     \n",
    "x = '''\n",
    "    text\n",
    "    more text\n",
    "    '''\n",
    "```\n",
    "- Los saltos de línea (`\\n`) se respetarán en la cadena."
   ]
  },
  {
   "cell_type": "markdown",
   "id": "43e05396-6bf0-47e7-b0df-431515817a25",
   "metadata": {},
   "source": [
    "### Unicode\n",
    "\n",
    "Se utiliza para poder ingresar letras con acentos como á, ä, à, ñ u otros símbolos etc. Se utilizan los códigos unicode, que se pueden consultar en [códigos unicode](https://unicode-table.com/es/#basic-latin).\n",
    "\n",
    "Para insertar códigos unicode se debe de poner el código dentro de una cadena con prefijo `u` y el código se pone como `\\u_code_`, donde `_code_` es el código de unicode:"
   ]
  },
  {
   "cell_type": "code",
   "execution_count": 1,
   "id": "7d3bd5ca-a377-45af-ab76-bdc1e8f8d93b",
   "metadata": {},
   "outputs": [
    {
     "name": "stdout",
     "output_type": "stream",
     "text": [
      "Hello World!\n"
     ]
    }
   ],
   "source": [
    "# Ingresando un espacio en blanco y el signo ! con códigos unicode:\n",
    "print(u\"Hello\\u0020World\\u0021\") "
   ]
  },
  {
   "cell_type": "markdown",
   "id": "67cfff37-d262-4460-9871-e0bede859093",
   "metadata": {},
   "source": [
    "### Raw strings\n",
    "\n",
    "Son cadenas “crudas”, que ignoran _caracteres ilegales_ como `\\n` y los imprime tal cual. Para crear una cadena cruda se utiliza una `r` como prefijo de la cadena."
   ]
  },
  {
   "cell_type": "code",
   "execution_count": null,
   "id": "4e2ec583-33e9-4f3c-8a7f-06feb7e16e40",
   "metadata": {},
   "outputs": [],
   "source": [
    "# Una cadena normal\n",
    "print(\"text1 \\ttext2\")\n",
    "\n",
    "# Una cadena cruda\n",
    "print(r\"text1 \\ttext2\")"
   ]
  },
  {
   "cell_type": "markdown",
   "id": "854d3ad8-0e0c-48c6-984e-ac2eca0d0c60",
   "metadata": {},
   "source": [
    "Los caracteres ilegales son:\n",
    "- `\\’`: Comilla simple.\n",
    "- `\\”`: Comilla doble.\n",
    "- `\\n`: Salto de línea.\n",
    "- `\\t`: Tabulación.\n",
    "- `\\\\`: Diagonal inversa.\n",
    "- `\\b`: Un espacio en blanco para atrás.\n",
    "- `\\xhh`: Valor hexadecimal.\n"
   ]
  },
  {
   "cell_type": "markdown",
   "id": "f42a9fab",
   "metadata": {},
   "source": [
    "---\n",
    "## Concatenar cadenas:\n",
    "Para concatenar cadenas se usa el operador `+`. Usar únicamente con objetos de tipo `str`:"
   ]
  },
  {
   "cell_type": "code",
   "execution_count": 2,
   "id": "71829349",
   "metadata": {},
   "outputs": [
    {
     "name": "stdout",
     "output_type": "stream",
     "text": [
      "Hello World!\n"
     ]
    }
   ],
   "source": [
    "x = \"Hello\"\n",
    "y = \"World!\"\n",
    "print(x + \" \" + y)"
   ]
  },
  {
   "cell_type": "markdown",
   "id": "6a4a42b9",
   "metadata": {},
   "source": [
    "`str` tiene además el método `join`para concatenar que se ve con más profundidad en \"ref\"."
   ]
  },
  {
   "cell_type": "markdown",
   "id": "88c0cc89",
   "metadata": {},
   "source": [
    "Para concatenar una misma cadena `n ` veces usar el operador de multiplicación `*` con la cadena:"
   ]
  },
  {
   "cell_type": "code",
   "execution_count": 2,
   "id": "f8087182",
   "metadata": {},
   "outputs": [
    {
     "data": {
      "text/plain": [
       "'text text text text text '"
      ]
     },
     "execution_count": 2,
     "metadata": {},
     "output_type": "execute_result"
    }
   ],
   "source": [
    "\"text \" * 5"
   ]
  },
  {
   "cell_type": "markdown",
   "id": "25b0d85c",
   "metadata": {},
   "source": [
    "---\n",
    "## Verificar membresía\n",
    "\n",
    "Se puede verificar que un patrón esté dentro de una cadena con los operadores `in` y `not in`, retornando un valor lógico. El patrón no tiene porque ser una palabra exacta, pueden ser partes de palabras, palabras o frases.\n",
    "```python\n",
    "\"pattern\" in \"string\"\n",
    "\"pattern\" not in \"string\"\n",
    "```\n",
    "Ejemplos:"
   ]
  },
  {
   "cell_type": "code",
   "execution_count": 4,
   "id": "42296dad",
   "metadata": {},
   "outputs": [
    {
     "name": "stdout",
     "output_type": "stream",
     "text": [
      "True\n",
      "False\n"
     ]
    }
   ],
   "source": [
    "text = \"Lorem ipsum dolor sit amet, consectetur adipiscing elit.\"\n",
    "print(\"amet\" in text)\n",
    "print(\"minim\" in text)"
   ]
  },
  {
   "cell_type": "markdown",
   "id": "339513e6",
   "metadata": {},
   "source": [
    "---\n",
    "## Iteración\n",
    "\n",
    "Las cadenas son una secuencia, esto permite que se puede usar una cadena como el rango en un `for loop`, iterando caracter por caracter:\n",
    "```python\n",
    "for i in string:\n",
    "    expression\n",
    "```\n",
    "\n",
    "Ejemplo:"
   ]
  },
  {
   "cell_type": "code",
   "execution_count": 13,
   "id": "007be7a8",
   "metadata": {},
   "outputs": [
    {
     "name": "stdout",
     "output_type": "stream",
     "text": [
      "a\n",
      "b\n",
      "c\n"
     ]
    }
   ],
   "source": [
    "for char in \"abc\":\n",
    "    print(char)"
   ]
  },
  {
   "cell_type": "markdown",
   "id": "efc24ff0",
   "metadata": {},
   "source": [
    "---\n",
    "## Selección de elementos: \n",
    "\n",
    "### Subsetting:\n",
    "Si `X` es `str` e `i` es un número entero, entonces para seleccionar caracyeres de una cadenas tener en cuenta las siguientes características: \n",
    "- Se utilizan corchetes `[]` para acceder a los elementos, junto con el nombre de la variable y el índice del elemento: <br/>\n",
    "`X[i]`\n",
    "- Los índices comienza en cero (0), esto quiere decir que si quiere acceder al elemento `i`, se debe de usar `[i-1]`.\n",
    "- Se puede utilizar números negativos, de manera que se comience por el último elemento. Se puede acceder al último caracter con `[-1]`, al penúltimo caracters `[-2]`, etc.\n",
    "\n",
    "---\n",
    "### Slicing:\n",
    "Si `X` es `str` e `i`, `j` y `k` son números entonces, entonces:\n",
    "- Para seleccionar un rango de caracteres consecutivos se utiliza dos puntos: <br/> `X[i:j]`\n",
    "- La selección por rango, tienen la característica que el primer elemento es inclusivo y el último es exclusivo, esto quiere decir que no se incluirá en el rango, si se usa el rango `[i:j]`, en realidad solo se accederá a `[i:j-1]`.\n",
    "- Desde el índice `i` hasta el `j`, sin incluir el `j`: <br> `X[i:j]`\n",
    "- Desde el inicio hasta el `j`, sin incluir el `j`: <br> `X[:j]`\n",
    "- Desde la posición `i` hasta el final de la cadena: <br>`X[i:]`\n",
    "- Toda la cadena: <br> `X[:]`\n",
    "- Desde el índice `i` hasta el `j`, sin incluir el `j`, cada `k` caracteres: <br> `X[i:j:k]`\n",
    "\n",
    "Algunos patrones útiles:\n",
    "- El primer caracter: <br> `X[0]`\n",
    "- El último caracter: <br> `X[-1]`\n",
    "- Toda la cadena cada `k` caracteres: <br> `X[::k]`\n",
    "- Toda la cadena al revés: <br> `X[::-1]`\n",
    "\n"
   ]
  },
  {
   "cell_type": "code",
   "execution_count": 5,
   "id": "b429a3c9-d524-44ce-b816-fc7d81b5ab83",
   "metadata": {},
   "outputs": [
    {
     "name": "stdout",
     "output_type": "stream",
     "text": [
      "a\n",
      "o\n",
      "aei\n",
      "uia\n"
     ]
    }
   ],
   "source": [
    "# Ejemplos\n",
    "X = \"aeiou\"\n",
    "\n",
    "# Primer caracter\n",
    "print(X[0])\n",
    "\n",
    "# Penúltimo caracter\n",
    "print(X[-2])\n",
    "\n",
    "# Del ínidice 0 al 2\n",
    "print(X[0:3])\n",
    "\n",
    "# La cadena al revés cada 2 caracteres\n",
    "print(X[::-2])"
   ]
  },
  {
   "cell_type": "markdown",
   "id": "4cd303b2",
   "metadata": {},
   "source": [
    "## Convertir otro tipo de secuencia:\n",
    "\n",
    "Se puede convertir una cadena a cualquier otro tipo de secuencia, donde cada elemento de la secuencia será cada caracter de la cadena con las funciones `list()` y `tuple()`.\n",
    "```python\n",
    "list(X)\n",
    "tuple(X)\n",
    "```\n",
    "- `X` \\- `str`.\n",
    "\n"
   ]
  },
  {
   "cell_type": "markdown",
   "id": "02f45bec-b794-4807-bf3d-aaa261982032",
   "metadata": {},
   "source": [
    "## Métodos de cadenas\n",
    "\n",
    "En esta sección se explicarán algunos de los métodos de `str`, con ejemplos. Para información más detallada de todos los métodos visitar la [página](https://docs.python.org/3.8/library/stdtypes.html#string-methods) oficial.\n",
    "\n",
    "Los ejemplos suponen que el método se aplica directamente sobre un objeto que es `str`, pero es posible usar el objeto como argumento, por ejemplo, en lugar de usar `X.upper()` se puede usar:\n",
    "```python\n",
    "# X es str\n",
    "str.upper(X)\n",
    "```\n",
    "- En ese caso el primer argumento debe de ser la cadena."
   ]
  },
  {
   "cell_type": "markdown",
   "id": "dde46b85-f8c3-45a2-b860-f8eda34b482d",
   "metadata": {},
   "source": [
    "---\n",
    "### Buscar patrones:\n",
    "\n",
    "Métodos para buscar\n",
    "\n",
    "**find**\n",
    "\n",
    "`str.find()`: Retorna la primer posición de la cadena donde se encuentra un patrón, pero si no encuentra el patrón retorna -1.\n",
    "```python\n",
    "str.find(sub, [start=0], [end=-1])\n",
    "```\n",
    "**Parámetros:**\n",
    "- **`sub`** \\- `str`: Es el patrón a buscar.\n",
    "- **`start`**, **`end`** \\- `int`: Para indicar desde cuál y hasta cuál elemento buscar el patrón, `end` es exclusivo. Por default es desde el inicio hasta el final.\n",
    "- Existe un método similar pero para devolver la última coincidencia es `str.rfind()`.\n",
    "\n",
    "**Retorna:**\n",
    "- `int`.\n",
    "\n",
    "**Ejemplo:**"
   ]
  },
  {
   "cell_type": "code",
   "execution_count": 89,
   "id": "7b935a24-5962-49d5-80a1-52dcf3f97baf",
   "metadata": {},
   "outputs": [
    {
     "name": "stdout",
     "output_type": "stream",
     "text": [
      "18\n",
      "-1\n"
     ]
    }
   ],
   "source": [
    "X = \"Lorem ipsum dolor sit amet, consectetur sit adipiscing elit\"\n",
    "print(X.find(\"sit\"))\n",
    "\n",
    "#Retorna -1\n",
    "print(X.find(\"totam\"))"
   ]
  },
  {
   "cell_type": "markdown",
   "id": "dbe4e287-a8cf-476d-8092-4eef3453547b",
   "metadata": {},
   "source": [
    "---\n",
    "**index**\n",
    "\n",
    "`str.index()`: Retorna la primer posición de la cadena donde se encuentra un patrón. Si no encuentra el patrón retorna un error `ValueError`. \n",
    "```python\n",
    "str.index(sub, [start=0], [end=-1])\n",
    "```\n",
    "**Parámetros:**\n",
    "- **`sub`** \\- `str`: Es el patrón a buscar.\n",
    "- **`start`**, **`end`** \\- `int`: Para indicar desde cuál y hasta cuál elemento buscar el patrón, `end` es exclusivo. Por default es desde el inicio hasta el final.\n",
    "\n",
    "**Retorna:**\n",
    "- `int` o `ValueError`.\n",
    "\n",
    "**Ejemplo:**"
   ]
  },
  {
   "cell_type": "code",
   "execution_count": 90,
   "id": "ca12d614-50e7-4f84-b719-f139c72cc0c4",
   "metadata": {},
   "outputs": [
    {
     "name": "stdout",
     "output_type": "stream",
     "text": [
      "18\n"
     ]
    }
   ],
   "source": [
    "X = \"Lorem ipsum dolor sit amet, consectetur sit adipiscing elit\"\n",
    "print(X.index(\"sit\"))"
   ]
  },
  {
   "cell_type": "markdown",
   "id": "359a4c22-134a-4da9-9647-d79558e5864c",
   "metadata": {},
   "source": [
    "```{note}\n",
    "Otros métodos para conocer información sobre búsqueda de patrones no cubiertos aquí.\n",
    "- `str.rfind()`: Como `str.find` pero retorna información de la última coincidencia.\n",
    "- `str.rindex()`: Como `str.index` pero retorna información de la última coincidencia.\n",
    "```"
   ]
  },
  {
   "cell_type": "markdown",
   "id": "978c48f0-ebf2-46e9-92be-494f2c9d53b9",
   "metadata": {},
   "source": [
    "---\n",
    "### Información de la cadena:"
   ]
  },
  {
   "cell_type": "markdown",
   "id": "e7d124dd-316f-4ad0-af14-61562fe6c75b",
   "metadata": {},
   "source": [
    "**count**\n",
    "\n",
    "`str.count()`: Retorna el número de veces que hay un patrón en una cadena.\n",
    "```python\n",
    "str.count(sub=\"pattern\", [start=0], [end=-1])\n",
    "```\n",
    "**Parámetros:**\n",
    "- **`sub`**\\- `str`: Es el patrón a buscar.\n",
    "- **`star`**, **`end`**\\- `int`: Para indicar desde cuál y hasta cuál elemento buscar el patrón. Por default es desde el inicio hasta el final.\n",
    "\n",
    "**Retorna:**\n",
    "- `int`.\n",
    "\n",
    "**Ejemplo:**"
   ]
  },
  {
   "cell_type": "code",
   "execution_count": 91,
   "id": "ba3ecfac-eef0-4be5-b653-5d2146e5824d",
   "metadata": {},
   "outputs": [
    {
     "data": {
      "text/plain": [
       "2"
      ]
     },
     "execution_count": 91,
     "metadata": {},
     "output_type": "execute_result"
    }
   ],
   "source": [
    "X = \"Lorem ipsum dolor sit amet, consectetur sit adipiscing elit\"\n",
    "X.count(\"sit\")"
   ]
  },
  {
   "cell_type": "markdown",
   "id": "71788655-61ca-4bc1-897b-4913972f01e5",
   "metadata": {},
   "source": [
    "---\n",
    "**endswith**\n",
    "\n",
    "`str.endswith()`: Retorna `True` si la cadena termina con algún patron en específic, `False` en caso contrario.\n",
    "```python\n",
    "str.endswith(suffix=\"pattern\", [start=0], [end=-1])\n",
    "```\n",
    "**Parámetros:**\n",
    "- **`suffix`** \\- `str`: Es el sufijo a buscar.\n",
    "- **`star`**, **`end`**\\- `int`: Para indicar desde cuál y hasta cuál elemento buscar el patrón. Por default es desde el inicio hasta el final.\n",
    "\n",
    "**Retorna:**\n",
    "- `bool`.\n",
    "\n",
    "**Ejemplo:**"
   ]
  },
  {
   "cell_type": "code",
   "execution_count": 92,
   "id": "849ea336-1b96-4d73-a616-af23273d77f9",
   "metadata": {},
   "outputs": [
    {
     "data": {
      "text/plain": [
       "True"
      ]
     },
     "execution_count": 92,
     "metadata": {},
     "output_type": "execute_result"
    }
   ],
   "source": [
    "X = \"Lorem ipsum dolor sit amet, consectetur sit adipiscing elit\"\n",
    "X.startswith(\"Lor\")"
   ]
  },
  {
   "cell_type": "markdown",
   "id": "63af216b-c0e5-44a0-a69b-48775343cb37",
   "metadata": {},
   "source": [
    "---\n",
    "**isalnum**\n",
    "\n",
    "`str.isalnum()` \\- `bool`: Retorna `True` si todos los caracteres de la cadena son alfanuméricos, `False` en caso contrario.\n",
    "```python\n",
    "str.isalnum()\n",
    "```\n",
    "**Parámetros:**\n",
    "- No tiene parámetros\n",
    "\n",
    "**Retorna:**\n",
    "- `bool`.\n",
    "\n",
    "**Ejemplo:**"
   ]
  },
  {
   "cell_type": "code",
   "execution_count": 93,
   "id": "a74ce80b-c3df-41e7-8cb3-326032f87b7d",
   "metadata": {},
   "outputs": [
    {
     "name": "stdout",
     "output_type": "stream",
     "text": [
      "True\n",
      "False\n"
     ]
    }
   ],
   "source": [
    "X = \"abc123\"\n",
    "Y = \"abc.123\"\n",
    "\n",
    "print(X.isalnum())\n",
    "print(Y.isalnum())"
   ]
  },
  {
   "cell_type": "markdown",
   "id": "b3ba89a7-3d75-4976-8b5a-907721e8b637",
   "metadata": {},
   "source": [
    "---\n",
    "**isnumeric**\n",
    "\n",
    "`str.isnumeric()` \\- `bool`: Retorna `True` si todos los caracteres de la cadena son numéricos.\n",
    "```python\n",
    "str.isnumeric()\n",
    "```\n",
    "**Parámetros:**\n",
    "- No tiene parámetros\n",
    "\n",
    "**Retorna:**\n",
    "- `bool`.\n",
    "\n",
    "**Ejemplo:**"
   ]
  },
  {
   "cell_type": "code",
   "execution_count": 94,
   "id": "2783c5b2-2cf6-4add-b0bf-df5f50bc9298",
   "metadata": {},
   "outputs": [
    {
     "name": "stdout",
     "output_type": "stream",
     "text": [
      "True\n",
      "False\n",
      "False\n"
     ]
    }
   ],
   "source": [
    "X = \"123456\"\n",
    "Y = \"99.00\"\n",
    "Z = \"123abc\"\n",
    "\n",
    "print(X.isnumeric())\n",
    "print(Y.isnumeric())\n",
    "print(Y.isnumeric())"
   ]
  },
  {
   "cell_type": "markdown",
   "id": "31c818d2-2150-4b81-837c-b86eca8dba0d",
   "metadata": {},
   "source": [
    "---\n",
    "**isupper**\n",
    "\n",
    "`str.isupper()` \\- `bool`: Retorna `True` si todos los caracteres son mayúsculas y hay al menos un caracter alfabético en mayúsculas, si no, retorna `False`.\n",
    "```python\n",
    "str.isupper() \n",
    "```\n",
    "**Parámetros:**\n",
    "- No tiene parámetros\n",
    "\n",
    "**Retorna:**\n",
    "- `bool`.\n",
    "\n",
    "**Ejemplo:**"
   ]
  },
  {
   "cell_type": "code",
   "execution_count": 95,
   "id": "4e567fda-541f-47dd-aff7-9b4dac927044",
   "metadata": {},
   "outputs": [
    {
     "name": "stdout",
     "output_type": "stream",
     "text": [
      "True\n",
      "False\n"
     ]
    }
   ],
   "source": [
    "X = \"ABC123\"\n",
    "Y = \"ABc123\"\n",
    "\n",
    "print(X.isupper())\n",
    "print(Y.isupper())"
   ]
  },
  {
   "cell_type": "markdown",
   "id": "522ab58d-c75b-4a38-bbe3-ea5e5c05f930",
   "metadata": {},
   "source": [
    "```{note}\n",
    "Otros métodos para conocer información sobre las cadenas no cubiertos aquí.\n",
    "- `str.startswith()`: Para verificar que una cadena comienza con un patrón en específico.\n",
    "- `str.isdecimal()`: Para verificar que una cadena represente una valor número décimal.\n",
    "- `str.isdigit()`: Para verificar que una cadena represente un número.\n",
    "- `str.isidentifier()`.\n",
    "- `str.islower()`: Para verificar que todos los caracteres de una cadena sean minúsculas.\n",
    "- `str.isprintable()`: Para verificar que todos los caracteres de una cadena sean imprimibles.\n",
    "- `str.isspace()`.\n",
    "- `str.istitle()`.\n",
    "```"
   ]
  },
  {
   "cell_type": "markdown",
   "id": "58f9c178-5f0f-48d8-b60a-2df898d9d915",
   "metadata": {},
   "source": [
    "### Formato de la cadena:"
   ]
  },
  {
   "cell_type": "markdown",
   "id": "962edd2f-4db9-48cd-8455-76fb5c8684cb",
   "metadata": {},
   "source": [
    "**zfill**\n",
    "\n",
    "`str.zfill()` \\- `str`: Retorna una cadena agregando ceros al principio de la cadena (si es necesario), para que tenga una longitud específica.\n",
    "```python\n",
    "str.zfill(width)\n",
    "```\n",
    "**Parámetros:**\n",
    "- `witdh` \\- `int`: Es la longitud que se desea que tenga la cadena.\n",
    "\n",
    "**Retorna:**\n",
    "- `str`.\n",
    "\n",
    "**Ejemplo:**"
   ]
  },
  {
   "cell_type": "code",
   "execution_count": 96,
   "id": "59adf654-7caa-4fde-b50e-28cfbf61bcbb",
   "metadata": {},
   "outputs": [
    {
     "data": {
      "text/plain": [
       "'00000Lorep'"
      ]
     },
     "execution_count": 96,
     "metadata": {},
     "output_type": "execute_result"
    }
   ],
   "source": [
    "X = \"Lorep\"\n",
    "X.zfill(10)"
   ]
  },
  {
   "cell_type": "markdown",
   "id": "180c5bef-449e-4d2f-a129-ac7598f27292",
   "metadata": {},
   "source": [
    "---\n",
    "**center**\n",
    "\n",
    "`str.center()` \\- `str`: Retorna una cadena agregando caracteres al princio y al final, para que tenga una longitud determinada y la cadena original esté al centro.\n",
    "```python\n",
    "str.center(width, [fillchar = \" \"])\n",
    "```\n",
    "**Parámetros:**\n",
    "- `witdh` \\- `int`: Es la longitud que se desea que tenga la cadena.\n",
    "- `fillchar` \\- `str`: Es el carácter que se desea agregar al principio y al final. Por default son espacios en blanco.\n",
    "\n",
    "**Retorna:**\n",
    "- `str`.\n",
    "\n",
    "**Ejemplo:**"
   ]
  },
  {
   "cell_type": "code",
   "execution_count": 97,
   "id": "972a2c82-8d63-48c7-90bd-4a53083d1c37",
   "metadata": {},
   "outputs": [
    {
     "name": "stdout",
     "output_type": "stream",
     "text": [
      "  Lorep   \n",
      "..Lorep...\n"
     ]
    }
   ],
   "source": [
    "X = \"Lorep\"\n",
    "print(X.center(10))\n",
    "print(X.center(10, \".\"))"
   ]
  },
  {
   "cell_type": "markdown",
   "id": "caf98524-0213-483e-af95-1960497caade",
   "metadata": {},
   "source": [
    "---\n",
    "**ljust**\n",
    "\n",
    "`str.ljust()` \\- `str`: Justifica el texto a la izquierda, agregando caracteres al final de la cadena para que tenga una longitud determinada.\n",
    "```python\n",
    "str.ljust(width, [fillchar = \" \"])\n",
    "```\n",
    "**Parámetros:**\n",
    "- `witdh` \\- `int`: Es la longitud que se desea que tenga la cadena.\n",
    "- `fillchar` \\- `str`: Es el carácter que se desea agregar al final. Por default son espacios en blanco.\n",
    "\n",
    "**Retorna:**\n",
    "- `str`.\n",
    "\n",
    "**Ejemplo:**"
   ]
  },
  {
   "cell_type": "code",
   "execution_count": 98,
   "id": "029d27c7-6156-44af-83e9-923a00760ba2",
   "metadata": {},
   "outputs": [
    {
     "name": "stdout",
     "output_type": "stream",
     "text": [
      "Lorep     \n",
      "Lorep.....\n"
     ]
    }
   ],
   "source": [
    "X = \"Lorep\"\n",
    "print(X.ljust(10))\n",
    "print(X.ljust(10, \".\"))"
   ]
  },
  {
   "cell_type": "markdown",
   "id": "3bfb6956-40e1-4ce1-8cd3-3bfa944f7fc3",
   "metadata": {},
   "source": [
    "---\n",
    "**rjust**\n",
    "\n",
    "`str.rjust()` \\- `str`: Justifica el texto a la derecha, agregando caracteres al principio de la cadena para que tenga una longitud determinada.\n",
    "```python\n",
    "str.rjust(width, [fillchar = \" \"])\n",
    "```\n",
    "**Parámetros:**\n",
    "- `witdh` \\- `int`: Es la longitud que se desea que tenga la cadena.\n",
    "- `fillchar` \\- `str`: Es el carácter que se desea agregar al principio. Por default son espacios en blanco.\n",
    "\n",
    "**Retorna:**\n",
    "- `str`.\n",
    "\n",
    "**Ejemplo:**"
   ]
  },
  {
   "cell_type": "code",
   "execution_count": 99,
   "id": "e179a356-bf25-4225-9a36-cbd462955e43",
   "metadata": {},
   "outputs": [
    {
     "name": "stdout",
     "output_type": "stream",
     "text": [
      "     Lorep\n",
      ".....Lorep\n"
     ]
    }
   ],
   "source": [
    "X = \"Lorep\"\n",
    "print(X.rjust(10))\n",
    "print(X.rjust(10, \".\"))"
   ]
  },
  {
   "cell_type": "markdown",
   "id": "098e537d-9fed-4ea6-89ad-2c184cb89dd7",
   "metadata": {},
   "source": [
    "---\n",
    "**capitalize**\n",
    "\n",
    "`str.capitalize()` \\- `str`: Convierte la cadena para que tenga la primer letra en mayúsculas y el resto en minúsculas.\n",
    "```python\n",
    "str.capitalize()\n",
    "```\n",
    "**Parametros:**\n",
    "- No tiene parámetros\n",
    "\n",
    "**Retorna:**\n",
    "- `str`.\n",
    "\n",
    "**Ejemplo:**"
   ]
  },
  {
   "cell_type": "code",
   "execution_count": 100,
   "id": "66a9763b-654c-434f-87a0-74137fa2446e",
   "metadata": {},
   "outputs": [
    {
     "data": {
      "text/plain": [
       "'Lorem ipsum dolor sit amet'"
      ]
     },
     "execution_count": 100,
     "metadata": {},
     "output_type": "execute_result"
    }
   ],
   "source": [
    "X = \"lorem ipsum dolor sit amet\"\n",
    "X.capitalize()"
   ]
  },
  {
   "cell_type": "markdown",
   "id": "5cf6fbe1-e0e9-43c3-909d-83f057e0cb31",
   "metadata": {},
   "source": [
    "---\n",
    "**title**\n",
    "\n",
    "`str.title()` \\- `str`: Convierte la cadena para que tenga la primer letra de cada palabra en mayúsculas.\n",
    "```python\n",
    "str.title()\n",
    "```\n",
    "**Parametros:**\n",
    "- No tiene parámetros\n",
    "\n",
    "**Retorna:**\n",
    "- `str`.\n",
    "\n",
    "**Ejemplo:**"
   ]
  },
  {
   "cell_type": "code",
   "execution_count": 101,
   "id": "67f5889e-230b-42db-aadd-17779bdb9f61",
   "metadata": {},
   "outputs": [
    {
     "data": {
      "text/plain": [
       "'Lorem Ipsum Dolor Sit Amet'"
      ]
     },
     "execution_count": 101,
     "metadata": {},
     "output_type": "execute_result"
    }
   ],
   "source": [
    "X = \"lorem ipsum dolor sit amet\"\n",
    "X.title()"
   ]
  },
  {
   "cell_type": "markdown",
   "id": "b754cd75-bb98-4861-b946-4be3a616a49b",
   "metadata": {},
   "source": [
    "---\n",
    "**lower**\n",
    "\n",
    "`str.lower()` \\- `str`: Convierte una cadena en minúsculas.\n",
    "```python\n",
    "str.lower()\n",
    "```\n",
    "**Parametros:**\n",
    "- No tiene parámetros\n",
    "\n",
    "**Retorna:**\n",
    "- `str`.\n",
    "\n",
    "**Ejemplo:**"
   ]
  },
  {
   "cell_type": "code",
   "execution_count": 102,
   "id": "392ddfcb-9573-41c0-9cd2-9e086f1e576d",
   "metadata": {},
   "outputs": [
    {
     "data": {
      "text/plain": [
       "'lorem ipsum dolor sit amet'"
      ]
     },
     "execution_count": 102,
     "metadata": {},
     "output_type": "execute_result"
    }
   ],
   "source": [
    "X = \"LOREM IPSUM DOLOR SIT AMET\"\n",
    "X.lower()"
   ]
  },
  {
   "cell_type": "markdown",
   "id": "c11dcbcf-bc7f-493e-8bd8-2ca0de010a0f",
   "metadata": {},
   "source": [
    "---\n",
    "**upper**\n",
    "\n",
    "`str.upper()` \\- `str`: Convierte una cadena en mayúsculas.\n",
    "```python\n",
    "str.upper()\n",
    "```\n",
    "**Parametros:**\n",
    "- No tiene parámetros\n",
    "\n",
    "**Retorna:**\n",
    "- `str`.\n",
    "\n",
    "**Ejemplo:**"
   ]
  },
  {
   "cell_type": "code",
   "execution_count": 5,
   "id": "843c2d59-2257-4dff-aced-6e33233ec157",
   "metadata": {},
   "outputs": [
    {
     "data": {
      "text/plain": [
       "'LOREM IPSUM DOLOR SIT AMET'"
      ]
     },
     "execution_count": 5,
     "metadata": {},
     "output_type": "execute_result"
    }
   ],
   "source": [
    "X = \"lorem ipsum dolor sit amet\"\n",
    "X.upper()"
   ]
  },
  {
   "cell_type": "markdown",
   "id": "1f9ac3c7-5a1a-411d-b960-307c925444e4",
   "metadata": {},
   "source": [
    "```{note} \n",
    "Otros métodos para modificar el formato de las cadenas no cubiertos aquí.\n",
    "- `str.swapcase()`\n",
    "- `str.casefold()`\n",
    "```"
   ]
  },
  {
   "cell_type": "markdown",
   "id": "39b068da-9fb9-4d79-9aad-396b903a1cc8",
   "metadata": {},
   "source": [
    "### Reemplazar patrones"
   ]
  },
  {
   "cell_type": "markdown",
   "id": "5bdba3c6-6813-4da8-9431-16c430e85e3b",
   "metadata": {},
   "source": [
    "**replace**\n",
    "\n",
    "`str.replace()` \\- `str`: Sustituye un patrón por uno nuevo.\n",
    "```python\n",
    "str.replace(old, new, [count = -1])\n",
    "```\n",
    "**Parámetros:**\n",
    "- `old`, `new` \\- `str`: Son los patrones.\n",
    "- `count` \\- `int`: Indica cuántas coincidencias remplazar. Por default son todas.\n",
    "\n",
    "**Retorna:**\n",
    "- `str`.\n",
    "\n",
    "**Ejemplo:**"
   ]
  },
  {
   "cell_type": "code",
   "execution_count": 104,
   "id": "748b1c93-ec81-4543-a525-165ad51cc2e5",
   "metadata": {},
   "outputs": [
    {
     "data": {
      "text/plain": [
       "'Lorem ipsum dolor magni amet, consectetur magni adipiscing elit'"
      ]
     },
     "execution_count": 104,
     "metadata": {},
     "output_type": "execute_result"
    }
   ],
   "source": [
    "X = \"Lorem ipsum dolor sit amet, consectetur sit adipiscing elit\"\n",
    "X.replace(\"sit\", \"magni\")"
   ]
  },
  {
   "cell_type": "markdown",
   "id": "a7031f4f-c472-4e47-8122-5c00837eb540",
   "metadata": {},
   "source": [
    "---\n",
    "**maketrans**\n",
    "\n",
    "`str.maketrans()` \\- `dict`: Mapea caracteres por otros caracteres. El objeto retornato se utiliza como argumento de `str.translate()`.\n",
    "```python\n",
    "str.maketrans(x, [y], [z])\n",
    "```\n",
    "**Parámetros:**\n",
    "- `x` \\- `str`: Cadena con los caracteres a reemplazar.\n",
    "- `y` \\- `str`: Cadena con los caracteres que reemplazarán a `x`, debe tener la misma longitud que `x`. Los caracteres se empatan por posición.\n",
    "\n",
    "**Retorna:**\n",
    "- `dict`.\n",
    "\n",
    "```{attention}\n",
    "Existen otras formas de utilizar este método, pero no son cubiertas en esta página.\n",
    "```"
   ]
  },
  {
   "cell_type": "markdown",
   "id": "573250e6-1619-4d9e-90cf-a8162ee9e2aa",
   "metadata": {},
   "source": [
    "---\n",
    "**translate**\n",
    "\n",
    "`str.translate()` \\- `str`: Remplaza caracteres de acuerdo al mapeo indicado en `str.maketrans()`.\n",
    "```python\t\n",
    "str.translate(table)\n",
    "```\n",
    "**Parámetros:**\n",
    "- `table` \\- `dict`: Objeto creado con `str.maketrans`.\n",
    "\n",
    "**Retorna:**\n",
    "- `str`.\n",
    "\n",
    "**Ejemplo:**"
   ]
  },
  {
   "cell_type": "code",
   "execution_count": 105,
   "id": "d71fa1d4-72d6-4e3b-8ddb-33bd67fa88e4",
   "metadata": {},
   "outputs": [
    {
     "data": {
      "text/plain": [
       "'L0r3m 1psum d0l0r s1t 4m3t'"
      ]
     },
     "execution_count": 105,
     "metadata": {},
     "output_type": "execute_result"
    }
   ],
   "source": [
    "X = \"Lorem ipsum dolor sit amet\"\n",
    "table = X.maketrans(\"aeio\", \"4310\")\n",
    "X.translate(table)"
   ]
  },
  {
   "cell_type": "markdown",
   "id": "cb58e39b-80e1-4442-9e0b-c1de137bf4b6",
   "metadata": {},
   "source": [
    "### Separar y Unir:"
   ]
  },
  {
   "cell_type": "markdown",
   "id": "29a8f17c-61b4-465b-9217-ef961e27e576",
   "metadata": {},
   "source": [
    "**join**\n",
    "\n",
    "`str.join()`: Retorna los elementos de un iterable concatenados como cadena, separados por una expresión. Es exactamente lo contrario a split().\n",
    "```python\n",
    "\"exp\".join(X)\n",
    "```\n",
    "**Parámetros:**\n",
    "- `X` \\- `iterable` de `str`: Se unirá cada elemento de X con <code><i>exp</i></code>.\n",
    "- <code><i>exp</i></code> \\- `str`: Es la expresión que habrá en la cadena entre cada elemento.\n",
    "\n",
    "**Retorna:**\n",
    "- `str`.\n",
    "\n",
    "**Ejemplo:**"
   ]
  },
  {
   "cell_type": "code",
   "execution_count": 106,
   "id": "ca6b3c1d-c2ae-4094-853c-8676e2ebdd70",
   "metadata": {},
   "outputs": [
    {
     "name": "stdout",
     "output_type": "stream",
     "text": [
      "Hello World! from python\n",
      "Hello.World!.from.python\n"
     ]
    }
   ],
   "source": [
    "X = [\"Hello\", \"World!\", \"from\", \"python\"]\n",
    "print(\" \".join(X))\n",
    "print(\".\".join(X))"
   ]
  },
  {
   "cell_type": "markdown",
   "id": "4ff6e850-c972-4b3d-9362-9e4cb40b038e",
   "metadata": {},
   "source": [
    "---\n",
    "**split**\n",
    "\n",
    "`str.split()`: Separa una cadena de acuerdo a un patrón y retorna una lista con las subcadenas. \n",
    "```python\n",
    "str.split(sep=\" \", maxsplit=-1)\n",
    "```\n",
    "**Parámetros:**\n",
    "- `sep` \\- `str`: Indica el separador. Por default son espacios en blanco.\n",
    "- `maxspli` \\- `int`: Indica cuántas separaciones máximas hacer, por default son todas.\n",
    "\n",
    "**Retorna:**\n",
    "- `list`\n",
    "\n",
    "**Ejemplo:**"
   ]
  },
  {
   "cell_type": "code",
   "execution_count": 107,
   "id": "72dbb83b-bfc4-43c4-9c2b-c978dca9d09f",
   "metadata": {},
   "outputs": [
    {
     "data": {
      "text/plain": [
       "['Lorem',\n",
       " 'ipsum',\n",
       " 'dolor',\n",
       " 'sit',\n",
       " 'amet,',\n",
       " 'consectetur',\n",
       " 'sit',\n",
       " 'adipiscing',\n",
       " 'elit']"
      ]
     },
     "execution_count": 107,
     "metadata": {},
     "output_type": "execute_result"
    }
   ],
   "source": [
    "X = \"Lorem ipsum dolor sit amet, consectetur sit adipiscing elit\"\n",
    "X.split()"
   ]
  },
  {
   "cell_type": "markdown",
   "id": "0fc6b64c-b628-4a68-a840-67401af1da2c",
   "metadata": {},
   "source": [
    "```{note}\n",
    "Otro método para hacer split:\n",
    "- `str.rsplit(sep=\" \", maxSplit=-1)` \\- `list`: Caso especial de `split()` para que la separación se inicie desde la derecha. Si no se especifica `maxSplit` es lo mismo que `split()`.\n",
    "```"
   ]
  },
  {
   "cell_type": "markdown",
   "id": "fdf23eaa-354b-4066-a279-fa89b882a601",
   "metadata": {},
   "source": [
    "### Eliminar caracteres:"
   ]
  },
  {
   "cell_type": "markdown",
   "id": "7271ee95-a8ab-4749-9c7a-adfe64b8de34",
   "metadata": {},
   "source": [
    "**lstrip**\n",
    "\n",
    "`str.lstrip()` [str] `str`: Elimina los espacios en blanco o un conjunto de caracteres en específico al principio de la cadena.\n",
    "```python\n",
    "X.lstrip([chars = ‘ ’])\n",
    "```\n",
    "**Parámetros:**\n",
    "- `chars` \\- `str`: Los caracteres a eliminar, por default son espacios en blanco. No es un patrón, se eliminan todos los caracteres que estén dentro.\n",
    "\n",
    "**Retorna:**\n",
    "- `str`.\n",
    "\n",
    "**Ejemplo:**"
   ]
  },
  {
   "cell_type": "code",
   "execution_count": 108,
   "id": "f4f9b720-37c2-4c23-8e4a-328c14c150c4",
   "metadata": {},
   "outputs": [
    {
     "data": {
      "text/plain": [
       "'Lorem ipsum dolor sit amet, consectetur sit adipiscing elit...'"
      ]
     },
     "execution_count": 108,
     "metadata": {},
     "output_type": "execute_result"
    }
   ],
   "source": [
    "X = \"...Lorem ipsum dolor sit amet, consectetur sit adipiscing elit...\"\n",
    "X.lstrip(\".\")"
   ]
  },
  {
   "cell_type": "markdown",
   "id": "53f83dce-870a-42a8-b205-482775611978",
   "metadata": {},
   "source": [
    "---\n",
    "**rstrip**\n",
    "\n",
    "`str.rstrip()` [str] `str`: Elimina los espacios en blanco o un conjunto de caracteres en específico al final de la cadena.\n",
    "```python\n",
    "X.rstrip([chars = ‘ ’])\n",
    "```\n",
    "**Parámetros:**\n",
    "- `chars` \\- `str`: Los caracteres a eliminar, por default son espacios en blanco. No es un patrón, se eliminan todos los caracteres que estén dentro.\n",
    "\n",
    "**Retorna:**\n",
    "- `str`.\n",
    "\n",
    "**Ejemplo:**"
   ]
  },
  {
   "cell_type": "code",
   "execution_count": 109,
   "id": "6347e36c-1afb-40a3-890e-fca7788007f4",
   "metadata": {},
   "outputs": [
    {
     "data": {
      "text/plain": [
       "'...Lorem ipsum dolor sit amet, consectetur sit adipiscing elit'"
      ]
     },
     "execution_count": 109,
     "metadata": {},
     "output_type": "execute_result"
    }
   ],
   "source": [
    "X = \"...Lorem ipsum dolor sit amet, consectetur sit adipiscing elit...\"\n",
    "X.rstrip(\".\")"
   ]
  },
  {
   "cell_type": "markdown",
   "id": "659146c7-c3c5-4a23-9021-b0e95ac3b3c3",
   "metadata": {},
   "source": [
    "---\n",
    "**strip**\n",
    "\n",
    "`str.strip()` [str] `str`: Elimina los espacios en blanco o un conjunto de caracteres, al principio y final de una cadena.\n",
    "```python\n",
    "X.strip([chars = ‘ ’])\n",
    "```\n",
    "**Parámetros:**\n",
    "- `chars` \\- `str`: Los caracteres a eliminar, por default son espacios en blanco. No es un patrón, se eliminan todos los caracteres que estén dentro.\n",
    "\n",
    "**Retorna:**\n",
    "- `str`.\n",
    "\n",
    "**Ejemplo:**"
   ]
  },
  {
   "cell_type": "code",
   "execution_count": 110,
   "id": "062ebb9e-5f12-48fa-8424-894a8429168a",
   "metadata": {},
   "outputs": [
    {
     "data": {
      "text/plain": [
       "'Lorem ipsum dolor sit amet, consectetur sit adipiscing elit'"
      ]
     },
     "execution_count": 110,
     "metadata": {},
     "output_type": "execute_result"
    }
   ],
   "source": [
    "X = \"...Lorem ipsum dolor sit amet, consectetur sit adipiscing elit...\"\n",
    "X.strip(\".\")"
   ]
  },
  {
   "cell_type": "markdown",
   "id": "c6b23223-0332-4a68-9a8c-966eeaefc534",
   "metadata": {},
   "source": [
    "### Otros:\n",
    "\n",
    "Otros métodos de cadenas no cubiertos aquí:\n",
    "- `str.encode()`.\n",
    "- `str.expandtabs()`.\n",
    "- `str.format_map()`.\n",
    "- `str.partition()`.\n",
    "- `str.rpartition()`.\n"
   ]
  },
  {
   "cell_type": "markdown",
   "id": "3115a663-8384-456d-90e5-c3ef83321212",
   "metadata": {},
   "source": [
    "## Formatos de cadenas.\n",
    "\n",
    "En esta sección se explica el método `str.format()` y las \"f-strings\" que permiten darle un formato personalizado a las cadenas e incluir de manera dinámica variables en la cadena.\n",
    "\n",
    "```{warning} Existen otros métodos para hacer lo mismo como los `string.Template` o usando el operador `%`, pero no se cubrirán en esta página.\n",
    "```"
   ]
  },
  {
   "cell_type": "markdown",
   "id": "bc9695dd-7662-4a45-ba34-a9b10cf45428",
   "metadata": {},
   "source": [
    "### str.format"
   ]
  },
  {
   "cell_type": "markdown",
   "id": "4a3aec26-0969-4b2a-a01e-99b932ad9910",
   "metadata": {},
   "source": [
    "Es un método que sirve para imprimir valores de variables en algún formato en específico. Para ello en la cadena se deben especificar campos delimitados por corchetes `{}` donde irán los valores.\n",
    "\n",
    "`str.format()`: Da formato a una cadena.\n",
    "```python\n",
    "X.format(*args, **kwargs)\n",
    "```\n",
    "**Parámetros:**:\n",
    "- `*args`: Valores o variables a reemplazar en la cadena. Se puede incluir cualquier tipo de objeto que se pueda imprimir, el valor mostrado será el mismo que el del método `__str__()` o `__repr__()` de la clase del objeto.\n",
    "\n",
    "**Retorna:**\n",
    "- `str`.\n",
    "\n",
    "**Ejemplo:**"
   ]
  },
  {
   "cell_type": "code",
   "execution_count": 1,
   "id": "93d33bc2-501e-4466-8e2f-8c1647232b6a",
   "metadata": {},
   "outputs": [
    {
     "name": "stdout",
     "output_type": "stream",
     "text": [
      "Hello World!\n"
     ]
    }
   ],
   "source": [
    "x = \"World!\"\n",
    "print(\"Hello {0}\".format(x))"
   ]
  },
  {
   "cell_type": "markdown",
   "id": "be34d5fd-f285-4ce9-96c7-0e4f540456f5",
   "metadata": {},
   "source": [
    "---\n",
    "#### Uso\n",
    "\n",
    "Existen tres formas principales de usar este método:\n",
    "\n",
    "**índices**\n",
    "\n",
    "- Dentro de la cadena se puede usar `{0}`, `{1}`, `{2}`, …, que serviría para indicar que se empaten por el índice correspondiente con los argumentos de `str.format()`. \n",
    "- Se puede poner más de una vez algún índice `{i}`, de manera que lo imprima más de una vez en una misma cadena. - - Los índice comienzan en cero.\n",
    "- Si no se indican los índices se empatan por posición los argumentos y los campos `{}`, pero el número de corchetes debe ser igual al número de argumentos.\n",
    "\n",
    "Ejemplos:"
   ]
  },
  {
   "cell_type": "code",
   "execution_count": 1,
   "id": "cfa09c98-ff10-4f13-9e60-d493eb45bbd8",
   "metadata": {},
   "outputs": [
    {
     "name": "stdout",
     "output_type": "stream",
     "text": [
      "Una cadena: texto\n",
      "un número: 10.0\n",
      "un valor booleano: True\n"
     ]
    }
   ],
   "source": [
    "x1 = \"texto\"\n",
    "x2 = 10.0\n",
    "x3 = True\n",
    "cadena = \"Una cadena: {}\\nun número: {}\\nun valor booleano: {}\"\n",
    "print(cadena.format(x1, x2, x3))"
   ]
  },
  {
   "cell_type": "markdown",
   "id": "4c14ed10-eab1-436d-9c7b-e82c7d1028c7",
   "metadata": {},
   "source": [
    "---\n",
    "**nombres**\n",
    "\n",
    "- En la cadena, los campos `{}` deben de tener nombres los cuales se deben especificar en `str.format()` como par  `name=val`.\n",
    "\n",
    "Ejemplo:"
   ]
  },
  {
   "cell_type": "code",
   "execution_count": 6,
   "id": "243bc442-9861-491c-8954-9f1d5fc94fc1",
   "metadata": {},
   "outputs": [
    {
     "name": "stdout",
     "output_type": "stream",
     "text": [
      "Una cadena: texto\n",
      "un número: 10.0\n",
      "un valor booleano: True\n"
     ]
    }
   ],
   "source": [
    "x1 = \"texto\"\n",
    "x2 = 10.0\n",
    "x3 = True\n",
    "cadena = \"Una cadena: {string}\\nun número: {number}\\nun valor booleano: {boolean}\"\n",
    "print(cadena.format(string=x1, number=x2, boolean=x3))"
   ]
  },
  {
   "cell_type": "markdown",
   "id": "7cd93218-cc9a-494c-b4a5-965945b13d1a",
   "metadata": {},
   "source": [
    "---\n",
    "**diccionario**\n",
    "\n",
    "- El argumento de `str.format()` es un diccionario y en los campos `{}` se accede a los valores del diccionario recuperando el valor con los nombres de las llaves del diccionario. \n",
    "- Los nombres de las llaves dentro de la cadena no se deben de poner entre comillas.\n",
    "\n",
    "Ejemplo:"
   ]
  },
  {
   "cell_type": "code",
   "execution_count": 9,
   "id": "3b022cb3-d517-4299-9386-5760d10a57ce",
   "metadata": {},
   "outputs": [
    {
     "name": "stdout",
     "output_type": "stream",
     "text": [
      "Una cadena: texto\n",
      "un número: 10.0\n",
      "un valor booleano: True\n"
     ]
    }
   ],
   "source": [
    "my_dict = {\"string\": \"texto\", \"number\": 10.0, \"boolean\": True}\n",
    "cadena = \"Una cadena: {x[string]}\\nun número: {x[number]}\\nun valor booleano: {x[boolean]}\"\n",
    "print(cadena.format(x=my_dict))"
   ]
  },
  {
   "cell_type": "markdown",
   "id": "c6bccf04-d8dc-47d1-82f8-7085790018b7",
   "metadata": {},
   "source": [
    "---\n",
    "### f-strings\n",
    "\n",
    "Es una alternativa al método `str.format()`, está disponible en Python 3.6+. Requiere una sintaxis más sencilla y es más rápida, para ello se agrega el prefijo `f` a una cadena:\n",
    "\n",
    "**Sintaxis**:\n",
    "```python\n",
    "f\"text ... {expression} ...\"\n",
    "```\n",
    "\n",
    "**Parámetros:**\n",
    "- <code><i>expression</i></code>: Es un valor, un objeto o incluso funciones y/o métodos que retornen un objeto imprimible. El valor mostrado será el mismo que el del método `__str__()` o `__repr__()` de la clase del objeto.\n",
    "\n",
    "**Ejemplo:**"
   ]
  },
  {
   "cell_type": "code",
   "execution_count": 19,
   "id": "991608bb-eaaa-403d-a553-d2395818a652",
   "metadata": {},
   "outputs": [
    {
     "data": {
      "text/plain": [
       "'Esto es un número 10.0 y esto un valor booleano True'"
      ]
     },
     "execution_count": 19,
     "metadata": {},
     "output_type": "execute_result"
    }
   ],
   "source": [
    "x=10.0\n",
    "y=True\n",
    "f\"Esto es un número {x} y esto un valor booleano {y}\""
   ]
  },
  {
   "cell_type": "markdown",
   "id": "d8924e07-b24b-4797-a5ba-75be59701869",
   "metadata": {},
   "source": [
    "Se puede relaizar una conversión en la cadena, algunas conversiones disponibles son:\n",
    "- `!s`: Version en cadena.\n",
    "- `!r`: Cadena en versión imprimible, es decir, entre comillas, (solo funciona si la expresión es `str`).\n",
    "- `!a`: Como `!r` pero ignora los caracteres non-ASCII.\n",
    "\n",
    "**Ejemplos:**"
   ]
  },
  {
   "cell_type": "code",
   "execution_count": 26,
   "id": "3d26d5af-5b71-4612-8894-ec8bc684ec92",
   "metadata": {},
   "outputs": [
    {
     "name": "stdout",
     "output_type": "stream",
     "text": [
      "Convertir a cadena 10\n",
      "Texto entre comillas: 'texto'\n"
     ]
    }
   ],
   "source": [
    "x = 10\n",
    "y = \"texto\"\n",
    "print(f\"Convertir a cadena {x!s}\")\n",
    "print(f\"Texto entre comillas: {y!r}\")"
   ]
  },
  {
   "cell_type": "markdown",
   "id": "57dd7c76-3db1-4de0-87c3-b81af50724b4",
   "metadata": {},
   "source": [
    "### Formatos\n",
    "\n",
    "Para dar formatos, se utiliza dos puntos y el formato que se quiere dar:\n",
    "```python\n",
    "f\"text ... {expression:format}\"\n",
    "\"text ... {expression:format} ...\".format(...)\n",
    "```\n",
    "- <code><i> format </i></code>: Es el formato que se quiere dar."
   ]
  },
  {
   "cell_type": "markdown",
   "id": "3060d371-f8d8-4bff-a402-6525257e4d00",
   "metadata": {},
   "source": [
    "```{list-table}\n",
    ":header-rows: 1\n",
    ":name: label-to-reference\n",
    "\n",
    "* - Tipo.\n",
    "  - Resultado.\n",
    "* - `{i:<N}`.\n",
    "  - Alinea el texto a la izquierda, dejando N espacios en blanco a la derecha.\n",
    "* - `{i:>N}`.\n",
    "  - Alinea el texto a la derecha, dejando N espacios en blanco a la izquierda.\n",
    "* - `{i:^N}`.\n",
    "  - Alinea el texto al centro, dejando N/2 espacios en blanco a la der. e izq.\n",
    "* - `{i:+}`.\n",
    "  - Imprime el signo del número, positivos y negativos.\n",
    "* - `{i:-}`.\n",
    "  - Imprime el signo del número, solo el de los negativos.\n",
    "* - `{i:,}`.\n",
    "  - Separa con una coma los miles.\n",
    "* - `{i:.Ne}`.\n",
    "  - Imprime el número en formato científico, con la e en minúscula, con N decimales.\n",
    "* - `{i:.NE}`.\n",
    "  - Imprime el número en formato científico, con la E en minúscula, con N decimales.\n",
    "* - `{i:.Nf}`.\n",
    "  - Imprime un número décimal, con N decimales.\n",
    "* - `{i:.N%}`.\n",
    "  - Imprime un número en formato de porcentaje, con N décimales, el número tiene que ser >0 y <1.\n",
    "* - `{i:s}`.\n",
    "  - Para darle formato como cadena.\n",
    "* - `{i:d}`.\n",
    "  - Para que sea un entero exacto (sin décimales).\n",
    "* - `{i:códigos}`.\n",
    "  - Para imprimir una fecha, se utilizan los códigos de fechas, junto con otros caracteres. Por ejemplo `%Y-%m-%d`.\n",
    "```\n",
    "- _N_: Son números enteros, suelen ser opcionales.\n",
    "- _i_: Es la expresión, número, cadenas, etc. a la que se le dará formato."
   ]
  },
  {
   "cell_type": "code",
   "execution_count": 2,
   "id": "5f765af6-918f-4bd7-84f1-90cbd9014a13",
   "metadata": {},
   "outputs": [
    {
     "name": "stdout",
     "output_type": "stream",
     "text": [
      "Sin formato: 1897.9876\n",
      "Separar los miles: 1,897.9876\n",
      "Notación científica con 1 décimal: 1.9e+03\n",
      "Con tres décimales (redondea) 1897.988\n",
      "Combinación de separación de miles y 2 décimales:1,897.99\n"
     ]
    }
   ],
   "source": [
    "# Ejemplos con f-strings\n",
    "\n",
    "x = 1897.9876\n",
    "print(f\"Sin formato: {x}\")\n",
    "print(f\"Separar los miles: {x:,}\")\n",
    "print(f\"Notación científica con 1 décimal: {x:.1e}\")\n",
    "print(f\"Con tres décimales (redondea) {x:.3f}\")\n",
    "print(f\"Combinación de separación de miles y 2 décimales:{x:,.2f}\")"
   ]
  },
  {
   "cell_type": "code",
   "execution_count": null,
   "id": "3a51969b-c253-42cb-a175-fc649729b165",
   "metadata": {},
   "outputs": [],
   "source": []
  }
 ],
 "metadata": {
  "kernelspec": {
   "display_name": "Python 3 (ipykernel)",
   "language": "python",
   "name": "python3"
  },
  "language_info": {
   "codemirror_mode": {
    "name": "ipython",
    "version": 3
   },
   "file_extension": ".py",
   "mimetype": "text/x-python",
   "name": "python",
   "nbconvert_exporter": "python",
   "pygments_lexer": "ipython3",
   "version": "3.7.7"
  },
  "vscode": {
   "interpreter": {
    "hash": "aee8b7b246df8f9039afb4144a1f6fd8d2ca17a180786b69acc140d282b71a49"
   }
  }
 },
 "nbformat": 4,
 "nbformat_minor": 5
}
