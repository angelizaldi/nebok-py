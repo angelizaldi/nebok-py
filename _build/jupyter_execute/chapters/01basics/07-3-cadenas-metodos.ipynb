{
 "cells": [
  {
   "cell_type": "markdown",
   "id": "d0333e95",
   "metadata": {},
   "source": [
    "# Métodos de cadenas\n",
    "\n",
    "En esta sección se explicarán algunos de los métodos de `str`, con ejemplos. Para información más detallada de todos los métodos visitar la [página](https://docs.python.org/3.8/library/stdtypes.html#string-methods) oficial.\n",
    "\n",
    "Los ejemplos suponen que el método se aplica directamente sobre un objeto que es `str`, pero es posible usar el objeto como argumento, por ejemplo, en lugar de usar `X.upper()` se puede usar:\n",
    "```python\n",
    "# X es str\n",
    "str.upper(X)\n",
    "```\n",
    "- En ese caso el primer argumento debe de ser la cadena."
   ]
  },
  {
   "cell_type": "markdown",
   "id": "0dc34267",
   "metadata": {},
   "source": [
    "---\n",
    "## Buscar patrones:\n",
    "\n",
    "Métodos para buscar\n",
    "\n",
    "**find**\n",
    "\n",
    "`str.find()`: Retorna la primer posición de la cadena donde se encuentra un patrón, pero si no encuentra el patrón retorna -1.\n",
    "```python\n",
    "str.find(sub, [start=0], [end=-1])\n",
    "```\n",
    "**Parámetros:**\n",
    "- **`sub`** \\- `str`: Es el patrón a buscar.\n",
    "- **`start`**, **`end`** \\- `int`: Para indicar desde cuál y hasta cuál elemento buscar el patrón, `end` es exclusivo. Por default es desde el inicio hasta el final.\n",
    "- Existe un método similar pero para devolver la última coincidencia es `str.rfind()`.\n",
    "\n",
    "**Retorna:**\n",
    "- `int`.\n",
    "\n",
    "**Ejemplo:**"
   ]
  },
  {
   "cell_type": "code",
   "execution_count": 1,
   "id": "54df9ca8",
   "metadata": {},
   "outputs": [
    {
     "name": "stdout",
     "output_type": "stream",
     "text": [
      "18\n",
      "-1\n"
     ]
    }
   ],
   "source": [
    "X = \"Lorem ipsum dolor sit amet, consectetur sit adipiscing elit\"\n",
    "print(X.find(\"sit\"))\n",
    "\n",
    "#Retorna -1\n",
    "print(X.find(\"totam\"))"
   ]
  },
  {
   "cell_type": "markdown",
   "id": "5f489773",
   "metadata": {},
   "source": [
    "---\n",
    "**index**\n",
    "\n",
    "`str.index()`: Retorna la primer posición de la cadena donde se encuentra un patrón. Si no encuentra el patrón retorna un error `ValueError`. \n",
    "```python\n",
    "str.index(sub, [start=0], [end=-1])\n",
    "```\n",
    "**Parámetros:**\n",
    "- **`sub`** \\- `str`: Es el patrón a buscar.\n",
    "- **`start`**, **`end`** \\- `int`: Para indicar desde cuál y hasta cuál elemento buscar el patrón, `end` es exclusivo. Por default es desde el inicio hasta el final.\n",
    "\n",
    "**Retorna:**\n",
    "- `int` o `ValueError`.\n",
    "\n",
    "**Ejemplo:**"
   ]
  },
  {
   "cell_type": "code",
   "execution_count": 2,
   "id": "0a13b9ed",
   "metadata": {},
   "outputs": [
    {
     "name": "stdout",
     "output_type": "stream",
     "text": [
      "18\n"
     ]
    }
   ],
   "source": [
    "X = \"Lorem ipsum dolor sit amet, consectetur sit adipiscing elit\"\n",
    "print(X.index(\"sit\"))"
   ]
  },
  {
   "cell_type": "markdown",
   "id": "0a28af94",
   "metadata": {},
   "source": [
    "```{note}\n",
    "Otros métodos para conocer información sobre búsqueda de patrones no cubiertos aquí.\n",
    "- `str.rfind()`: Como `str.find` pero retorna información de la última coincidencia.\n",
    "- `str.rindex()`: Como `str.index` pero retorna información de la última coincidencia.\n",
    "```"
   ]
  },
  {
   "cell_type": "markdown",
   "id": "4bbbbb30",
   "metadata": {},
   "source": [
    "---\n",
    "## Información de la cadena:"
   ]
  },
  {
   "cell_type": "markdown",
   "id": "598e99e0",
   "metadata": {},
   "source": [
    "**count**\n",
    "\n",
    "`str.count()`: Retorna el número de veces que hay un patrón en una cadena.\n",
    "```python\n",
    "str.count(sub=\"pattern\", [start=0], [end=-1])\n",
    "```\n",
    "**Parámetros:**\n",
    "- **`sub`**\\- `str`: Es el patrón a buscar.\n",
    "- **`star`**, **`end`**\\- `int`: Para indicar desde cuál y hasta cuál elemento buscar el patrón. Por default es desde el inicio hasta el final.\n",
    "\n",
    "**Retorna:**\n",
    "- `int`.\n",
    "\n",
    "**Ejemplo:**"
   ]
  },
  {
   "cell_type": "code",
   "execution_count": 3,
   "id": "f3073f96",
   "metadata": {},
   "outputs": [
    {
     "data": {
      "text/plain": [
       "2"
      ]
     },
     "execution_count": 3,
     "metadata": {},
     "output_type": "execute_result"
    }
   ],
   "source": [
    "X = \"Lorem ipsum dolor sit amet, consectetur sit adipiscing elit\"\n",
    "X.count(\"sit\")"
   ]
  },
  {
   "cell_type": "markdown",
   "id": "2a44f855",
   "metadata": {},
   "source": [
    "---\n",
    "**endswith**\n",
    "\n",
    "`str.endswith()`: Retorna `True` si la cadena termina con algún patron en específic, `False` en caso contrario.\n",
    "```python\n",
    "str.endswith(suffix=\"pattern\", [start=0], [end=-1])\n",
    "```\n",
    "**Parámetros:**\n",
    "- **`suffix`** \\- `str`: Es el sufijo a buscar.\n",
    "- **`star`**, **`end`**\\- `int`: Para indicar desde cuál y hasta cuál elemento buscar el patrón. Por default es desde el inicio hasta el final.\n",
    "\n",
    "**Retorna:**\n",
    "- `bool`.\n",
    "\n",
    "**Ejemplo:**"
   ]
  },
  {
   "cell_type": "code",
   "execution_count": 4,
   "id": "bbcfdd0f",
   "metadata": {},
   "outputs": [
    {
     "data": {
      "text/plain": [
       "True"
      ]
     },
     "execution_count": 4,
     "metadata": {},
     "output_type": "execute_result"
    }
   ],
   "source": [
    "X = \"Lorem ipsum dolor sit amet, consectetur sit adipiscing elit\"\n",
    "X.startswith(\"Lor\")"
   ]
  },
  {
   "cell_type": "markdown",
   "id": "17ca76aa",
   "metadata": {},
   "source": [
    "---\n",
    "**isalnum**\n",
    "\n",
    "`str.isalnum()` \\- `bool`: Retorna `True` si todos los caracteres de la cadena son alfanuméricos, `False` en caso contrario.\n",
    "```python\n",
    "str.isalnum()\n",
    "```\n",
    "**Parámetros:**\n",
    "- No tiene parámetros\n",
    "\n",
    "**Retorna:**\n",
    "- `bool`.\n",
    "\n",
    "**Ejemplo:**"
   ]
  },
  {
   "cell_type": "code",
   "execution_count": 5,
   "id": "406bf64a",
   "metadata": {},
   "outputs": [
    {
     "name": "stdout",
     "output_type": "stream",
     "text": [
      "True\n",
      "False\n"
     ]
    }
   ],
   "source": [
    "X = \"abc123\"\n",
    "Y = \"abc.123\"\n",
    "\n",
    "print(X.isalnum())\n",
    "print(Y.isalnum())"
   ]
  },
  {
   "cell_type": "markdown",
   "id": "faed7711",
   "metadata": {},
   "source": [
    "---\n",
    "**isnumeric**\n",
    "\n",
    "`str.isnumeric()` \\- `bool`: Retorna `True` si todos los caracteres de la cadena son numéricos.\n",
    "```python\n",
    "str.isnumeric()\n",
    "```\n",
    "**Parámetros:**\n",
    "- No tiene parámetros\n",
    "\n",
    "**Retorna:**\n",
    "- `bool`.\n",
    "\n",
    "**Ejemplo:**"
   ]
  },
  {
   "cell_type": "code",
   "execution_count": 6,
   "id": "d24c2d72",
   "metadata": {},
   "outputs": [
    {
     "name": "stdout",
     "output_type": "stream",
     "text": [
      "True\n",
      "False\n",
      "False\n"
     ]
    }
   ],
   "source": [
    "X = \"123456\"\n",
    "Y = \"99.00\"\n",
    "Z = \"123abc\"\n",
    "\n",
    "print(X.isnumeric())\n",
    "print(Y.isnumeric())\n",
    "print(Y.isnumeric())"
   ]
  },
  {
   "cell_type": "markdown",
   "id": "c8a580de",
   "metadata": {},
   "source": [
    "---\n",
    "**isupper**\n",
    "\n",
    "`str.isupper()` \\- `bool`: Retorna `True` si todos los caracteres son mayúsculas y hay al menos un caracter alfabético en mayúsculas, si no, retorna `False`.\n",
    "```python\n",
    "str.isupper() \n",
    "```\n",
    "**Parámetros:**\n",
    "- No tiene parámetros\n",
    "\n",
    "**Retorna:**\n",
    "- `bool`.\n",
    "\n",
    "**Ejemplo:**"
   ]
  },
  {
   "cell_type": "code",
   "execution_count": 7,
   "id": "1a5ed136",
   "metadata": {},
   "outputs": [
    {
     "name": "stdout",
     "output_type": "stream",
     "text": [
      "True\n",
      "False\n"
     ]
    }
   ],
   "source": [
    "X = \"ABC123\"\n",
    "Y = \"ABc123\"\n",
    "\n",
    "print(X.isupper())\n",
    "print(Y.isupper())"
   ]
  },
  {
   "cell_type": "markdown",
   "id": "7002a810",
   "metadata": {},
   "source": [
    "```{note}\n",
    "Otros métodos para conocer información sobre las cadenas no cubiertos aquí.\n",
    "- `str.startswith()`: Para verificar que una cadena comienza con un patrón en específico.\n",
    "- `str.isdecimal()`: Para verificar que una cadena represente una valor número décimal.\n",
    "- `str.isdigit()`: Para verificar que una cadena represente un número.\n",
    "- `str.isidentifier()`.\n",
    "- `str.islower()`: Para verificar que todos los caracteres de una cadena sean minúsculas.\n",
    "- `str.isprintable()`: Para verificar que todos los caracteres de una cadena sean imprimibles.\n",
    "- `str.isspace()`.\n",
    "- `str.istitle()`.\n",
    "```"
   ]
  },
  {
   "cell_type": "markdown",
   "id": "3f517080",
   "metadata": {},
   "source": [
    "## Formato de la cadena:"
   ]
  },
  {
   "cell_type": "markdown",
   "id": "add9c216",
   "metadata": {},
   "source": [
    "**zfill**\n",
    "\n",
    "`str.zfill()` \\- `str`: Retorna una cadena agregando ceros al principio de la cadena (si es necesario), para que tenga una longitud específica.\n",
    "```python\n",
    "str.zfill(width)\n",
    "```\n",
    "**Parámetros:**\n",
    "- `witdh` \\- `int`: Es la longitud que se desea que tenga la cadena.\n",
    "\n",
    "**Retorna:**\n",
    "- `str`.\n",
    "\n",
    "**Ejemplo:**"
   ]
  },
  {
   "cell_type": "code",
   "execution_count": 8,
   "id": "b31d1ec8",
   "metadata": {},
   "outputs": [
    {
     "data": {
      "text/plain": [
       "'00000Lorep'"
      ]
     },
     "execution_count": 8,
     "metadata": {},
     "output_type": "execute_result"
    }
   ],
   "source": [
    "X = \"Lorep\"\n",
    "X.zfill(10)"
   ]
  },
  {
   "cell_type": "markdown",
   "id": "41ad6827",
   "metadata": {},
   "source": [
    "---\n",
    "**center**\n",
    "\n",
    "`str.center()` \\- `str`: Retorna una cadena agregando caracteres al princio y al final, para que tenga una longitud determinada y la cadena original esté al centro.\n",
    "```python\n",
    "str.center(width, [fillchar = \" \"])\n",
    "```\n",
    "**Parámetros:**\n",
    "- `witdh` \\- `int`: Es la longitud que se desea que tenga la cadena.\n",
    "- `fillchar` \\- `str`: Es el carácter que se desea agregar al principio y al final. Por default son espacios en blanco.\n",
    "\n",
    "**Retorna:**\n",
    "- `str`.\n",
    "\n",
    "**Ejemplo:**"
   ]
  },
  {
   "cell_type": "code",
   "execution_count": 9,
   "id": "7bb72725",
   "metadata": {},
   "outputs": [
    {
     "name": "stdout",
     "output_type": "stream",
     "text": [
      "  Lorep   \n",
      "..Lorep...\n"
     ]
    }
   ],
   "source": [
    "X = \"Lorep\"\n",
    "print(X.center(10))\n",
    "print(X.center(10, \".\"))"
   ]
  },
  {
   "cell_type": "markdown",
   "id": "dc72cf92",
   "metadata": {},
   "source": [
    "---\n",
    "**ljust**\n",
    "\n",
    "`str.ljust()` \\- `str`: Justifica el texto a la izquierda, agregando caracteres al final de la cadena para que tenga una longitud determinada.\n",
    "```python\n",
    "str.ljust(width, [fillchar = \" \"])\n",
    "```\n",
    "**Parámetros:**\n",
    "- `witdh` \\- `int`: Es la longitud que se desea que tenga la cadena.\n",
    "- `fillchar` \\- `str`: Es el carácter que se desea agregar al final. Por default son espacios en blanco.\n",
    "\n",
    "**Retorna:**\n",
    "- `str`.\n",
    "\n",
    "**Ejemplo:**"
   ]
  },
  {
   "cell_type": "code",
   "execution_count": 10,
   "id": "022c0dde",
   "metadata": {},
   "outputs": [
    {
     "name": "stdout",
     "output_type": "stream",
     "text": [
      "Lorep     \n",
      "Lorep.....\n"
     ]
    }
   ],
   "source": [
    "X = \"Lorep\"\n",
    "print(X.ljust(10))\n",
    "print(X.ljust(10, \".\"))"
   ]
  },
  {
   "cell_type": "markdown",
   "id": "6aa590a1",
   "metadata": {},
   "source": [
    "---\n",
    "**rjust**\n",
    "\n",
    "`str.rjust()` \\- `str`: Justifica el texto a la derecha, agregando caracteres al principio de la cadena para que tenga una longitud determinada.\n",
    "```python\n",
    "str.rjust(width, [fillchar = \" \"])\n",
    "```\n",
    "**Parámetros:**\n",
    "- `witdh` \\- `int`: Es la longitud que se desea que tenga la cadena.\n",
    "- `fillchar` \\- `str`: Es el carácter que se desea agregar al principio. Por default son espacios en blanco.\n",
    "\n",
    "**Retorna:**\n",
    "- `str`.\n",
    "\n",
    "**Ejemplo:**"
   ]
  },
  {
   "cell_type": "code",
   "execution_count": 11,
   "id": "d1a38b7e",
   "metadata": {},
   "outputs": [
    {
     "name": "stdout",
     "output_type": "stream",
     "text": [
      "     Lorep\n",
      ".....Lorep\n"
     ]
    }
   ],
   "source": [
    "X = \"Lorep\"\n",
    "print(X.rjust(10))\n",
    "print(X.rjust(10, \".\"))"
   ]
  },
  {
   "cell_type": "markdown",
   "id": "f0a15b8d",
   "metadata": {},
   "source": [
    "---\n",
    "**capitalize**\n",
    "\n",
    "`str.capitalize()` \\- `str`: Convierte la cadena para que tenga la primer letra en mayúsculas y el resto en minúsculas.\n",
    "```python\n",
    "str.capitalize()\n",
    "```\n",
    "**Parametros:**\n",
    "- No tiene parámetros\n",
    "\n",
    "**Retorna:**\n",
    "- `str`.\n",
    "\n",
    "**Ejemplo:**"
   ]
  },
  {
   "cell_type": "code",
   "execution_count": 12,
   "id": "2c05b017",
   "metadata": {},
   "outputs": [
    {
     "data": {
      "text/plain": [
       "'Lorem ipsum dolor sit amet'"
      ]
     },
     "execution_count": 12,
     "metadata": {},
     "output_type": "execute_result"
    }
   ],
   "source": [
    "X = \"lorem ipsum dolor sit amet\"\n",
    "X.capitalize()"
   ]
  },
  {
   "cell_type": "markdown",
   "id": "41a3c345",
   "metadata": {},
   "source": [
    "---\n",
    "**title**\n",
    "\n",
    "`str.title()` \\- `str`: Convierte la cadena para que tenga la primer letra de cada palabra en mayúsculas.\n",
    "```python\n",
    "str.title()\n",
    "```\n",
    "**Parametros:**\n",
    "- No tiene parámetros\n",
    "\n",
    "**Retorna:**\n",
    "- `str`.\n",
    "\n",
    "**Ejemplo:**"
   ]
  },
  {
   "cell_type": "code",
   "execution_count": 13,
   "id": "fd315f58",
   "metadata": {},
   "outputs": [
    {
     "data": {
      "text/plain": [
       "'Lorem Ipsum Dolor Sit Amet'"
      ]
     },
     "execution_count": 13,
     "metadata": {},
     "output_type": "execute_result"
    }
   ],
   "source": [
    "X = \"lorem ipsum dolor sit amet\"\n",
    "X.title()"
   ]
  },
  {
   "cell_type": "markdown",
   "id": "b273af81",
   "metadata": {},
   "source": [
    "---\n",
    "**lower**\n",
    "\n",
    "`str.lower()` \\- `str`: Convierte una cadena en minúsculas.\n",
    "```python\n",
    "str.lower()\n",
    "```\n",
    "**Parametros:**\n",
    "- No tiene parámetros\n",
    "\n",
    "**Retorna:**\n",
    "- `str`.\n",
    "\n",
    "**Ejemplo:**"
   ]
  },
  {
   "cell_type": "code",
   "execution_count": 14,
   "id": "7b7cb669",
   "metadata": {},
   "outputs": [
    {
     "data": {
      "text/plain": [
       "'lorem ipsum dolor sit amet'"
      ]
     },
     "execution_count": 14,
     "metadata": {},
     "output_type": "execute_result"
    }
   ],
   "source": [
    "X = \"LOREM IPSUM DOLOR SIT AMET\"\n",
    "X.lower()"
   ]
  },
  {
   "cell_type": "markdown",
   "id": "e47c7ee5",
   "metadata": {},
   "source": [
    "---\n",
    "**upper**\n",
    "\n",
    "`str.upper()` \\- `str`: Convierte una cadena en mayúsculas.\n",
    "```python\n",
    "str.upper()\n",
    "```\n",
    "**Parametros:**\n",
    "- No tiene parámetros\n",
    "\n",
    "**Retorna:**\n",
    "- `str`.\n",
    "\n",
    "**Ejemplo:**"
   ]
  },
  {
   "cell_type": "code",
   "execution_count": 15,
   "id": "30c86dfd",
   "metadata": {},
   "outputs": [
    {
     "data": {
      "text/plain": [
       "'LOREM IPSUM DOLOR SIT AMET'"
      ]
     },
     "execution_count": 15,
     "metadata": {},
     "output_type": "execute_result"
    }
   ],
   "source": [
    "X = \"lorem ipsum dolor sit amet\"\n",
    "X.upper()"
   ]
  },
  {
   "cell_type": "markdown",
   "id": "be314a0f",
   "metadata": {},
   "source": [
    "```{note} \n",
    "Otros métodos para modificar el formato de las cadenas no cubiertos aquí.\n",
    "- `str.swapcase()`\n",
    "- `str.casefold()`\n",
    "```"
   ]
  },
  {
   "cell_type": "markdown",
   "id": "51224b75",
   "metadata": {},
   "source": [
    "## Reemplazar patrones"
   ]
  },
  {
   "cell_type": "markdown",
   "id": "f876ac13",
   "metadata": {},
   "source": [
    "**replace**\n",
    "\n",
    "`str.replace()` \\- `str`: Sustituye un patrón por uno nuevo.\n",
    "```python\n",
    "str.replace(old, new, [count = -1])\n",
    "```\n",
    "**Parámetros:**\n",
    "- `old`, `new` \\- `str`: Son los patrones.\n",
    "- `count` \\- `int`: Indica cuántas coincidencias remplazar. Por default son todas.\n",
    "\n",
    "**Retorna:**\n",
    "- `str`.\n",
    "\n",
    "**Ejemplo:**"
   ]
  },
  {
   "cell_type": "code",
   "execution_count": 16,
   "id": "b9007229",
   "metadata": {},
   "outputs": [
    {
     "data": {
      "text/plain": [
       "'Lorem ipsum dolor magni amet, consectetur magni adipiscing elit'"
      ]
     },
     "execution_count": 16,
     "metadata": {},
     "output_type": "execute_result"
    }
   ],
   "source": [
    "X = \"Lorem ipsum dolor sit amet, consectetur sit adipiscing elit\"\n",
    "X.replace(\"sit\", \"magni\")"
   ]
  },
  {
   "cell_type": "markdown",
   "id": "bbd3850e",
   "metadata": {},
   "source": [
    "---\n",
    "**maketrans**\n",
    "\n",
    "`str.maketrans()` \\- `dict`: Mapea caracteres por otros caracteres. El objeto retornato se utiliza como argumento de `str.translate()`.\n",
    "```python\n",
    "str.maketrans(x, [y], [z])\n",
    "```\n",
    "**Parámetros:**\n",
    "- `x` \\- `str`: Cadena con los caracteres a reemplazar.\n",
    "- `y` \\- `str`: Cadena con los caracteres que reemplazarán a `x`, debe tener la misma longitud que `x`. Los caracteres se empatan por posición.\n",
    "\n",
    "**Retorna:**\n",
    "- `dict`.\n",
    "\n",
    "```{attention}\n",
    "Existen otras formas de utilizar este método, pero no son cubiertas en esta página.\n",
    "```"
   ]
  },
  {
   "cell_type": "markdown",
   "id": "4b46a6a1",
   "metadata": {},
   "source": [
    "---\n",
    "**translate**\n",
    "\n",
    "`str.translate()` \\- `str`: Remplaza caracteres de acuerdo al mapeo indicado en `str.maketrans()`.\n",
    "```python\t\n",
    "str.translate(table)\n",
    "```\n",
    "**Parámetros:**\n",
    "- `table` \\- `dict`: Objeto creado con `str.maketrans`.\n",
    "\n",
    "**Retorna:**\n",
    "- `str`.\n",
    "\n",
    "**Ejemplo:**"
   ]
  },
  {
   "cell_type": "code",
   "execution_count": 17,
   "id": "14b59a25",
   "metadata": {},
   "outputs": [
    {
     "data": {
      "text/plain": [
       "'L0r3m 1psum d0l0r s1t 4m3t'"
      ]
     },
     "execution_count": 17,
     "metadata": {},
     "output_type": "execute_result"
    }
   ],
   "source": [
    "X = \"Lorem ipsum dolor sit amet\"\n",
    "table = X.maketrans(\"aeio\", \"4310\")\n",
    "X.translate(table)"
   ]
  },
  {
   "cell_type": "markdown",
   "id": "6bcff15c",
   "metadata": {},
   "source": [
    "## Separar y Unir:"
   ]
  },
  {
   "cell_type": "markdown",
   "id": "71b1feee",
   "metadata": {},
   "source": [
    "**join**\n",
    "\n",
    "`str.join()`: Retorna los elementos de un iterable concatenados como cadena, separados por una expresión. Es exactamente lo contrario a split().\n",
    "```python\n",
    "\"exp\".join(X)\n",
    "```\n",
    "**Parámetros:**\n",
    "- `X` \\- `iterable` de `str`: Se unirá cada elemento de X con <code><i>exp</i></code>.\n",
    "- <code><i>exp</i></code> \\- `str`: Es la expresión que habrá en la cadena entre cada elemento.\n",
    "\n",
    "**Retorna:**\n",
    "- `str`.\n",
    "\n",
    "**Ejemplo:**"
   ]
  },
  {
   "cell_type": "code",
   "execution_count": 18,
   "id": "d50cd850",
   "metadata": {},
   "outputs": [
    {
     "name": "stdout",
     "output_type": "stream",
     "text": [
      "Hello World! from python\n",
      "Hello.World!.from.python\n"
     ]
    }
   ],
   "source": [
    "X = [\"Hello\", \"World!\", \"from\", \"python\"]\n",
    "print(\" \".join(X))\n",
    "print(\".\".join(X))"
   ]
  },
  {
   "cell_type": "markdown",
   "id": "00c52750",
   "metadata": {},
   "source": [
    "---\n",
    "**split**\n",
    "\n",
    "`str.split()`: Separa una cadena de acuerdo a un patrón y retorna una lista con las subcadenas. \n",
    "```python\n",
    "str.split(sep=\" \", maxsplit=-1)\n",
    "```\n",
    "**Parámetros:**\n",
    "- `sep` \\- `str`: Indica el separador. Por default son espacios en blanco.\n",
    "- `maxspli` \\- `int`: Indica cuántas separaciones máximas hacer, por default son todas.\n",
    "\n",
    "**Retorna:**\n",
    "- `list`\n",
    "\n",
    "**Ejemplo:**"
   ]
  },
  {
   "cell_type": "code",
   "execution_count": 19,
   "id": "f9b081e9",
   "metadata": {},
   "outputs": [
    {
     "data": {
      "text/plain": [
       "['Lorem',\n",
       " 'ipsum',\n",
       " 'dolor',\n",
       " 'sit',\n",
       " 'amet,',\n",
       " 'consectetur',\n",
       " 'sit',\n",
       " 'adipiscing',\n",
       " 'elit']"
      ]
     },
     "execution_count": 19,
     "metadata": {},
     "output_type": "execute_result"
    }
   ],
   "source": [
    "X = \"Lorem ipsum dolor sit amet, consectetur sit adipiscing elit\"\n",
    "X.split()"
   ]
  },
  {
   "cell_type": "markdown",
   "id": "7ebabc04",
   "metadata": {},
   "source": [
    "```{note}\n",
    "Otro método para hacer split:\n",
    "- `str.rsplit(sep=\" \", maxSplit=-1)` \\- `list`: Caso especial de `split()` para que la separación se inicie desde la derecha. Si no se especifica `maxSplit` es lo mismo que `split()`.\n",
    "```"
   ]
  },
  {
   "cell_type": "markdown",
   "id": "272ad1f8",
   "metadata": {},
   "source": [
    "## Eliminar caracteres:"
   ]
  },
  {
   "cell_type": "markdown",
   "id": "ebd3daae",
   "metadata": {},
   "source": [
    "**lstrip**\n",
    "\n",
    "`str.lstrip()` [str] `str`: Elimina los espacios en blanco o un conjunto de caracteres en específico al principio de la cadena.\n",
    "```python\n",
    "X.lstrip([chars = ‘ ’])\n",
    "```\n",
    "**Parámetros:**\n",
    "- `chars` \\- `str`: Los caracteres a eliminar, por default son espacios en blanco. No es un patrón, se eliminan todos los caracteres que estén dentro.\n",
    "\n",
    "**Retorna:**\n",
    "- `str`.\n",
    "\n",
    "**Ejemplo:**"
   ]
  },
  {
   "cell_type": "code",
   "execution_count": 20,
   "id": "b193a277",
   "metadata": {},
   "outputs": [
    {
     "data": {
      "text/plain": [
       "'Lorem ipsum dolor sit amet, consectetur sit adipiscing elit...'"
      ]
     },
     "execution_count": 20,
     "metadata": {},
     "output_type": "execute_result"
    }
   ],
   "source": [
    "X = \"...Lorem ipsum dolor sit amet, consectetur sit adipiscing elit...\"\n",
    "X.lstrip(\".\")"
   ]
  },
  {
   "cell_type": "markdown",
   "id": "c7da7eaa",
   "metadata": {},
   "source": [
    "---\n",
    "**rstrip**\n",
    "\n",
    "`str.rstrip()` [str] `str`: Elimina los espacios en blanco o un conjunto de caracteres en específico al final de la cadena.\n",
    "```python\n",
    "X.rstrip([chars = ‘ ’])\n",
    "```\n",
    "**Parámetros:**\n",
    "- `chars` \\- `str`: Los caracteres a eliminar, por default son espacios en blanco. No es un patrón, se eliminan todos los caracteres que estén dentro.\n",
    "\n",
    "**Retorna:**\n",
    "- `str`.\n",
    "\n",
    "**Ejemplo:**"
   ]
  },
  {
   "cell_type": "code",
   "execution_count": 21,
   "id": "440de983",
   "metadata": {},
   "outputs": [
    {
     "data": {
      "text/plain": [
       "'...Lorem ipsum dolor sit amet, consectetur sit adipiscing elit'"
      ]
     },
     "execution_count": 21,
     "metadata": {},
     "output_type": "execute_result"
    }
   ],
   "source": [
    "X = \"...Lorem ipsum dolor sit amet, consectetur sit adipiscing elit...\"\n",
    "X.rstrip(\".\")"
   ]
  },
  {
   "cell_type": "markdown",
   "id": "e90b6178",
   "metadata": {},
   "source": [
    "---\n",
    "**strip**\n",
    "\n",
    "`str.strip()` [str] `str`: Elimina los espacios en blanco o un conjunto de caracteres, al principio y final de una cadena.\n",
    "```python\n",
    "X.strip([chars = ‘ ’])\n",
    "```\n",
    "**Parámetros:**\n",
    "- `chars` \\- `str`: Los caracteres a eliminar, por default son espacios en blanco. No es un patrón, se eliminan todos los caracteres que estén dentro.\n",
    "\n",
    "**Retorna:**\n",
    "- `str`.\n",
    "\n",
    "**Ejemplo:**"
   ]
  },
  {
   "cell_type": "code",
   "execution_count": 22,
   "id": "2c19f280",
   "metadata": {},
   "outputs": [
    {
     "data": {
      "text/plain": [
       "'Lorem ipsum dolor sit amet, consectetur sit adipiscing elit'"
      ]
     },
     "execution_count": 22,
     "metadata": {},
     "output_type": "execute_result"
    }
   ],
   "source": [
    "X = \"...Lorem ipsum dolor sit amet, consectetur sit adipiscing elit...\"\n",
    "X.strip(\".\")"
   ]
  },
  {
   "cell_type": "markdown",
   "id": "0e5bec87",
   "metadata": {},
   "source": [
    "## Otros:\n",
    "\n",
    "Otros métodos de cadenas no cubiertos aquí:\n",
    "- `str.encode()`.\n",
    "- `str.expandtabs()`.\n",
    "- `str.format_map()`.\n",
    "- `str.partition()`.\n",
    "- `str.rpartition()`.\n"
   ]
  }
 ],
 "metadata": {
  "kernelspec": {
   "display_name": "Python 3 (ipykernel)",
   "language": "python",
   "name": "python3"
  },
  "language_info": {
   "codemirror_mode": {
    "name": "ipython",
    "version": 3
   },
   "file_extension": ".py",
   "mimetype": "text/x-python",
   "name": "python",
   "nbconvert_exporter": "python",
   "pygments_lexer": "ipython3",
   "version": "3.7.7"
  },
  "vscode": {
   "interpreter": {
    "hash": "aee8b7b246df8f9039afb4144a1f6fd8d2ca17a180786b69acc140d282b71a49"
   }
  }
 },
 "nbformat": 4,
 "nbformat_minor": 5
}