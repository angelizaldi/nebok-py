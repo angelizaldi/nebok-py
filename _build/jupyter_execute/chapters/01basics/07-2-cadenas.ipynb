{
 "cells": [
  {
   "cell_type": "markdown",
   "id": "42709425",
   "metadata": {},
   "source": [
    "# Cadenas\n",
    "\n",
    "El tipo de dato es `str`, almacenan cadenas de caracteres.\n",
    "- Sus elementos están ordenados (indexados).\n",
    "- No se puede modificar una vez creada.\n",
    "\n",
    "\n",
    "\n",
    "Existen unas cadenas especiales:\n",
    "```python\n",
    "#Unicode\n",
    "X = u'text'\n",
    "#Raw string\n",
    "X = r'text'\n",
    "#Bytes string\n",
    "X = b'text'\n",
    "```\n",
    "\n",
    "**Unicode**\n",
    "Es para poder ingresar letras con acentos como á, ä, à, ñ u otros símbolos etc. Se utilizan los códigos unicode, que se pueden consultar en [códigos unicode](https://unicode-table.com/es/#basic-latin).\n",
    "\n",
    "Para insertar códigos unicode se debe de poner el código dentro de una cadena con prefijo `u` y el código se pone como `\\u_code_`, donde `_code_` es el código de unicode:"
   ]
  },
  {
   "cell_type": "code",
   "execution_count": 1,
   "id": "b8218991",
   "metadata": {},
   "outputs": [
    {
     "name": "stdout",
     "output_type": "stream",
     "text": [
      "Hello World!\n"
     ]
    }
   ],
   "source": [
    "# Ingresando un espacio en blanco y el signo ! con códigos unicode:\n",
    "print(u\"Hello\\u0020World\\u0021\") "
   ]
  },
  {
   "cell_type": "markdown",
   "id": "c33c2564",
   "metadata": {},
   "source": [
    "**Raw string** Son cadenas “crudas”, que ignoran caracteres especiales como `\\n` y los imprime tal cual. Para saber más sobre caracteres especiales consulta "
   ]
  },
  {
   "cell_type": "code",
   "execution_count": 2,
   "id": "5d8d6583",
   "metadata": {},
   "outputs": [
    {
     "name": "stdout",
     "output_type": "stream",
     "text": [
      "text1 \n",
      "text2\n"
     ]
    }
   ],
   "source": [
    "# Una cadena normal\n",
    "print(\"text1 \\ntext2\")"
   ]
  },
  {
   "cell_type": "code",
   "execution_count": 3,
   "id": "2b92472a",
   "metadata": {},
   "outputs": [
    {
     "name": "stdout",
     "output_type": "stream",
     "text": [
      "text1 \\ntext2\n"
     ]
    }
   ],
   "source": [
    "# Una cadena cruda\n",
    "print(r\"text1 \\ntext2\")"
   ]
  },
  {
   "cell_type": "markdown",
   "id": "e957f34f",
   "metadata": {},
   "source": [
    "---\n",
    "## Crear una cadena\n",
    "\n",
    "Para crear una variable de tipo de cadena usar comillas dobles o comillas simples para abrir y cerrar la cadena:\n",
    "```python\n",
    "x = \"text\"\n",
    "x = 'text'\n",
    "```\n",
    "\n",
    "Para crear una cadena de mútiples líneas usar tres comillas dobles o tres comillas simples para abrir y cerrar la cadena:\n",
    "```python\n",
    "x = \"\"\"\n",
    "    text\n",
    "    more text\n",
    "    \"\"\"\n",
    "     \n",
    "x = '''\n",
    "    text\n",
    "    more text\n",
    "    '''\n",
    "```\n",
    "- Los saltos de línea (`\\n`) se respetarán en la cadena."
   ]
  },
  {
   "cell_type": "markdown",
   "id": "f42a9fab",
   "metadata": {},
   "source": [
    "---\n",
    "## Concatenar cadenas:\n",
    "Para concatenar cadenas se usa el operador `+`. Ya sea que se ponga la cadena tal cual o una variable de tipo `str`:"
   ]
  },
  {
   "cell_type": "code",
   "execution_count": 4,
   "id": "71829349",
   "metadata": {},
   "outputs": [
    {
     "name": "stdout",
     "output_type": "stream",
     "text": [
      "Hello World!\n"
     ]
    }
   ],
   "source": [
    "x = \"Hello\"\n",
    "y = \"World!\"\n",
    "print(x+\" \"+y)"
   ]
  },
  {
   "cell_type": "markdown",
   "id": "6a4a42b9",
   "metadata": {},
   "source": [
    "`str` tiene además el método `join`para concatenar que se ve con más profundidad en \"ref\"."
   ]
  },
  {
   "cell_type": "markdown",
   "id": "88c0cc89",
   "metadata": {},
   "source": [
    "---\n",
    "## Repetir cadenas:\n",
    "\n",
    "Para repetir una cadena `n ` veces usar el operador de multiplicación `*` con la cadena:"
   ]
  },
  {
   "cell_type": "code",
   "execution_count": 5,
   "id": "f8087182",
   "metadata": {},
   "outputs": [
    {
     "data": {
      "text/plain": [
       "'text text text text text '"
      ]
     },
     "execution_count": 5,
     "metadata": {},
     "output_type": "execute_result"
    }
   ],
   "source": [
    "\"text \" * 5"
   ]
  },
  {
   "cell_type": "markdown",
   "id": "25b0d85c",
   "metadata": {},
   "source": [
    "---\n",
    "## Verificar membresía de patrones\n",
    "\n",
    "Se puede verificar que un patrón esté dentro de una cadena con los operadores `in` y `not in`, retornando un valor lógico. El patrón no tiene porque ser una palabra exacta, pueden ser partes de palabras o más de un palabra.\n",
    "```python\n",
    "\"pattern\" in \"string\"\n",
    "\"pattern\" not in \"string\"\n",
    "```\n",
    "Ejemplos:"
   ]
  },
  {
   "cell_type": "code",
   "execution_count": 6,
   "id": "42296dad",
   "metadata": {},
   "outputs": [
    {
     "name": "stdout",
     "output_type": "stream",
     "text": [
      "True\n",
      "False\n"
     ]
    }
   ],
   "source": [
    "text = \"Lorem ipsum dolor sit amet, consectetur adipiscing elit.\"\n",
    "print(\"amet\" in text)\n",
    "print(\"minim\" in text)"
   ]
  },
  {
   "cell_type": "markdown",
   "id": "339513e6",
   "metadata": {},
   "source": [
    "---\n",
    "## Iterar sobre una cadena.\n",
    "\n",
    "Las cadenas se pueden manipular como una secuencia. Esto permite que se puede usar una cadena como el rango en un `for loop`, iterando caracter por caracter:\n",
    "```python\n",
    "for i in string:\n",
    "    expression\n",
    "```\n",
    "\n",
    "Ejemplo:"
   ]
  },
  {
   "cell_type": "code",
   "execution_count": 7,
   "id": "007be7a8",
   "metadata": {},
   "outputs": [
    {
     "name": "stdout",
     "output_type": "stream",
     "text": [
      "a\n",
      "b\n",
      "c\n"
     ]
    }
   ],
   "source": [
    "for char in \"abc\":\n",
    "    print(char)"
   ]
  },
  {
   "cell_type": "markdown",
   "id": "efc24ff0",
   "metadata": {},
   "source": [
    "---\n",
    "## Subsetting y slicing.\n",
    "\n",
    "Al ser `str` una secuencia se pueden extraer elementos y rangos de una cadena usando corchetes. La idexación comienza en 0 y termina en `N-1`, siendo `N` la longitud de la cadena. También es posible usar números negativos ,siendo -1 igual a la última posición, -2 la penúltima posición, etc.\n",
    "\n",
    "Si `text` es un objeto de tipo `str` entonces, para hacer subsetting y slicing se usa:\n",
    "- Un caracter específico: <br> `text[i]`\n",
    "- Un caracter específico, empezado desde el final, de derecha a izquierda: <br> `text[-i]`\n",
    "- Desde el índice `i` hasta el `j`, sin incluir el `j`: <br> `text[i:j]`\n",
    "- Desde el inicio hasta el `j`, sin incluir el `j`: <br> `text[:j]`\n",
    "- Desde la posición `i` hasta el final de la cadena: <br>`text[i:]`\n",
    "- Toda la cadena: <br> `text[:]`\n",
    "- Desde el índice `i` hasta el `j`, sin incluir el `j`, cada `k` caracteres: <br> `text[i:j:k]`\n",
    "\n",
    "Algunos patrones útiles:\n",
    "- El primer caracter: <br> `text[0]`\n",
    "- El último caracter: <br> `text[-1]`\n",
    "- Toda la cadena cada `k` elementos: <br> `text[::k]`\n",
    "- Toda la cadena al revés: <br> `text[::-1]`\n"
   ]
  },
  {
   "cell_type": "markdown",
   "id": "4cd303b2",
   "metadata": {},
   "source": [
    "---\n",
    "## Convertir una cadena a una secuencia:\n",
    "Se puede convertir una cadena en una secuencia, donde cada elemento de la secuencia será cada caracter de la cadena con las funciones `list()` y `tuple()`.\n",
    "```python\n",
    "list(X)\n",
    "tuple(X)\n",
    "```\n",
    "- `X` \\- `str`.\n",
    "\n"
   ]
  },
  {
   "cell_type": "code",
   "execution_count": null,
   "id": "0cd78c6e",
   "metadata": {},
   "outputs": [],
   "source": []
  }
 ],
 "metadata": {
  "kernelspec": {
   "display_name": "Python 3.8.0 64-bit",
   "language": "python",
   "name": "python3"
  },
  "language_info": {
   "codemirror_mode": {
    "name": "ipython",
    "version": 3
   },
   "file_extension": ".py",
   "mimetype": "text/x-python",
   "name": "python",
   "nbconvert_exporter": "python",
   "pygments_lexer": "ipython3",
   "version": "3.7.7"
  },
  "vscode": {
   "interpreter": {
    "hash": "aee8b7b246df8f9039afb4144a1f6fd8d2ca17a180786b69acc140d282b71a49"
   }
  }
 },
 "nbformat": 4,
 "nbformat_minor": 5
}