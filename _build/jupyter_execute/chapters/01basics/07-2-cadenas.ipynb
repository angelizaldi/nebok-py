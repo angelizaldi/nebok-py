{
 "cells": [
  {
   "cell_type": "markdown",
   "id": "42709425",
   "metadata": {},
   "source": [
    "# Cadenas\n",
    "\n",
    "El tipo de dato `str` almacenan una secuencia de caracteres encerrados en comillas dobles o simples. `str` es considerado una secuencia. Sus principales características son:\n",
    "- Es inmutable: No se puede modificar una vez creada.\n",
    "- Está indexado: Sus elementos están ordenados.\n",
    "- Es un iterable: Se puede iterar por sus elementos y se puede utilizar la palabra reservada `in` para verificar membresía.\n",
    "- Se puede hacer _subsetting_ y _slicing_ de sus caracteres.\n",
    "- Se puede concatenar con otras cadenas."
   ]
  },
  {
   "cell_type": "markdown",
   "id": "e957f34f",
   "metadata": {},
   "source": [
    "---\n",
    "## Crear una cadena\n",
    "\n",
    "Para crear una variable de tipo de cadena usar comillas dobles o comillas simples para abrir y cerrar la cadena:\n",
    "```python\n",
    "x = \"text\"\n",
    "x = 'text'\n",
    "```\n",
    "\n",
    "Para crear una cadena de mútiples líneas usar tres comillas dobles o tres comillas simples para abrir y cerrar la cadena:\n",
    "```python\n",
    "x = \"\"\"\n",
    "    text\n",
    "    more text\n",
    "    \"\"\"\n",
    "     \n",
    "x = '''\n",
    "    text\n",
    "    more text\n",
    "    '''\n",
    "```\n",
    "- Los saltos de línea (`\\n`) se respetarán en la cadena."
   ]
  },
  {
   "cell_type": "markdown",
   "id": "43e05396-6bf0-47e7-b0df-431515817a25",
   "metadata": {},
   "source": [
    "### Unicode\n",
    "\n",
    "Se utiliza para poder ingresar letras con acentos como á, ä, à, ñ u otros símbolos etc. Se utilizan los códigos unicode, que se pueden consultar en [códigos unicode](https://unicode-table.com/es/#basic-latin).\n",
    "\n",
    "Para insertar códigos unicode se debe de poner el código dentro de una cadena con prefijo `u` y el código se pone como `\\u_code_`, donde `_code_` es el código de unicode:"
   ]
  },
  {
   "cell_type": "code",
   "execution_count": 1,
   "id": "7d3bd5ca-a377-45af-ab76-bdc1e8f8d93b",
   "metadata": {},
   "outputs": [
    {
     "name": "stdout",
     "output_type": "stream",
     "text": [
      "Hello World!\n"
     ]
    }
   ],
   "source": [
    "# Ingresando un espacio en blanco y el signo ! con códigos unicode:\n",
    "print(u\"Hello\\u0020World\\u0021\") "
   ]
  },
  {
   "cell_type": "markdown",
   "id": "67cfff37-d262-4460-9871-e0bede859093",
   "metadata": {},
   "source": [
    "### Raw strings\n",
    "\n",
    "Son cadenas “crudas”, que ignoran _caracteres ilegales_ como `\\n` y los imprime tal cual. Para crear una cadena cruda se utiliza una `r` como prefijo de la cadena."
   ]
  },
  {
   "cell_type": "code",
   "execution_count": 2,
   "id": "4e2ec583-33e9-4f3c-8a7f-06feb7e16e40",
   "metadata": {},
   "outputs": [
    {
     "name": "stdout",
     "output_type": "stream",
     "text": [
      "text1 \ttext2\n",
      "text1 \\ttext2\n"
     ]
    }
   ],
   "source": [
    "# Una cadena normal\n",
    "print(\"text1 \\ttext2\")\n",
    "\n",
    "# Una cadena cruda\n",
    "print(r\"text1 \\ttext2\")"
   ]
  },
  {
   "cell_type": "markdown",
   "id": "854d3ad8-0e0c-48c6-984e-ac2eca0d0c60",
   "metadata": {},
   "source": [
    "Los caracteres ilegales son:\n",
    "- `\\’`: Comilla simple.\n",
    "- `\\”`: Comilla doble.\n",
    "- `\\n`: Salto de línea.\n",
    "- `\\t`: Tabulación.\n",
    "- `\\\\`: Diagonal inversa.\n",
    "- `\\b`: Un espacio en blanco para atrás.\n",
    "- `\\xhh`: Valor hexadecimal.\n"
   ]
  },
  {
   "cell_type": "markdown",
   "id": "f42a9fab",
   "metadata": {},
   "source": [
    "---\n",
    "## Concatenar cadenas:\n",
    "Para concatenar cadenas se usa el operador `+`. Usar únicamente con objetos de tipo `str`:"
   ]
  },
  {
   "cell_type": "code",
   "execution_count": 3,
   "id": "71829349",
   "metadata": {},
   "outputs": [
    {
     "name": "stdout",
     "output_type": "stream",
     "text": [
      "Hello World!\n"
     ]
    }
   ],
   "source": [
    "x = \"Hello\"\n",
    "y = \"World!\"\n",
    "print(x + \" \" + y)"
   ]
  },
  {
   "cell_type": "markdown",
   "id": "6a4a42b9",
   "metadata": {},
   "source": [
    "`str` tiene además el método `join`para concatenar que se ve con más profundidad en \"ref\"."
   ]
  },
  {
   "cell_type": "markdown",
   "id": "88c0cc89",
   "metadata": {},
   "source": [
    "Para concatenar una misma cadena `n ` veces usar el operador de multiplicación `*` con la cadena:"
   ]
  },
  {
   "cell_type": "code",
   "execution_count": 4,
   "id": "f8087182",
   "metadata": {},
   "outputs": [
    {
     "data": {
      "text/plain": [
       "'text text text text text '"
      ]
     },
     "execution_count": 4,
     "metadata": {},
     "output_type": "execute_result"
    }
   ],
   "source": [
    "\"text \" * 5"
   ]
  },
  {
   "cell_type": "markdown",
   "id": "25b0d85c",
   "metadata": {},
   "source": [
    "---\n",
    "## Verificar membresía\n",
    "\n",
    "Se puede verificar que un patrón esté dentro de una cadena con los operadores `in` y `not in`, retornando un valor lógico. El patrón no tiene porque ser una palabra exacta, pueden ser partes de palabras, palabras o frases.\n",
    "```python\n",
    "\"pattern\" in \"string\"\n",
    "\"pattern\" not in \"string\"\n",
    "```\n",
    "Ejemplos:"
   ]
  },
  {
   "cell_type": "code",
   "execution_count": 5,
   "id": "42296dad",
   "metadata": {},
   "outputs": [
    {
     "name": "stdout",
     "output_type": "stream",
     "text": [
      "True\n",
      "False\n"
     ]
    }
   ],
   "source": [
    "text = \"Lorem ipsum dolor sit amet, consectetur adipiscing elit.\"\n",
    "print(\"amet\" in text)\n",
    "print(\"minim\" in text)"
   ]
  },
  {
   "cell_type": "markdown",
   "id": "339513e6",
   "metadata": {},
   "source": [
    "---\n",
    "## Iteración\n",
    "\n",
    "Las cadenas son una secuencia, esto permite que se puede usar una cadena como el rango en un `for loop`, iterando caracter por caracter:\n",
    "```python\n",
    "for i in string:\n",
    "    expression\n",
    "```\n",
    "\n",
    "Ejemplo:"
   ]
  },
  {
   "cell_type": "code",
   "execution_count": 6,
   "id": "007be7a8",
   "metadata": {},
   "outputs": [
    {
     "name": "stdout",
     "output_type": "stream",
     "text": [
      "a\n",
      "b\n",
      "c\n"
     ]
    }
   ],
   "source": [
    "for char in \"abc\":\n",
    "    print(char)"
   ]
  },
  {
   "cell_type": "markdown",
   "id": "efc24ff0",
   "metadata": {},
   "source": [
    "---\n",
    "## Selección de elementos: \n",
    "\n",
    "### Subsetting:\n",
    "Si `X` es `str` e `i` es un número entero, entonces para seleccionar caracyeres de una cadenas tener en cuenta las siguientes características: \n",
    "- Se utilizan corchetes `[]` para acceder a los elementos, junto con el nombre de la variable y el índice del elemento: <br/>\n",
    "`X[i]`\n",
    "- Los índices comienza en cero (0), esto quiere decir que si quiere acceder al elemento `i`, se debe de usar `[i-1]`.\n",
    "- Se puede utilizar números negativos, de manera que se comience por el último elemento. Se puede acceder al último caracter con `[-1]`, al penúltimo caracters `[-2]`, etc.\n",
    "\n",
    "---\n",
    "### Slicing:\n",
    "Si `X` es `str` e `i`, `j` y `k` son números entonces, entonces:\n",
    "- Para seleccionar un rango de caracteres consecutivos se utiliza dos puntos: <br/> `X[i:j]`\n",
    "- La selección por rango, tienen la característica que el primer elemento es inclusivo y el último es exclusivo, esto quiere decir que no se incluirá en el rango, si se usa el rango `[i:j]`, en realidad solo se accederá a `[i:j-1]`.\n",
    "- Desde el índice `i` hasta el `j`, sin incluir el `j`: <br> `X[i:j]`\n",
    "- Desde el inicio hasta el `j`, sin incluir el `j`: <br> `X[:j]`\n",
    "- Desde la posición `i` hasta el final de la cadena: <br>`X[i:]`\n",
    "- Toda la cadena: <br> `X[:]`\n",
    "- Desde el índice `i` hasta el `j`, sin incluir el `j`, cada `k` caracteres: <br> `X[i:j:k]`\n",
    "\n",
    "Algunos patrones útiles:\n",
    "- El primer caracter: <br> `X[0]`\n",
    "- El último caracter: <br> `X[-1]`\n",
    "- Toda la cadena cada `k` caracteres: <br> `X[::k]`\n",
    "- Toda la cadena al revés: <br> `X[::-1]`\n",
    "\n"
   ]
  },
  {
   "cell_type": "code",
   "execution_count": 7,
   "id": "b429a3c9-d524-44ce-b816-fc7d81b5ab83",
   "metadata": {},
   "outputs": [
    {
     "name": "stdout",
     "output_type": "stream",
     "text": [
      "a\n",
      "o\n",
      "aei\n",
      "uia\n"
     ]
    }
   ],
   "source": [
    "# Ejemplos\n",
    "X = \"aeiou\"\n",
    "\n",
    "# Primer caracter\n",
    "print(X[0])\n",
    "\n",
    "# Penúltimo caracter\n",
    "print(X[-2])\n",
    "\n",
    "# Del ínidice 0 al 2\n",
    "print(X[0:3])\n",
    "\n",
    "# La cadena al revés cada 2 caracteres\n",
    "print(X[::-2])"
   ]
  },
  {
   "cell_type": "markdown",
   "id": "4cd303b2",
   "metadata": {},
   "source": [
    "---\n",
    "## Convertir otro tipo de secuencia:\n",
    "\n",
    "Se puede convertir una cadena a cualquier otro tipo de secuencia, donde cada elemento de la secuencia será cada caracter de la cadena con las funciones `list()` y `tuple()`.\n",
    "```python\n",
    "list(X)\n",
    "tuple(X)\n",
    "```\n",
    "- `X` \\- `str`.\n",
    "\n"
   ]
  }
 ],
 "metadata": {
  "kernelspec": {
   "display_name": "Python 3 (ipykernel)",
   "language": "python",
   "name": "python3"
  },
  "language_info": {
   "codemirror_mode": {
    "name": "ipython",
    "version": 3
   },
   "file_extension": ".py",
   "mimetype": "text/x-python",
   "name": "python",
   "nbconvert_exporter": "python",
   "pygments_lexer": "ipython3",
   "version": "3.7.7"
  },
  "vscode": {
   "interpreter": {
    "hash": "aee8b7b246df8f9039afb4144a1f6fd8d2ca17a180786b69acc140d282b71a49"
   }
  }
 },
 "nbformat": 4,
 "nbformat_minor": 5
}