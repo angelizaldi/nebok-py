{
 "cells": [
  {
   "cell_type": "markdown",
   "id": "fc5468e8",
   "metadata": {},
   "source": [
    "# Formatos de cadenas.\n",
    "\n",
    "En esta sección se explica el método `str.format()` y las \"f-strings\" que permiten darle un formato personalizado a las cadenas e incluir de manera dinámica variables en la cadena.\n",
    "\n",
    "```{attention} Existen otros métodos para hacer lo mismo como los `string.Template` o usando el operador `%`, pero no se cubrirán en esta página.\n",
    "```"
   ]
  },
  {
   "cell_type": "markdown",
   "id": "d79db1b6",
   "metadata": {},
   "source": [
    "## str.format"
   ]
  },
  {
   "cell_type": "markdown",
   "id": "26ae7c3e",
   "metadata": {},
   "source": [
    "Es un método que sirve para imprimir valores de variables en algún formato en específico. Para ello en la cadena se deben especificar campos delimitados por corchetes `{}` donde irán los valores.\n",
    "\n",
    "`str.format()`: Da formato a una cadena.\n",
    "```python\n",
    "X.format(*args, **kwargs)\n",
    "```\n",
    "**Parámetros:**:\n",
    "- `*args`: Valores o variables a reemplazar en la cadena. Se puede incluir cualquier tipo de objeto que se pueda imprimir, el valor mostrado será el mismo que el del método `__str__()` o `__repr__()` de la clase del objeto.\n",
    "\n",
    "**Retorna:**\n",
    "- `str`.\n",
    "\n",
    "**Ejemplo:**"
   ]
  },
  {
   "cell_type": "code",
   "execution_count": 1,
   "id": "c95e7702",
   "metadata": {},
   "outputs": [
    {
     "name": "stdout",
     "output_type": "stream",
     "text": [
      "Hello World!\n"
     ]
    }
   ],
   "source": [
    "x = \"World!\"\n",
    "print(\"Hello {0}\".format(x))"
   ]
  },
  {
   "cell_type": "markdown",
   "id": "80eb6f9a",
   "metadata": {},
   "source": [
    "---\n",
    "### Uso\n",
    "\n",
    "Existen tres formas principales de usar este método:\n",
    "\n",
    "**índices**\n",
    "\n",
    "- Dentro de la cadena se puede usar `{0}`, `{1}`, `{2}`, …, que serviría para indicar que se empaten por el índice correspondiente con los argumentos de `str.format()`. \n",
    "- Se puede poner más de una vez algún índice `{i}`, de manera que lo imprima más de una vez en una misma cadena. - - Los índice comienzan en cero.\n",
    "- Si no se indican los índices se empatan por posición los argumentos y los campos `{}`, pero el número de corchetes debe ser igual al número de argumentos.\n",
    "\n",
    "Ejemplos:"
   ]
  },
  {
   "cell_type": "code",
   "execution_count": 3,
   "id": "878d3cc1",
   "metadata": {},
   "outputs": [
    {
     "ename": "IndexError",
     "evalue": "tuple index out of range",
     "output_type": "error",
     "traceback": [
      "\u001b[0;31m---------------------------------------------------------------------------\u001b[0m",
      "\u001b[0;31mIndexError\u001b[0m                                Traceback (most recent call last)",
      "\u001b[0;32m/var/folders/sz/qx1v_dgs57z3n33jfvql497r0000gn/T/ipykernel_14474/3993376563.py\u001b[0m in \u001b[0;36m<module>\u001b[0;34m\u001b[0m\n\u001b[1;32m      3\u001b[0m \u001b[0mx3\u001b[0m \u001b[0;34m=\u001b[0m \u001b[0;32mTrue\u001b[0m\u001b[0;34m\u001b[0m\u001b[0;34m\u001b[0m\u001b[0m\n\u001b[1;32m      4\u001b[0m \u001b[0mcadena\u001b[0m \u001b[0;34m=\u001b[0m \u001b[0;34m\"Una cadena: {}\\nun número: {}\\nun valor {} booleano: {}\"\u001b[0m\u001b[0;34m\u001b[0m\u001b[0;34m\u001b[0m\u001b[0m\n\u001b[0;32m----> 5\u001b[0;31m \u001b[0mprint\u001b[0m\u001b[0;34m(\u001b[0m\u001b[0mcadena\u001b[0m\u001b[0;34m.\u001b[0m\u001b[0mformat\u001b[0m\u001b[0;34m(\u001b[0m\u001b[0mx1\u001b[0m\u001b[0;34m,\u001b[0m \u001b[0mx2\u001b[0m\u001b[0;34m,\u001b[0m \u001b[0mx3\u001b[0m\u001b[0;34m)\u001b[0m\u001b[0;34m)\u001b[0m\u001b[0;34m\u001b[0m\u001b[0;34m\u001b[0m\u001b[0m\n\u001b[0m",
      "\u001b[0;31mIndexError\u001b[0m: tuple index out of range"
     ]
    }
   ],
   "source": [
    "x1 = \"texto\"\n",
    "x2 = 10.0\n",
    "x3 = True\n",
    "cadena = \"Una cadena: {}\\nun número: {}\\nun valor booleano: {}\"\n",
    "print(cadena.format(x1, x2, x3))"
   ]
  },
  {
   "cell_type": "markdown",
   "id": "c2e1e8b6",
   "metadata": {},
   "source": [
    "---\n",
    "**nombres**\n",
    "\n",
    "- En la cadena, los campos `{}` deben de tener nombres los cuales se deben especificar en `str.format()` como par  `name=val`.\n",
    "\n",
    "Ejemplo:"
   ]
  },
  {
   "cell_type": "code",
   "execution_count": 6,
   "id": "8ee1c115",
   "metadata": {},
   "outputs": [
    {
     "name": "stdout",
     "output_type": "stream",
     "text": [
      "Una cadena: texto\n",
      "un número: 10.0\n",
      "un valor booleano: True\n"
     ]
    }
   ],
   "source": [
    "x1 = \"texto\"\n",
    "x2 = 10.0\n",
    "x3 = True\n",
    "cadena = \"Una cadena: {string}\\nun número: {number}\\nun valor booleano: {boolean}\"\n",
    "print(cadena.format(string=x1, number=x2, boolean=x3))"
   ]
  },
  {
   "cell_type": "markdown",
   "id": "5a3b4927",
   "metadata": {},
   "source": [
    "---\n",
    "**diccionario**\n",
    "\n",
    "- El argumento de `str.format()` es un diccionario y en los campos `{}` se accede a los valores del diccionario recuperando el valor con los nombres de las llaves del diccionario. \n",
    "- Los nombres de las llaves dentro de la cadena no se deben de poner entre comillas.\n",
    "\n",
    "Ejemplo:"
   ]
  },
  {
   "cell_type": "code",
   "execution_count": 9,
   "id": "8632ccaf",
   "metadata": {},
   "outputs": [
    {
     "name": "stdout",
     "output_type": "stream",
     "text": [
      "Una cadena: texto\n",
      "un número: 10.0\n",
      "un valor booleano: True\n"
     ]
    }
   ],
   "source": [
    "my_dict = {\"string\": \"texto\", \"number\": 10.0, \"boolean\": True}\n",
    "cadena = \"Una cadena: {x[string]}\\nun número: {x[number]}\\nun valor booleano: {x[boolean]}\"\n",
    "print(cadena.format(x=my_dict))"
   ]
  },
  {
   "cell_type": "markdown",
   "id": "bb61a205",
   "metadata": {},
   "source": [
    "---\n",
    "## f-strings\n",
    "\n",
    "Es una alternativa al método `str.format()`, está disponible en Python 3.6+. Requiere una sintaxis más sencilla y es más rápida, para ello se agrega el prefijo `f` a una cadena:\n",
    "\n",
    "**Sintaxis**:\n",
    "```python\n",
    "    f\"text ... {expression} ..\"\n",
    "```\n",
    "\n",
    "**Parámetros:**\n",
    "- <code><i>expression</i></code>: Es un valor, un objeto o incluso funciones y/o métodos que retornen un objeto imprimible. El valor mostrado será el mismo que el del método `__str__()` o `__repr__()` de la clase del objeto.\n",
    "\n",
    "**Ejemplo:**"
   ]
  },
  {
   "cell_type": "code",
   "execution_count": 19,
   "id": "6c38804d",
   "metadata": {},
   "outputs": [
    {
     "data": {
      "text/plain": [
       "'Esto es un número 10.0 y esto un valor booleano True'"
      ]
     },
     "execution_count": 19,
     "metadata": {},
     "output_type": "execute_result"
    }
   ],
   "source": [
    "x=10.0\n",
    "y=True\n",
    "f\"Esto es un número {x} y esto un valor booleano {y}\""
   ]
  },
  {
   "cell_type": "markdown",
   "id": "690c8a62",
   "metadata": {},
   "source": [
    "Se puede relaizar una conversión en la cadena, algunas conversiones disponibles son:\n",
    "- `!s`: Version en cadena.\n",
    "- `!r`: Cadena en versión imprimible, es decir, entre comillas, (solo funciona si la expresión es `str`).\n",
    "- `!a`: Como `!r` pero ignora los caracteres non-ASCII.\n",
    "\n",
    "**Ejemplos:**"
   ]
  },
  {
   "cell_type": "code",
   "execution_count": 26,
   "id": "2d363915",
   "metadata": {},
   "outputs": [
    {
     "name": "stdout",
     "output_type": "stream",
     "text": [
      "Convertir a cadena 10\n",
      "Texto entre comillas: 'texto'\n"
     ]
    }
   ],
   "source": [
    "x = 10\n",
    "y = \"texto\"\n",
    "print(f\"Convertir a cadena {x!s}\")\n",
    "print(f\"Texto entre comillas: {y!r}\")"
   ]
  },
  {
   "cell_type": "markdown",
   "id": "272ef05d",
   "metadata": {},
   "source": [
    "**Formatos**\n",
    "\n",
    "Para dar formatos, se utiliza dos puntos y el formato que se quiere dar:\n",
    "```python\n",
    "\tf\"text ... {expression:format}\"\n",
    "```\n",
    "- <code><i> format </i></code>: Es el formato que se quiere dar. Revisar formatos de cadenas.\n",
    "\n",
    "**Ejemplo**:"
   ]
  },
  {
   "cell_type": "code",
   "execution_count": 38,
   "id": "50326593",
   "metadata": {},
   "outputs": [
    {
     "name": "stdout",
     "output_type": "stream",
     "text": [
      "Sin formato: 1897.9876\n",
      "Separar los miles: 1,897.9876\n",
      "Notación científica con 1 décimal: 1.9e+03\n",
      "Con tres décimales (redondea) 1897.988\n",
      "Combinación de separación de miles y 2 décimales:1,897.99\n"
     ]
    }
   ],
   "source": [
    "x = 1897.9876\n",
    "print(f\"Sin formato: {x}\")\n",
    "print(f\"Separar los miles: {x:,}\")\n",
    "print(f\"Notación científica con 1 décimal: {x:.1e}\")\n",
    "print(f\"Con tres décimales (redondea) {x:.3f}\")\n",
    "print(f\"Combinación de separación de miles y 2 décimales:{x:,.2f}\")"
   ]
  },
  {
   "cell_type": "code",
   "execution_count": null,
   "id": "1aceab87",
   "metadata": {},
   "outputs": [],
   "source": []
  }
 ],
 "metadata": {
  "kernelspec": {
   "display_name": "Python 3 (ipykernel)",
   "language": "python",
   "name": "python3"
  },
  "language_info": {
   "codemirror_mode": {
    "name": "ipython",
    "version": 3
   },
   "file_extension": ".py",
   "mimetype": "text/x-python",
   "name": "python",
   "nbconvert_exporter": "python",
   "pygments_lexer": "ipython3",
   "version": "3.7.7"
  }
 },
 "nbformat": 4,
 "nbformat_minor": 5
}
