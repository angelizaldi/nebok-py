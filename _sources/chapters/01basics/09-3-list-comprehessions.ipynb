{
 "cells": [
  {
   "cell_type": "markdown",
   "id": "1e61dd42",
   "metadata": {},
   "source": [
    "# List comprehension\n",
    "\n",
    "Son listas que se crean a partir procesos iterativos con la estructura `for`. Sintaxis:\n",
    "```python\n",
    "X = [expression for i in collection]\n",
    "```\n",
    "donde:\n",
    "- _collection_ es cualquier `iterable`\n",
    "- _expression_ es cualquier expresión cuya evaluación retorne un objeto.\n",
    "\n",
    "Lo anterior equivale a:\n",
    "```python\n",
    "X = []\n",
    "for i in collection:\n",
    "    X.append(expression)\n",
    "```\n",
    "\n",
    "Las list comprehension también pueden tener condicionales, tanto en la parte de _expression_ como en la parte de _collection_, de manera que solo a cierto elementos se les aplique el código o de que dependiendo del resultado de la _expression_ se ponga un valor u otro. Sintaxis:\n",
    "\n",
    "En el iterable:\n",
    "```python\n",
    "X = [expression for i in collection if condition]\n",
    "```\n",
    "\n",
    "En la _expression_:\n",
    "```python\n",
    "X = [expression_true if condition else expression_false for i in collection]\n",
    "```\n",
    "\n",
    "Ejemplo:"
   ]
  },
  {
   "cell_type": "code",
   "execution_count": 1,
   "id": "133dfc67",
   "metadata": {},
   "outputs": [
    {
     "name": "stdout",
     "output_type": "stream",
     "text": [
      "[4, 16, 36, 64, 100]\n"
     ]
    }
   ],
   "source": [
    "numbers = [1, 2, 3, 4, 5, 6, 7, 8, 9, 10]\n",
    "\n",
    "squared_even_numbers = [number**2 for number in numbers if number % 2 == 0]\n",
    "print(squared_even_numbers)"
   ]
  },
  {
   "cell_type": "markdown",
   "id": "b4f3263a",
   "metadata": {},
   "source": [
    "> En el código anterior hubiera sido más eficiente utilizar la función `range()` para crear la secuencia de números."
   ]
  }
 ],
 "metadata": {
  "jupytext": {
   "formats": "md:myst",
   "text_representation": {
    "extension": ".md",
    "format_name": "myst"
   }
  },
  "kernelspec": {
   "display_name": "Python 3",
   "language": "python",
   "name": "python3"
  },
  "language_info": {
   "codemirror_mode": {
    "name": "ipython",
    "version": 3
   },
   "file_extension": ".py",
   "mimetype": "text/x-python",
   "name": "python",
   "nbconvert_exporter": "python",
   "pygments_lexer": "ipython3",
   "version": "3.7.7"
  },
  "source_map": [
   11,
   43,
   48
  ]
 },
 "nbformat": 4,
 "nbformat_minor": 5
}