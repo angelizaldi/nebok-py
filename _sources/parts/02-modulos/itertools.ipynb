{
 "cells": [
  {
   "cell_type": "markdown",
   "id": "6f70e334",
   "metadata": {},
   "source": [
    "# Itertools\n",
    "\n",
    "Es un módulo que provee varias funciones para construir `iterators`. Es necesario importarlo. \n",
    "\n",
    "```python\n",
    "# Importar todo el módulo\n",
    "import itertools\n",
    "\n",
    "# Importar una función específica\n",
    "from itertools import function_name\n",
    "```\n",
    "- _function_name_ es el nombre de la función que se desea importar.\n",
    "\n",
    "\n",
    ":::{attention}\n",
    "En esta sección se presentan ejemplos de unas cuantas funciones seleccionadas. Si se tiene duda de qué hace una función o cómo utilizar una función usar el link que viene en el nombre de cada función para dirigirse a la documentación de Python donde vienen más ejemplos de uso.\n",
    ":::\n",
    "\n",
    "<br><br>\n",
    "\n",
    "---\n",
    "## Iterators combinatorios\n",
    "\n",
    "A continuación se presenta una lista de funciones que retornan combinaciones, permutaciones o productos cartesianos de iterables.\n",
    "\n",
    "```{list-table}\n",
    ":header-rows: 1\n",
    "\n",
    "* - Función\n",
    "  - Descripción\n",
    "* - [combinations](https://docs.python.org/3/library/itertools.html#itertools.combinations)(iterable, r)\n",
    "  - Retorna secuencias de todos las combinaciones posibles, sin reemplazo e ignorando el orden, de _r_ de elementos de `iterable`.\n",
    "* - [combinations_with_replacement](https://docs.python.org/3/library/itertools.html#itertools.combinations_with_replacement)(iterable, r)\n",
    "  - Retorna combinaciones de longitud `r` de los elementos de `iterable` permitiendo que los elementos individuales se repitan más de una vez.\n",
    "* - [permutations](https://docs.python.org/3/library/itertools.html#itertools.permutations)(iterable, r=None)\n",
    "  - Retorna secuencias de todos las combinaciones posibles, donde el orden importa (permutaciones), sin reemplazo, de _r_ elementos consecutivos del `iterable` de entrada.\n",
    "* - [product](https://docs.python.org/3/library/itertools.html#itertools.product)(*iterables, repeat=1)\n",
    "  - Crea un `iterator` con el producto cartesiano de los iterables de entrada.\n",
    "```\n",
    "\n",
    "<br>\n",
    "\n",
    "---\n",
    "### Ejemplo de combinations()\n",
    "\n",
    "A continuación se presenta un ejemplo de uso de `itertools.combinations()`. Tener en cuenta que la funcionalidad de esta función es similar a la de `itertools.permutations()` y `itertools.combinations_with_replacement()` pero con resultados diferentes.\n",
    "\n",
    "En este ejemplo se define una cadena con 5 caracteres y se pretende conocer todas las combinaciones tomando 2 elementos."
   ]
  },
  {
   "cell_type": "code",
   "execution_count": 1,
   "id": "7a19b479",
   "metadata": {},
   "outputs": [
    {
     "name": "stdout",
     "output_type": "stream",
     "text": [
      "('a', 'b')\n",
      "('a', 'c')\n",
      "('a', 'd')\n",
      "('a', 'e')\n",
      "('b', 'c')\n",
      "('b', 'd')\n",
      "('b', 'e')\n",
      "('c', 'd')\n",
      "('c', 'e')\n",
      "('d', 'e')\n"
     ]
    }
   ],
   "source": [
    "# Importar función\n",
    "from itertools import combinations\n",
    "\n",
    "# Definir un iterable\n",
    "X = \"abcde\"\n",
    "\n",
    "# Calcular combinaciones\n",
    "result = combinations(X, 2)\n",
    "\n",
    "# Visualizar el resultado\n",
    "for element in result:\n",
    "    print(element)"
   ]
  },
  {
   "cell_type": "markdown",
   "id": "ed2acd3d",
   "metadata": {},
   "source": [
    "<br>\n",
    "\n",
    "---\n",
    "### Ejemplo de product()\n",
    "\n",
    "A continuación se presenta un ejemplo de uso de `itertools.product()`.\n",
    "\n",
    "En este ejemplo se definen dos cadenas, cada una con 3 caracteres y se pretende conocer el producto cartesiano de ambas cadenas. El producto cartesiano son todas las posibles combinaciones entre los elementos de dos o más iterables donde el primer elemento del producto cartesiano solo pueden ser elementos del primer `iterable`, el segundo elemento solo pueden ser elementos del segundo `iterable`, etc.\n",
    "\n",
    "\n",
    "Equivale a `for-loops` anidados, por ejemplo `[*product(A, B)]` equivale a `[(a, b) for a in A for b in B]`"
   ]
  },
  {
   "cell_type": "code",
   "execution_count": 2,
   "id": "dbb84dcb",
   "metadata": {},
   "outputs": [
    {
     "name": "stdout",
     "output_type": "stream",
     "text": [
      "('a', '1')\n",
      "('a', '2')\n",
      "('a', '3')\n",
      "('b', '1')\n",
      "('b', '2')\n",
      "('b', '3')\n",
      "('c', '1')\n",
      "('c', '2')\n",
      "('c', '3')\n"
     ]
    }
   ],
   "source": [
    "# Importar función\n",
    "from itertools import product\n",
    "\n",
    "# Definir los iterables\n",
    "X = \"abc\"\n",
    "Y = \"123\"\n",
    "\n",
    "# Calcular el producto cartesiano\n",
    "result = product(X, Y)\n",
    "\n",
    "# Visualizar el resultado\n",
    "for element in result:\n",
    "    print(element)"
   ]
  },
  {
   "cell_type": "markdown",
   "id": "c4d348a4",
   "metadata": {},
   "source": [
    "<br><br>\n",
    "\n",
    "---\n",
    "## Iterator Infinitos\n",
    "\n",
    "A continuación se presenta una lista de funciones que generan `iterators` infinitos.\n",
    "\n",
    "```{list-table}\n",
    ":header-rows: 1\n",
    "\n",
    "* - Función\n",
    "  - Descripción\n",
    "* - [count](https://docs.python.org/3/library/itertools.html#itertools.count)(start=0, step=1)\n",
    "  - Crea un `iterator` que retorna valores espaciados uniformemente que comiencen en `start`.\n",
    "* - [cycle](https://docs.python.org/3/library/itertools.html#itertools.cycle)(iterable)\n",
    "  - Crea un `iterator` que devuelve los elementos de `iterable` y guarda una copia de cada uno. Cuando se agota el `iterable`, devuelve la copia guardada de los elementos.\n",
    "* - [repeat](https://docs.python.org/3/library/itertools.html#itertools.repeat)(object[, times])\n",
    "  - Crea un `iterator` que devuelve `object` una y otra vez.\n",
    "```\n",
    "\n",
    "---\n",
    "### Ejemplo de count()\n",
    "\n",
    "A continuación se presenta un ejemplo de uso de `itertools.count()`.\n",
    "\n",
    "En este ejemplo se define un `iterator` que comience en 2 y aumente en 2 en cada elemento. Tener en cuenta que este un `iterator` infinito."
   ]
  },
  {
   "cell_type": "code",
   "execution_count": 3,
   "id": "975a7a77",
   "metadata": {},
   "outputs": [
    {
     "name": "stdout",
     "output_type": "stream",
     "text": [
      "Primer elemento: 2\n",
      "Segundo elemento: 4\n",
      "Tercer elemento: 6\n",
      "...\n"
     ]
    }
   ],
   "source": [
    "# Importar función\n",
    "from itertools import count\n",
    "\n",
    "# Definir el iterator\n",
    "result = count(2, 2)\n",
    "\n",
    "# Visualizar primeros 3 resultados\n",
    "print(f\"Primer elemento: {next(result)}\")\n",
    "print(f\"Segundo elemento: {next(result)}\")\n",
    "print(f\"Tercer elemento: {next(result)}\")\n",
    "print(\"...\")"
   ]
  },
  {
   "cell_type": "markdown",
   "id": "ae1788d6",
   "metadata": {},
   "source": [
    "<br><br>\n",
    "\n",
    "---\n",
    "## Iterators finitios\n",
    "\n",
    "A continuación se presenta una lista de funciones que retornan `iterators` finitos, cuya logitud está determinada por el `iterable` más corto pasado como argumento.\n",
    "\n",
    "```{list-table}\n",
    ":header-rows: 1\n",
    "\n",
    "* - Función\n",
    "  - Descripción\n",
    "* - [accumulate](https://docs.python.org/3/library/itertools.html#itertools.accumulate)(iterable[, func, *, initial=None])\n",
    "  - Crea un `iterator` que devuelve sumas acumuladas, o resultados acumulados de otras funciones binarias (especificadas a través del argumento `func`).\n",
    "* - [chain](https://docs.python.org/3/library/itertools.html#itertools.chain)(*iterables)\n",
    "  - Crea un `iterator` que devuelve los elementos desde el primer `iterable` hasta que sea agotado, luego continúa con el siguiente `iterable`, hasta que todos los iterables estén exhaustos. Se utiliza para tratar secuencias consecutivas como una sola secuencia.\n",
    "* - [compress](https://docs.python.org/3/library/itertools.html#itertools.compress)(data, selectors)\n",
    "  - Crea un `iterator` que filtra los elementos de `data` y devuelve solo aquellos que tienen un elemento correspondiente en `selectors` que se evalúe como `True`.\n",
    "* - [dropwhile](https://docs.python.org/3/library/itertools.html#itertools.dropwhile)(predicate, iterable)\n",
    "  - Crea un `iterator` que elimina elementos del `iterable` siempre que `predicate` sea `True`; después, devuelve todos los elementos.\n",
    "* - [filterfalse](https://docs.python.org/3/library/itertools.html#itertools.filterfalse)(predicate, iterable)\n",
    "  - Crea un `iterator` que filtra los elementos de `iterable` y devuelve solo aquellos para cuyo `predicate` es `False`.\n",
    "* - [groupby](https://docs.python.org/3/library/itertools.html#itertools.groupby)(iterable, key=None)\n",
    "  - Genera un `iterator` tomando una función y una `iterable` y agrupa elementos consecutivos en el `iterable`, dependiendo del valor retornado por `key`. La `key` por default es una función de identidad y devuelve el elemento sin cambios.\n",
    "* - [islice](https://docs.python.org/3/library/itertools.html#itertools.islice)(iterable, start, stop[, step])\n",
    "  - Crea un `iterator` que devuelve elementos específicos de `iterable`.\n",
    "* - [pairwise](https://docs.python.org/3/library/itertools.html#itertools.pairwise)(iterable)\n",
    "  - Devuelve pares superpuestos sucesivos tomados de `iterable`.\n",
    "* - [starmap](https://docs.python.org/3/library/itertools.html#itertools.starmap)(function, iterable)\n",
    "  - Crea un `iterator` que calcula `function` usando los argumentos obtenidos de `iterable`.\n",
    "* - [takewhile](https://docs.python.org/3/library/itertools.html#itertools.takewhile)(predicate, iterable)\n",
    "  - Crea un `iterator` que devuelve elementos de `iterable` siempre que `predicate` sea `True`.\n",
    "* - [tee](https://docs.python.org/3/library/itertools.html#itertools.tee)(iterable, n=2)\n",
    "  - Devuelve `n` `iterators` independientes de un solo `iterable`.\n",
    "* - [zip_longest](https://docs.python.org/3/library/itertools.html#itertools.zip_longest)(*iterables, fillvalue=None)\n",
    "  - Crea un `iterator` que combina elementos de cada uno de los iterables. Si los iterables tienen una longitud desigual, los valores faltantes se completan con `fillvalue`.\n",
    "```\n",
    "\n",
    "---\n",
    "### Ejemplo de groupby()\n",
    "\n",
    "A continuación se presenta un ejemplo de uso de `itertools.groupby()`.\n",
    "\n",
    "En este ejemplo se define un iterable que contiene `tuples` cuyo primer elemento es una letra y el segundo elemento es un número, se pretende agrupar todos los tuples que tienen la misma letra."
   ]
  },
  {
   "cell_type": "code",
   "execution_count": 4,
   "id": "9e4f714d",
   "metadata": {},
   "outputs": [
    {
     "name": "stdout",
     "output_type": "stream",
     "text": [
      "Key: a, Grupo: [('a', 1), ('a', 2)]\n",
      "Key: b, Grupo: [('b', 3), ('b', 4), ('b', 5)]\n"
     ]
    }
   ],
   "source": [
    "# importar función\n",
    "from itertools import groupby\n",
    "\n",
    "# Definir un iterable\n",
    "data = [('a', 1), ('a', 2), ('b', 3), ('b', 4), ('b', 5)]\n",
    "\n",
    "# Calcular el groupby\n",
    "result = groupby(data, lambda x: x[0])\n",
    "\n",
    "# Ver el resultado\n",
    "for key, group in result:\n",
    "    print(f\"Key: {key}, Grupo: {list(group)}\")"
   ]
  }
 ],
 "metadata": {
  "jupytext": {
   "formats": "md:myst",
   "text_representation": {
    "extension": ".md",
    "format_name": "myst"
   }
  },
  "kernelspec": {
   "display_name": "Python 3",
   "language": "python",
   "name": "python3"
  },
  "language_info": {
   "codemirror_mode": {
    "name": "ipython",
    "version": 3
   },
   "file_extension": ".py",
   "mimetype": "text/x-python",
   "name": "python",
   "nbconvert_exporter": "python",
   "pygments_lexer": "ipython3",
   "version": "3.8.0"
  },
  "source_map": [
   11,
   62,
   75,
   89,
   103,
   132,
   144,
   191
  ]
 },
 "nbformat": 4,
 "nbformat_minor": 5
}