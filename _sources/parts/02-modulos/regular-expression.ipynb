{
 "cells": [
  {
   "cell_type": "markdown",
   "id": "35af6c37",
   "metadata": {},
   "source": [
    "# Regular Expressions\n",
    "\n",
    "Una “_expresión regular_” es una secuencia de caracteres para identificar y extraer patrones en cadenas. Para usar _regular expressions_ es necesario importar el módulo `re`.\n",
    "```python\n",
    "# Importar el módulo\n",
    "import re\n",
    "```\n",
    "\n",
    "Un patrón en expresiones regulares se conforma de:\n",
    "- Texto: Coincide tal cual como se indique en la cadena.\n",
    "- {ref}`caracteres-especiales` y {ref}`sec-especiales`: Son metacaracteres que significan algo en especial. Visitar sus respectivas secciones para más información.\n",
    "\n",
    "Si una o más partes de la cadena coinciden con el patrón entonces se dice que hay un \"_Match_\".\n",
    "\n",
    "<br>\n",
    "\n",
    "---\n",
    "## Buscar patrones usando regex\n",
    "\n",
    "Para buscar un patrón usando regular expressions se puede hacer principalmente de dos formas.\n",
    "\n",
    ":::{attention}\n",
    "Los patrones de expresiones regulares se indican utilizando cadenas _crudas_ (_\"raw strings\"_), es decir, como `r'regex_pattern'`.\n",
    ":::\n",
    "\n",
    "\n",
    "**1.** Usar directamente las {ref}`funciones` para buscar patrones. Por ejemplo `re.search()`, `re.match()` o `re.findall()`. En este caso se debe de proveer tanto del patrón a buscar como de la cadena donde se va a buscar el patrón. Ejemplo:"
   ]
  },
  {
   "cell_type": "code",
   "execution_count": 1,
   "id": "1e2757ae",
   "metadata": {},
   "outputs": [
    {
     "name": "stdout",
     "output_type": "stream",
     "text": [
      "123\n"
     ]
    }
   ],
   "source": [
    "# Importar el módulo\n",
    "import re\n",
    "\n",
    "# Definir una cadena\n",
    "X = \"abc 123 xyz\"\n",
    "\n",
    "# Buscar un patrón en la cadena\n",
    "result = re.search(r\"\\d+\", X)\n",
    "\n",
    "# Imprimir resultado\n",
    "print(result.group(0))"
   ]
  },
  {
   "cell_type": "markdown",
   "id": "7cc763e9",
   "metadata": {},
   "source": [
    "**2.** Usar la función `re.compile()` para compilar un patrón y retornar un objeto `Pattern` y posteriormente usar los {ref}`pattern-metodos` de `Pattern` para buscar coincidencias como `Pattern.search()`, `Pattern.match()` o `Pattern.findall()`. En este caso, el patrón a buscar se indica en la función `re.compile()` y la cadena donde se va a buscar se indica como argumento de los métodos de `Pattern`. Esta opción es particularmente útil si se utilizará en múltiples ocasiones un mismo patrón. Ejemplo:"
   ]
  },
  {
   "cell_type": "code",
   "execution_count": 2,
   "id": "8ebc9e3c",
   "metadata": {},
   "outputs": [
    {
     "name": "stdout",
     "output_type": "stream",
     "text": [
      "123\n"
     ]
    }
   ],
   "source": [
    "# Importar el módulo\n",
    "import re\n",
    "\n",
    "# Definir una cadena\n",
    "X = \"abc 123 xyz\"\n",
    "\n",
    "# Compilar un patrón\n",
    "pattern = re.compile(r\"\\d+\")\n",
    "\n",
    "# Buscar el patrón en X\n",
    "result = pattern.search(X)\n",
    "\n",
    "# Imprimir el patrón encontrado\n",
    "print(result.group(0))"
   ]
  },
  {
   "cell_type": "markdown",
   "id": "99535102",
   "metadata": {},
   "source": [
    "<br><br>\n",
    "\n",
    "---\n",
    "## Búsqueda greedy y non-greedy\n",
    "\n",
    "Se refiere a la manera como se realiza la búsqueda del patrón, cuando se utilizan los caracteres especiales (cuantificadores) `*`, `+`, `?` o `{min, max}` en un patrón, para ello se agrega un `?` extra.\n",
    "\n",
    "- **Greedy**: Coincide la mayor cantidad de caracteres posibles. Retorna el match más largo. Los caracteres especiales `*`, `+`, `?` o `{min, max}` son greedy por default.\n",
    "- **Non-greedy**: Coincide la menor cantidad de caracteres posibles. Retorna el match más corto. Se agrega el metacaracter `?`.\n",
    "\n",
    "La forma como funciona es que los caracteres especiales `*`, `+`, `?` o `{min, max}` tienen dos posibles opciones. Tomando a `+` como ejemplo, significa **una vez** o **más veces** el caracter a la izquierda. Por default se buscará que sea **más veces**, pero si se agrega un `?` entonces se forzará a que sea **una vez**. De tal forma que tenemos:\n",
    "- `+`: Más de una vez.\n",
    "- `+?`: Una vez.\n",
    "- `*`: Más de una vez.\n",
    "- `*?`: Cero veces.\n",
    "- `{min, max}`: _max_ veces.\n",
    "- `{min, max}?`: _min_ veces.\n",
    "- `?`: Una vez.\n",
    "- `??`: Cero veces.\n",
    "\n",
    "<br>\n",
    "\n",
    "***Ejemplo***: En este ejemplo se puede observar cómo se modifica la búsqueda de patrones dependiendo de si es una búsqueda greedy o non-greedy. El patrón que se está buscando son caracteres numéricos."
   ]
  },
  {
   "cell_type": "code",
   "execution_count": 3,
   "id": "b61ea274",
   "metadata": {},
   "outputs": [
    {
     "name": "stdout",
     "output_type": "stream",
     "text": [
      "123\n",
      "\n",
      "1\n",
      "\n",
      "123\n",
      "\n",
      "\n",
      "\n",
      "1\n",
      "\n",
      "\n",
      "\n",
      "123\n",
      "\n",
      "12\n"
     ]
    }
   ],
   "source": [
    "# Importar el módulo\n",
    "import re\n",
    "\n",
    "# Definir la cadena\n",
    "cadena = \"123abc\"\n",
    "\n",
    "# Cualquier dígito una o **mas veces** -> \"123\"\n",
    "print(re.search(r\"\\d+\", cadena).group(0), end=\"\\n\"*2)\n",
    "\n",
    "# Cualquier dígito **una** o mas veces -> \"1\"\n",
    "print(re.search(r\"\\d+?\", cadena).group(0), end=\"\\n\"*2) \n",
    "\n",
    "# Cualquier dígito cero o **mas veces** -> \"123\"\n",
    "print(re.search(r\"\\d*\", cadena).group(0), end=\"\\n\"*2) \n",
    "\n",
    "# Cualquier dígito **cero** o mas veces -> \"\"\n",
    "print(re.search(r\"\\d*?\", cadena).group(0), end=\"\\n\"*2) \n",
    "\n",
    "# Cualquier dígito cero o **una vez** -> \"1\"\n",
    "print(re.search(r\"\\d?\", cadena).group(0), end=\"\\n\"*2) \n",
    "\n",
    "# Cualquier dígito **cero** o una vez -> \"\"\n",
    "print(re.search(r\"\\d??\", cadena).group(0), end=\"\\n\"*2) \n",
    "\n",
    "# Cualquier dígito mínimo 2 y máximo **3 veces** -> \"123\"\n",
    "print(re.search(r\"\\d{2,3}\", cadena).group(0), end=\"\\n\"*2) \n",
    "\n",
    "# Cualquier dígito mínimo **2** y máximo 3 veces -> \"12\"\n",
    "print(re.search(r\"\\d{2,3}?\", cadena).group(0)) "
   ]
  },
  {
   "cell_type": "markdown",
   "id": "f5ea924d",
   "metadata": {},
   "source": [
    "<br><br>\n",
    "\n",
    "## Capturando grupos\n",
    "\n",
    "Si se desea recuperar solo una parte del patrón usado, y no todo, se puede encerrar entre paréntesis el grupo de caracteres que se desea recuperar. Un patrón puede tener uno o más grupos.\n",
    "\n",
    "---\n",
    "### Capturando un grupo\n",
    "\n",
    "La funcionalidad general cuando solo se captura un solo grupo es la siguiente:\n",
    "\n",
    "Si se usa `re.search()` o `Pattern.search()` se recupera solo la primer coincidencia que satisface el patrón en la cadena. \n",
    "\n",
    "El método `Match.group()` retorna el grupo capturado, el cual recibe como argumento un número entero, tener en cuenta lo siguiente:\n",
    "- Si no se indica ningún argumento equivale a usar cero `0`.\n",
    "- Si se indica cero `0` entonces se retorna toda la primer coincidencia con el patrón, no solo el grupo, sino todo el patrón.\n",
    "- Si se indica uno `1` entonces se retorna solo la primer coincidencia del grupo."
   ]
  },
  {
   "cell_type": "code",
   "execution_count": 4,
   "id": "df8c11ed",
   "metadata": {},
   "outputs": [
    {
     "name": "stdout",
     "output_type": "stream",
     "text": [
      "Patrón: 123\n",
      "Grupo: 123\n"
     ]
    }
   ],
   "source": [
    "# Importar el módulo\n",
    "import re\n",
    "\n",
    "# Definir una cadena\n",
    "X = \"abc 123 #&@ 789\"\n",
    "\n",
    "# Compilar el patrón definiendo un grupo\n",
    "result = re.search(r\"(\\d+)\", X)\n",
    "\n",
    "# Recuperar el patrón\n",
    "print(f\"Patrón: {result.group(0)}\")\n",
    "\n",
    "# Recuperar el grupo\n",
    "print(f\"Grupo: {result.group(1)}\")"
   ]
  },
  {
   "cell_type": "markdown",
   "id": "7f2c662b",
   "metadata": {},
   "source": [
    "- En en el ejemplo anterior, el patrón `\\d+` significa que se debe coincidir con uno o más dígitos. \n",
    "- `result.group(0)` y `result.group(1)` retornan el mismo resultado porque el patrón `r\"(\\d+)\"` es igual al grupo capturado (todo el patrón está entre paréntesis). \n",
    "\n",
    "Si se indica un patrón más complejo el resultado será diferente."
   ]
  },
  {
   "cell_type": "code",
   "execution_count": 5,
   "id": "b819f82f",
   "metadata": {},
   "outputs": [
    {
     "name": "stdout",
     "output_type": "stream",
     "text": [
      "Patrón: abc 123\n",
      "\n",
      "Grupo: 123\n"
     ]
    }
   ],
   "source": [
    "# Importar el módulo\n",
    "import re\n",
    "\n",
    "# Definir una cadena\n",
    "X = \"abc 123 #&@ 789\"\n",
    "\n",
    "# Compilar el patrón definiendo un grupo\n",
    "result = re.search(r\"\\w+ (\\d+)\", X)\n",
    "\n",
    "# Recuperar el patrón\n",
    "print(f\"Patrón: {result.group(0)}\", end=\"\\n\"*2)\n",
    "\n",
    "# Recuperar el grupo\n",
    "print(f\"Grupo: {result.group(1)}\")"
   ]
  },
  {
   "cell_type": "markdown",
   "id": "40a40965",
   "metadata": {},
   "source": [
    "Como se comentó anteriormente, `re.seach()` solo retorna la primer coincidencia. Si se desea recuperar todas las coincidencias se puede usar la función `re.findall()` o el método `Pattern.findall()`."
   ]
  },
  {
   "cell_type": "code",
   "execution_count": 6,
   "id": "ebdf79c3",
   "metadata": {},
   "outputs": [
    {
     "name": "stdout",
     "output_type": "stream",
     "text": [
      "Resultado de r'(\\d+)': ['123', '789']\n",
      "\n",
      "Resultado de r'\\w+ (\\d+)': ['123']\n"
     ]
    }
   ],
   "source": [
    "# Importar el módulo\n",
    "import re\n",
    "\n",
    "# Definir una cadena\n",
    "X = \"abc 123 #&@ 789\"\n",
    "\n",
    "# Compilar el patrón definiendo un grupo\n",
    "result = re.findall(r\"(\\d+)\", X)\n",
    "\n",
    "# Recuperar el patrón\n",
    "print(f\"Resultado de r\\'(\\d+)\\': {result}\", end=\"\\n\"*2)\n",
    "\n",
    "# Compilar el patrón definiendo un grupo\n",
    "result2 = re.findall(r\"\\w+ (\\d+)\", X)\n",
    "\n",
    "# Recuperar el patrón\n",
    "print(f\"Resultado de r\\'\\w+ (\\d+)\\': {result2}\")"
   ]
  },
  {
   "cell_type": "markdown",
   "id": "3053d3a1",
   "metadata": {},
   "source": [
    "- `result` retorna dos coincidencias porque hay dos subcadenas en `X` que representan uno o más dígitos.\n",
    "- `result2` retorna solo una coincidencia porque solo hay una subcadena que representa uno o más dígitos y que están después de uno o más caracteres alfabéticos, seguido de un espacio en blanco, lo cual solo se satisface con \"123\".\n",
    "\n",
    "<br>\n",
    "\n",
    "---\n",
    "### Capturando múltiples grupos\n",
    "\n",
    "Es posible recuperar dos o más grupos. Tener en cuenta que para recuperar un grupo específico se debe indicar su índice en el mismo orden en el que aparece en el patrón"
   ]
  },
  {
   "cell_type": "code",
   "execution_count": 7,
   "id": "dbe26fc8",
   "metadata": {},
   "outputs": [
    {
     "name": "stdout",
     "output_type": "stream",
     "text": [
      "Patrón: abc 123\n",
      "\n",
      "Grupo 1: abc\n",
      "\n",
      "Grupo 2: 123\n"
     ]
    }
   ],
   "source": [
    "# Importar el módulo\n",
    "import re\n",
    "\n",
    "# Definir una cadena\n",
    "X = \"abc 123 #&@ xyz 789\"\n",
    "\n",
    "# Compilar el patrón definiendo un grupo\n",
    "result = re.search(r\"(\\w+) (\\d+)\", X)\n",
    "\n",
    "# Recuperar el patrón buscado\n",
    "print(f\"Patrón: {result.group(0)}\", end=\"\\n\"*2)\n",
    "\n",
    "# Recuperar el grupo 1\n",
    "print(f\"Grupo 1: {result.group(1)}\", end=\"\\n\"*2)\n",
    "\n",
    "# Recuperar el grupo 2\n",
    "print(f\"Grupo 2: {result.group(2)}\")"
   ]
  },
  {
   "cell_type": "markdown",
   "id": "f18d8fce",
   "metadata": {},
   "source": [
    "Si se usa `re.findall()` o `Pattern.findall()` entonces se recupera una lista de tuplas con las coindidencias:"
   ]
  },
  {
   "cell_type": "code",
   "execution_count": 8,
   "id": "2efb039a",
   "metadata": {},
   "outputs": [
    {
     "name": "stdout",
     "output_type": "stream",
     "text": [
      "Resultado de r'\\w+ (\\d+)': [('abc', '123'), ('xyz', '789')]\n"
     ]
    }
   ],
   "source": [
    "# Importar el módulo\n",
    "import re\n",
    "\n",
    "# Definir una cadena\n",
    "X = \"abc 123 #&@ xyz 789\"\n",
    "\n",
    "# Compilar el patrón definiendo dos grupos\n",
    "result = re.findall(r\"(\\w+) (\\d+)\", X)\n",
    "\n",
    "# Recuperar los grupos\n",
    "print(f\"Resultado de r\\'\\w+ (\\d+)\\': {result}\")"
   ]
  },
  {
   "cell_type": "markdown",
   "id": "89a97fde",
   "metadata": {},
   "source": [
    "<br><br>\n",
    "\n",
    "---\n",
    "## Sustituyendo patrones\n",
    "\n",
    "En esta sección se cubre lo básico de cómo usar la función `re.sub()` para reemplazar patrones en una cadena por otros. La función `re.sub()` reemplaza todos los patrones encontrados por otra expresión, se puede limitar el número de reemplazos con el parámetro `count`.\n",
    "\n",
    "En su forma más simple reemplaza todas las coincidencias por otra cadena. Por ejemplo, reemplazar todos las subcadenas que sean dígitos por un \"-\"."
   ]
  },
  {
   "cell_type": "code",
   "execution_count": 9,
   "id": "1df8177b",
   "metadata": {},
   "outputs": [
    {
     "name": "stdout",
     "output_type": "stream",
     "text": [
      "abc - #&@ xyz -\n"
     ]
    }
   ],
   "source": [
    "# Importar el módulo\n",
    "import re\n",
    "\n",
    "# Definir una cadena\n",
    "X = \"abc 123 #&@ xyz 789\"\n",
    "\n",
    "# Encontrar el patrón\n",
    "result = re.sub(r\"\\d+\", \"-\", X)\n",
    "\n",
    "# Imprimir resultado\n",
    "print(result)"
   ]
  },
  {
   "cell_type": "markdown",
   "id": "d3b4e144",
   "metadata": {},
   "source": [
    "Es posible recuperar la coincidencia usando grupos para incluirla en el reemplazo utilizando `\\1` para recuperar el primer grupo, `\\2` para el segundo grupo, etc. Por ejemplo, reemplazar todas las subcadenas que sean dígitos por la misma subcadena entre paréntesis"
   ]
  },
  {
   "cell_type": "code",
   "execution_count": 10,
   "id": "e3e68253",
   "metadata": {},
   "outputs": [
    {
     "name": "stdout",
     "output_type": "stream",
     "text": [
      "abc (123) #&@ (789)\n"
     ]
    }
   ],
   "source": [
    "# Importar el módulo\n",
    "import re\n",
    "\n",
    "# Definir una cadena\n",
    "X = \"abc 123 #&@ 789\"\n",
    "\n",
    "# Encontrar el patrón \n",
    "result = re.sub(r\"(\\d+)\", r\"(\\1)\", X)\n",
    "\n",
    "# Imprimir resultado\n",
    "print(result)"
   ]
  },
  {
   "cell_type": "markdown",
   "id": "1003381b",
   "metadata": {},
   "source": [
    "- Un mismo grupo se puede utilizar más de una vez en el reemplazo. Por ejemplo, si en lugar de usar `r\"(\\1)\"` se usará `r\"(\\1-\\1)\"`, entonces `123` se reemplazaría por `(123-123)`.\n",
    "\n",
    "\n",
    "Tener en cuenta que lo que se reemplaza es toda la coincidencia, no solo el grupo. En el siguiente ejemplo el patrón es uno o más caracteres alfabéticos, un espacio y uno o más dígitos y se cambiarán el orden en que aparece el patrón."
   ]
  },
  {
   "cell_type": "code",
   "execution_count": 11,
   "id": "715b4f33",
   "metadata": {},
   "outputs": [
    {
     "name": "stdout",
     "output_type": "stream",
     "text": [
      "123 abc 789 xyz\n"
     ]
    }
   ],
   "source": [
    "# Importar el módulo\n",
    "import re\n",
    "\n",
    "# Definir una cadena\n",
    "X = \"abc 123 xyz 789\"\n",
    "\n",
    "# Encontrar el patrón\n",
    "result = re.sub(r\"(\\w+) (\\d+)\", r\"\\2 \\1\", X)\n",
    "\n",
    "# Imprimir resultado\n",
    "print(result)"
   ]
  },
  {
   "cell_type": "markdown",
   "id": "039bd9ed",
   "metadata": {},
   "source": [
    "- En este ejemplo hay dos coincidencias `abc 123` y `xyz 789`, por lo tanto lo que se intercambia es el orden en cada coincidencia.\n",
    "\n",
    "Finalmente, es posible usar una función para reemplazar la coincidencia, esta función recibe como parámetro un objeto `Match`. En el siguiente ejemplo se busca uno o más caracteres alfabéticos y se reemplaza por la misma cadena pero en mayúsculas."
   ]
  },
  {
   "cell_type": "code",
   "execution_count": 12,
   "id": "0686c49c",
   "metadata": {},
   "outputs": [
    {
     "name": "stdout",
     "output_type": "stream",
     "text": [
      "ABC 123 #&@ 789 ZYX\n"
     ]
    }
   ],
   "source": [
    "# Importar el módulo\n",
    "import re\n",
    "\n",
    "# Definir una cadena\n",
    "X = \"abc 123 #&@ 789 zyx\"\n",
    "\n",
    "# Encontrar el patrón \"abc\"\n",
    "result = re.sub(r\"(\\w+)\", lambda match: match.group().upper(), X)\n",
    "\n",
    "# Imprimir resultado\n",
    "print(result)"
   ]
  },
  {
   "cell_type": "markdown",
   "id": "a387cfb0",
   "metadata": {},
   "source": [
    "- En este ejemplo hay dos coincidencias con el patrón `abc` y `zxy`.\n",
    "- En este ejemplo en particular usar `match.group()` equivale a usar `match.group(0)` y `match.group(1)`.\n",
    "\n",
    "<br><br>\n",
    "\n",
    "---\n",
    "## Flags\n",
    "\n",
    "A continuación se presenta una lista de `flags` para modificar el comportamiento de las {ref}`funciones` o de los métodos de objetos como {ref}`objeto-match` o {ref}`objeto-pattern`. Las flags se ponen como argumentos de las funciones como `re.search()`, `re.match()` o `re.find_all()` o de los métodos del objeto `Pattern`.\n",
    "\n",
    "Listado de flags:\n",
    "\n",
    ":::{warning}\n",
    "La mayoría de las flags tienen 2 posibles formas de representarlas, aquí solo se presenta una de esas formas. Presionar en el nombre de cada flag para dirigirse a la documentación de Python para obtener más información.\n",
    ":::\n",
    "\n",
    "\n",
    "```{list-table}\n",
    ":header-rows: 1\n",
    "\n",
    "* - Flag\n",
    "  - Descripción\n",
    "* - [A](https://docs.python.org/3/library/re.html#re.A)\n",
    "  - Hace que `\\w`, `\\W`, `\\b`, `\\B`, `\\d`, `\\D`, `\\s` y `\\S` realicen solo coincidencias ASCII en lugar de coincidencias Unicode completas.\n",
    "* - [DEBUG](https://docs.python.org/3/library/re.html#re.DEBUG)\n",
    "  - Muestra información de depuración sobre la expresión compilada.\n",
    "* - [I](https://docs.python.org/3/library/re.html#re.I)\n",
    "  - Indica que se realicen las coincidencias sin distinción entre mayúsculas y minúsculas.\n",
    "* - [L](https://docs.python.org/3/library/re.html#re.L)\n",
    "  - Hace que `\\w`, `\\W`, `\\b`, `\\B` y coincidencias sin distinción entre mayúsculas y minúsculas dependientes de la configuración regional actual.\n",
    "* - [M](https://docs.python.org/3/library/re.html#re.M)\n",
    "  - Hace que el carácter de patrón '^' coincide con el principio de la cadena y al comienzo de cada línea (inmediatamente después de cada salto de línea); y el carácter de patrón '$' coincide al final de la cadena y al final final de cada línea (inmediatamente antes de cada salto de línea).\n",
    "* - [NOFLAG](https://docs.python.org/3/library/re.html#re.NOFLAG)\n",
    "  - Indica que no se aplique ningúna flag, el valor es 0.\n",
    "* - [S](https://docs.python.org/3/library/re.html#re.S)\n",
    "  - Indica que el carácter especial '.' coincida con cualquier carácter, incluido un nueva línea (`\\n`).\n",
    "* - [X](https://docs.python.org/3/library/re.html#re.X)\n",
    "  - Esta flag permite escribir expresiones regulares que se ven mejor y son más legible al permitir separar visualmente secciones lógicas del patrón y añadir comentarios.\n",
    "```\n",
    "\n",
    "<br>\n",
    "\n",
    "---\n",
    "### Ejemplo de uso: \n",
    "\n",
    "A continuación se ejemplifica como usar la flag `re.I` para no hacer distintinción entre mayúsculas y minúsculas al momento de hacer una búsqueda. Notar que esta misma flag también se puede expresar como `re.IGNORECASE`."
   ]
  },
  {
   "cell_type": "code",
   "execution_count": 13,
   "id": "a641f0e2",
   "metadata": {},
   "outputs": [
    {
     "name": "stdout",
     "output_type": "stream",
     "text": [
      "Resultado de buscar 'abc': ['abc']\n",
      "Resultado de buscar 'abc' con re.I: ['abc', 'ABC', 'AbC']\n"
     ]
    }
   ],
   "source": [
    "# Importar el módulo\n",
    "import re\n",
    "\n",
    "# Definir una cadena\n",
    "X = \"abc 123 ABC 456 AbC\"\n",
    "\n",
    "# Encontrar el patrón \"abc\"\n",
    "result = re.findall(r\"abc\", X)\n",
    "\n",
    "# Imprimir resultado\n",
    "print(f\"Resultado de buscar \\'abc\\': {result}\")\n",
    "\n",
    "# Ignorando minúsculas y mayúsculas\n",
    "result2 = re.findall(r\"abc\", X, re.I)\n",
    "\n",
    "# Imprimir resultado\n",
    "print(f\"Resultado de buscar \\'abc\\' con re.I: {result2}\")"
   ]
  },
  {
   "cell_type": "markdown",
   "id": "6eb64272",
   "metadata": {},
   "source": [
    "<br><br>\n",
    "\n",
    "---\n",
    "(funciones)=\n",
    "## Funciones\n",
    "\n",
    "A Continuación se presenta una lista de funciones del módulo `re`.\n",
    "\n",
    "```{list-table}\n",
    ":header-rows: 1\n",
    "\n",
    "* - Función\n",
    "  - Descripción\n",
    "* - [compile](https://docs.python.org/3/library/re.html#re.compile)(pattern, flags=0)\n",
    "  - Compila un patrón de expresión regular en un objeto de expresión regular, que se puede usar para hacer coincidir usando `match()`, `search()` y otros métodos.\n",
    "* - [escape](https://docs.python.org/3/library/re.html#re.escape)(pattern)\n",
    "  - Para indicar que se ignores caracteres especiales en el patrón.\n",
    "* - [findall](https://docs.python.org/3/library/re.html#re.findall)(pattern, string, flags=0)\n",
    "  - Devuelve todas las coincidencias no superpuestas del patrón en la cadena como `list`. Si no se encuentran coincidencias entonces devuélve una lista vacía. Cuando `pattern` tiene grupos, retorma `list` de `tuples`, donde cada elemento del `tuple` es un grupo.\n",
    "* - [finditer](https://docs.python.org/3/library/re.html#re.finditer)(pattern, string, flags=0)\n",
    "  - Retorna un `iterator` que produce objetos `match` sobre todas las coincidencias que no se superponen para el patrón en la cadena.\n",
    "* - [fullmatch](https://docs.python.org/3/library/re.html#re.fullmatch)(pattern, string, flags=0)\n",
    "  - Si toda la cadena coincide con el patrón de expresión regular, devuelve un objeto `match` correspondiente. Retorna `None` si la cadena no coincide con el patrón.\n",
    "* - [match](https://docs.python.org/3/library/re.html#re.match)(pattern, string, flags=0)\n",
    "  - Retorna un objeto `match` si se encuentra un patrón al principio de una cadena. Retorna `None` si la cadena no coincide con el patrón.\n",
    "* - [purge](https://docs.python.org/3/library/re.html#re.purge)()\n",
    "  - Borre la caché de expresiones regulares.\n",
    "* - [search](https://docs.python.org/3/library/re.html#re.search)(pattern, string, flags=0)\n",
    "  - Retorna un objeto `match` si se encuentra un patrón en una cadena. Si hay más de una coincidencia, solo devolverá la información de la primera coincidencia.\n",
    "* - [split](https://docs.python.org/3/library/re.html#re.split)(pattern, string, maxsplit=0, flags=0)\n",
    "  - Divide la cadena por las ocurrencias del patrón. Si los paréntesis de captura son utilizado en el patrón, también se devuelve el texto de todos los grupos en el patrón como parte de la lista resultante.\n",
    "* - [sub](https://docs.python.org/3/library/re.html#re.sub)(pattern, repl, string, count=0, flags=0)\n",
    "  - Reemplaza un patrón por otro en una cadena. Por default reemplaza todos los patrones que se encuentren.\n",
    "* - [subn](https://docs.python.org/3/library/re.html#re.subn)(pattern, repl, string, count=0, flags=0)\n",
    "  - Realiza la misma operación que `sub()`, pero devuelva un `tuple` `(new_string, number_of_subs_made)`.\n",
    "```\n",
    "\n",
    "<br><br>\n",
    "\n",
    "---\n",
    "(objeto-pattern)=\n",
    "## Objeto Regular Expression\n",
    "\n",
    "Los objetos de regular expression `Pattern` son objetos que son retornados por la función `re.compile()`. Estos objetos se pueden usar para buscar coincidencias.\n",
    "\n",
    "### Crear un objeto Pattern\n",
    "\n",
    "Para crear un objeto `Pattern` se debe de usar la función `re.compile()`, donde se indique la expresión regular a buscar."
   ]
  },
  {
   "cell_type": "code",
   "execution_count": 14,
   "id": "802e41c3",
   "metadata": {},
   "outputs": [
    {
     "name": "stdout",
     "output_type": "stream",
     "text": [
      "<class 're.Pattern'>\n"
     ]
    }
   ],
   "source": [
    "# Importar el módulo\n",
    "import re\n",
    "\n",
    "# Crear el objeto\n",
    "pattern = re.compile(r\"$a\\d*\")\n",
    "\n",
    "# Imprimir el tipo de pattern\n",
    "print(type(pattern))"
   ]
  },
  {
   "cell_type": "markdown",
   "id": "74eea8cb",
   "metadata": {},
   "source": [
    "Posteriormente se pueden usar sus atributos y métodos para recuperar información sobre el objeto o realizar búsqueda de patrones, entre otras acciones.\n",
    "\n",
    "\n",
    "<br>\n",
    "\n",
    "---\n",
    "### Atributos\n",
    "\n",
    "A continuación se presenta una lista de los atributos de instancia de `Pattern`. \n",
    "\n",
    "```{list-table}\n",
    ":header-rows: 1\n",
    "\n",
    "* - Atributo\n",
    "  - Descripción\n",
    "* - [flags](https://docs.python.org/3/library/re.html#re.Pattern.flags)\n",
    "  - Las flags de coincidencia de expresiones regulares.\n",
    "* - [groupindex](https://docs.python.org/3/library/re.html#re.Pattern.groupindex)\n",
    "  - Un diccionario que mapea cualquier nombre de grupo simbólico definido por `(?P<id>)` para agrupar números.\n",
    "* - [groups](https://docs.python.org/3/library/re.html#re.Pattern.groups)\n",
    "  - El número de grupos de captura en el patrón.\n",
    "* - [pattern](https://docs.python.org/3/library/re.html#re.Pattern.pattern)\n",
    "  - La cadena de patrón a partir de la cual se compiló el objeto `Pattern`.\n",
    "```\n",
    "\n",
    "<br>\n",
    "\n",
    "---\n",
    "(pattern-metodos)=\n",
    "### Métodos\n",
    "\n",
    "A continuación se presenta una lista de los métodos de instancia de `Pattern`. \n",
    "\n",
    "```{list-table}\n",
    ":header-rows: 1\n",
    "\n",
    "* - Método\n",
    "  - Descripción\n",
    "* - [findall](https://docs.python.org/3/library/re.html#re.Pattern.findall)(string[, pos[, endpos]])\n",
    "  - Devuelve todas las coincidencias no superpuestas del patrón en la cadena como `list`. Si no se encuentran coincidencias entonces devuélve una lista vacía. Cuando `pattern` tiene grupos, retorma `list` de `tuple`, donde cada elemento del `tuple` es un grupo.\n",
    "* - [finditer](https://docs.python.org/3/library/re.html#re.Pattern.finditer)(string[, pos[, endpos]])\n",
    "  - Retorna un `iterator` que produce objetos `match` sobre todas las coincidencias que no se superponen para el patrón en la cadena.\n",
    "* - [fullmatch](https://docs.python.org/3/library/re.html#re.Pattern.fullmatch)(string[, pos[, endpos]])\n",
    "  - Si toda la cadena coincide con el patrón de expresión regular, devuelve un objeto `match` correspondiente. Retorna `None` si la cadena no coincide con el patrón.\n",
    "* - [match](https://docs.python.org/3/library/re.html#re.Pattern.match)(string[, pos[, endpos]])\n",
    "  - Retorna un objeto `match` si se encuentra un patrón al principio de una cadena. Retorna `None` si la cadena no coincide con el patrón.\n",
    "* - [search](https://docs.python.org/3/library/re.html#re.Pattern.search)(string[, pos[, endpos]])\n",
    "  - Retorna un objeto `match` si se encuentra un patrón en una cadena. Si hay más de una coincidencia, solo devolverá la información de la primera coincidencia.\n",
    "* - [split](https://docs.python.org/3/library/re.html#re.Pattern.split)(string, maxsplit=0)\n",
    "  - Divide la cadena por las ocurrencias del patrón. Si los paréntesis de captura son utilizado en el patrón, también se devuelve el texto de todos los grupos en el patrón como parte de la lista resultante.\n",
    "* - [sub](https://docs.python.org/3/library/re.html#re.Pattern.sub)(repl, string, count=0)\n",
    "  - Reemplaza un patrón por otro en una cadena. Por default reemplaza todos los patrones que se encuentren.\n",
    "* - [subn](https://docs.python.org/3/library/re.html#re.Pattern.subn)(repl, string, count=0)\n",
    "  - Realiza la misma operación que `sub()`, pero devuelva un `tuple` `(new_string, number_of_subs_made)`.\n",
    "```\n",
    "\n",
    "<br><br>\n",
    "\n",
    "---\n",
    "(objeto-match)=\n",
    "## Objeto Match\n",
    "\n",
    "Los objetos `Match` son objetos que son retornados por funciones como `re.match()` o `re.search()` o por métodos como `Pattern.match()` o `Pattern.search()`. En ellos está contenida la información de la primer coincidencia de un patrón."
   ]
  },
  {
   "cell_type": "code",
   "execution_count": 15,
   "id": "6fb2526f",
   "metadata": {},
   "outputs": [
    {
     "name": "stdout",
     "output_type": "stream",
     "text": [
      "<class 're.Match'>\n",
      "\n",
      "123\n"
     ]
    }
   ],
   "source": [
    "# Importar el módulo\n",
    "import re\n",
    "\n",
    "# Definir una cadena\n",
    "X = \"abc 123 xyz\"\n",
    "\n",
    "# Compilar un patrón\n",
    "pattern = re.compile(r\"\\d+\")\n",
    "\n",
    "# Buscar el patrón en X\n",
    "M = pattern.search(X)\n",
    "\n",
    "# Imprimir el tipo de M\n",
    "print(type(M), end=\"\\n\"*2)\n",
    "\n",
    "# Imprimir el patrón encontrado\n",
    "print(M.group(0))"
   ]
  },
  {
   "cell_type": "markdown",
   "id": "add6d3b0",
   "metadata": {},
   "source": [
    "Posteriormente se pueden usar sus atributos y métodos para recuperar información sobre el objeto, entre otras acciones.\n",
    "\n",
    "<br>\n",
    "\n",
    "---\n",
    "### Atributos\n",
    "\n",
    "A continuación se presenta una lista de los atributos de instancia de `Match`. \n",
    "\n",
    "```{list-table}\n",
    ":header-rows: 1\n",
    "\n",
    "* - Atributo\n",
    "  - Descripción\n",
    "* - [endpos](https://docs.python.org/3/library/re.html#re.Match.endpos)\n",
    "  - El valor de `endpos` que se pasó a `search()` o `match()` de un objeto `regex`.\n",
    "* - [lastgroup](https://docs.python.org/3/library/re.html#re.Match.lastgroup)\n",
    "  - El nombre del último grupo de captura coincidente, o `None` si el grupo no tienen un nombre, o si ningún grupo coincidió en absoluto.\n",
    "* - [lastindex](https://docs.python.org/3/library/re.html#re.Match.lastindex)\n",
    "  - El índice del último grupo de captura coincidente, o `None` si no hay grupo que coincidió en absoluto.\n",
    "* - [pos](https://docs.python.org/3/library/re.html#re.Match.pos)\n",
    "  - El valor de `pos` que se pasó a los métodos `search()` o `match()` de un objeto `regex`.\n",
    "* - [re](https://docs.python.org/3/library/re.html#re.Match.re)\n",
    "  - Retorna el objeto `regex` (el patrón) cuyo `match()` o `search()` produjo esta instancia de `match`.\n",
    "* - [string](https://docs.python.org/3/library/re.html#re.Match.string)\n",
    "  - La cadena pasada a `match()` o `search()`.\n",
    "```\n",
    "\n",
    "<br>\n",
    "\n",
    "---\n",
    "### Métodos\n",
    "\n",
    "A continuación se presenta una lista de los métodos de instancia de `Match`. \n",
    "\n",
    "```{list-table}\n",
    ":header-rows: 1\n",
    "\n",
    "* - Método\n",
    "  - Descripción\n",
    "* - [end](https://docs.python.org/3/library/re.html#re.Match.start)([group])\n",
    "  - Retorna la posición en la cadena, donde termina la coincidencia.\n",
    "* - [expand](https://docs.python.org/3/library/re.html#re.Match.expand)(template)\n",
    "  - Devuelve la cadena obtenida al hacer sustitución usando _backslash_ en la plantilla de cadena `template`, como lo hace el método `sub()`.\n",
    "* - [group](https://docs.python.org/3/library/re.html#re.Match.group)([group1, ...])\n",
    "  - Devuelve uno o más subgrupos de la coincidencia.\n",
    "* - [groupdict](https://docs.python.org/3/library/re.html#re.Match.groupdict)(default=None)\n",
    "  - Devuelve un diccionario que contiene todos los subgrupos con nombre de la coincidencia, la _key_ es el nombre del subgrupo.\n",
    "* - [groups](https://docs.python.org/3/library/re.html#re.Match.groups)(default=None)\n",
    "  - Devuelve una tupla que contiene todos los subgrupos de la coincidencia.\n",
    "* - [span](https://docs.python.org/3/library/re.html#re.Match.span)([group])\n",
    "  - Para una coincidencia `m`, retorna la posición inicial y final de la primer coincidencia del patrón `(m.start(group), m.end(group))`.\n",
    "* - [start](https://docs.python.org/3/library/re.html#re.Match.start)([group])\n",
    "  - Retorna la posición en la cadena, donde empieza la coincidencia.\n",
    "```\n",
    "\n",
    "<br><br>\n",
    "\n",
    "---\n",
    "(caracteres-especiales)=\n",
    "## Caracteres especiales\n",
    "\n",
    "A continuación se presenta una lista de caracteres especiales para conformar las expresiones regulares. Para más información consultar la [documentacón](https://docs.python.org/3/library/re.html#regular-expression-syntax) de Python.\n",
    "\n",
    "```{list-table}\n",
    ":header-rows: 1\n",
    ":name: table-caracteres-especiales\n",
    "\n",
    "* - Carácter\n",
    "  - Descripción\n",
    "  - Ejemplo\n",
    "* - `[]`\n",
    "  - Un conjunto de caracteres. Se busca cualquier caracter contenido en el conjunto. Aquí no se pueden poner metaracteres ni secuencias especiales. Para representar rangos de letras y números usar a-z, A-Z y 0-9.\n",
    "  - `[a-m]`: De la \"a\" a la \"m\". <br>\n",
    "    `[^a-c]`: Cualquier carácter excepto \"a\", \"b\" o \"c\". En este caso `^` es negación. <br>\n",
    "    `[#$&]`: Cualquier carácter \"#\", \"$\" o \"&\".\n",
    "* - `\\`\n",
    "  - Para insertar {ref}`sec-especiales`. También para poder incluir caracteres como los caracteres especiales.\n",
    "  - `\\d` : Un número del 0-9. <br>\n",
    "    `\\.$`: La cadena termine con un punto. <br>\n",
    "    `\\$\\d+`: La cadena contiene un símbolo \"$\" seguido de uno o más dígitos.\n",
    "* - `.`\n",
    "  - Cualquier carácter. Excepto una línea nueva. Para también incluir saltos de línea usar la flag `S` o `DOTALL`.\n",
    "  - `he..o`: Cualquier cadena que empiece con \"he\", seguido de dos caracteres cualesquiera y termine con \"o\".\n",
    "* - `^`\n",
    "  - La cadena empiece con.\n",
    "  - `^he`: La cadena mpiece con \"he\".\n",
    "* - `$`\n",
    "  - La cadena termine con.\n",
    "  - `llo$`: La cadena ermine con \"llo\".\n",
    "* - `*`\n",
    "  - Cero o más ocurrencias del caracter a la izquierda.\n",
    "  - `aix*`: El patrón \"ai\" seguido por cero o más \"x\".\n",
    "* - `+`\n",
    "  - Una o más ocurrencias del caracter a la izquierda.\n",
    "  - `aix+`: El patrón \"ai\" seguido por una o más \"x\".\n",
    "* - `?`\n",
    "  - Cero o una ocurrencia del caracter a la izquierda.\n",
    "  - `aix?`: El patrón \"ai\" seguido por cero o una \"x\".\n",
    "* - `{}`\n",
    "  - Número específico de ocurrencias del caracter a la izquierda.\n",
    "  - `al{N}`: Buscar el patrón \"a\" seguido por _N_ \"l\". <br>\n",
    "    `al{N,M}`: Buscar el patrón \"a\" seguido por mínimo _N_ \"l\" y máximo _M_ \"l\". Si se omite _M_ sería infinto y si se omite _N_ sería cero.\n",
    "* - `|`\n",
    "  - O\n",
    "  - `falls|stays`: Buscar cualquiera de esos dos patrones.\n",
    "* - `()`\n",
    "  - Agrupar sub-patrones\n",
    "  - `(a|b|c)xz`: Busque el patrón \"a\", \"b\" o \"c\" seguido de \"xz\". Indican el comienzo y fin de un grupo.\n",
    "```\n",
    "\n",
    "---\n",
    "(sec-especiales)=\n",
    "## Secuencias especiales\n",
    "\n",
    "A continuación se presenta una lista de secuencias especiales que utilizan el símbolo \"`\\`\" para conformar las expresiones regulares. Para más información consultar la [documentacón](https://docs.python.org/3/library/re.html#regular-expression-syntax) de Python.\n",
    "\n",
    "```{list-table}\n",
    ":header-rows: 1\n",
    ":name: table-secuencias-especiales\n",
    "\n",
    "* - Secuencia\n",
    "  - Descripción\n",
    "  - Ejemplo\n",
    "* - `\\A`\n",
    "  - Retorna una coincidencia si los caracteres específicados están al principio de una cadena.\n",
    "  - `r\"\\Athe\"`: La cadena empiece con \"the\".\n",
    "* - `\\b`\n",
    "  - Retorna una coincidencia si los caracteres específicados están presentes al principio o al final de una palabra de la cadena.\n",
    "  - `r\"\\bain\"`: Alguna palabra de la cadena empiece con \"ain\". <br>\n",
    "    `r\"ain\\b\"`: Alguna palabra de la cadena termine con \"ain\".\n",
    "* - `\\B`\n",
    "  - Retorna una coincidencia si los caracteres específicados están presentes, pero NO están al princio o al final de las palabras de una cadena.\n",
    "  - `r\"\\Bain\"`: \"ain\" esté presente en la cadena, pero no al pincipio de ninguna palabra. <br>\n",
    "    `r\"ain\\B\"`: \"ain\" esté presente en la cadena, pero no al final de ninguna palabra.\n",
    "* - `\\d`\n",
    "  - Representa un carácter numérico del 0-9.\n",
    "  - `r\"\\d\"`: La cadena contiene dígitos (0-9).\n",
    "* - `\\D`\n",
    "  - Representa un caracter que no sea numérico.\n",
    "  - `r\"\\D\"`: La cadena no contiene dígitos.\n",
    "* - `\\s`\n",
    "  - Representa una caracter que sea un espacio en blanco (`\\n`, `\\t`, `' '`, etc.).\n",
    "  - `r\"\\s\"`: La cadena contiene espacios en blanco.\n",
    "* - `\\S`\n",
    "  - Representa una caracter que no sea un espacio en blanco (`\\n`, `\\t`, `' '`, etc.).\n",
    "  - `r\"\\S\"`: La cadena no contiene espacios en blanco.\n",
    "* - `\\w`\n",
    "  - Representa un caracter que sea a-Z, 0-9 o guión bajo \"_\".\n",
    "  - `r\"\\w\"`: La cadena contiene caracteres de a-Z, 0-9 o \"_\".\n",
    "* - `\\W`\n",
    "  - Representa un caracter que no sea a-Z, 0-9 o guión bajo \"_\".\n",
    "  - `r\"\\W\"`: La cadena no contiene caracteres de a-Z, 0-9 o \"_\".\n",
    "* - `\\Z`\n",
    "  - Retorna una coincidencia si los caracteres específicados están al final de una cadena\n",
    "  - `r\"/Zend\"`: La cadena termina con \"end\".\n",
    "```"
   ]
  }
 ],
 "metadata": {
  "jupytext": {
   "formats": "md:myst",
   "text_representation": {
    "extension": ".md",
    "format_name": "myst"
   }
  },
  "kernelspec": {
   "display_name": "Python 3",
   "language": "python",
   "name": "python3"
  },
  "language_info": {
   "codemirror_mode": {
    "name": "ipython",
    "version": 3
   },
   "file_extension": ".py",
   "mimetype": "text/x-python",
   "name": "python",
   "nbconvert_exporter": "python",
   "pygments_lexer": "ipython3",
   "version": "3.8.0"
  },
  "source_map": [
   11,
   41,
   53,
   57,
   72,
   98,
   128,
   149,
   164,
   170,
   185,
   189,
   207,
   218,
   236,
   240,
   252,
   263,
   275,
   279,
   291,
   297,
   309,
   314,
   326,
   375,
   393,
   445,
   454,
   521,
   539
  ]
 },
 "nbformat": 4,
 "nbformat_minor": 5
}