{
 "cells": [
  {
   "cell_type": "markdown",
   "id": "c52ea991",
   "metadata": {},
   "source": [
    "# Datetime\n",
    "\n",
    "Es un módulo para trabajar con datos de tipo fecha y tiempo. Es necesario importarlo:\n",
    "```python\n",
    "# Importar todo el módulo\n",
    "import datetime\n",
    "\n",
    "# Importar una clase específica\n",
    "from datetime import class_name\n",
    "```\n",
    "- _class_name_ es el nombre de clase que se desea importar,\n",
    "- Estos solo son dos ejemplos de como importar el módulo, se puede usar cualquier rutina de importación, como importar con alias, importar constantes específicas, etc.\n",
    "\n",
    "---\n",
    "## ISO 8601\n",
    "\n",
    "Muchos métodos de este módulo utilizan el formato ISO 8601, el cual es el siguiente:\n",
    "> YYYY-MM-DDTHH:MM:SS\n",
    "\n",
    "- YYYY: Año de cuatro dígitos, desde 0000 a 9999.\n",
    "- MM: Mes de dos dígitos, del 01 a 12.\n",
    "- DD: Día de dos dígitos, del 01 al 31.\n",
    "- HH: Horas de dos dígitos, desde 00 a 23.\n",
    "- MM: Minutos de dos dígitos, desde 00 a 59.\n",
    "- SS: Segundos de dos dígitos, desde 00 a 59.\n",
    "\n",
    "---\n",
    "## Clases\n",
    "\n",
    "Existen diferentes tipos de datos de fecha y tiempo, cada tipo es una clase dentro del módulo `datetime` y cada clase tiene métodos y atributos diferentes:\n",
    "- [date](https://docs.python.org/3/library/datetime.html#date-objects): (año, mes, día), Asume el calendario gregoriano.\n",
    "- [time](https://docs.python.org/3/library/datetime.html#time-objects): (hora, minuto, segundo, microsegundo, zona horaria), Asume que cada día tiene exactamente 24 horas, cada hora 60 minutos y cada minuto 60 segundos.\n",
    "- [datetime](https://docs.python.org/3/library/datetime.html#datetime-objects): (año, mes, día, hora, minuto, segundo, microsegundo, zona horaria), Combinación de `date` y `time`.\n",
    "- [timedelta](https://docs.python.org/3/library/datetime.html#timedelta-objects): Representa la diferencia de dos fechas o tiempos. Se pueden hacer operaciones aritméticas con objetos timedelta. \n",
    "- [tzinfo](https://docs.python.org/3/library/datetime.html#tzinfo-objects): Objetos con información sobre la zona horaria.\n",
    "- [timezone](https://docs.python.org/3/library/datetime.html#timezone-objects): Implementa la clase base abstracta `tzinfo` como un desfase fijo de UTC.\n",
    "\n",
    "```{warning}\n",
    "En este sitio solo se presentarán las clases `date`, `time`, `datetime` y `timedelta`.\n",
    "```\n",
    "\n",
    "---\n",
    "## Constantes\n",
    "\n",
    "A continuación se presenta una lista de las constantes disponibles en el módulo `datetime`. \n",
    "\n",
    "```{list-table}\n",
    ":header-rows: 1\n",
    "\n",
    "* - Constante\n",
    "  - Descripción\n",
    "* - [MAXYEAR](https://docs.python.org/3/library/datetime.html#datetime.MAXYEAR)\n",
    "  - El mayor número de año permitido en un objeto de fecha o fecha y tiempo. `MAXYEAR` es 9999.\n",
    "* - [MINYEAR](https://docs.python.org/3/library/datetime.html#datetime.MINYEAR)\n",
    "  - El número de año más pequeño permitido en un objeto de fecha o fecha y tiempo. `MINYEAR` es 1.\n",
    "```\n",
    "\n",
    "---\n",
    "## Datetime\n",
    "\n",
    "\n",
    "```{warning}\n",
    "En este sitio no se documenta todas las características de la clase `datetime`, para un tratado completo visitar la [documentación](https://docs.python.org/3/library/datetime.html#datetime-objects) de Python.\n",
    "```\n",
    "\n",
    "`datetime` es una clase que representa fechas y tiempo. Algunas características de estos objetos son:\n",
    "- Es inmutable: No se puede modificar una vez creado.\n",
    "- Es _hashable_: Se puede utilizar como _key_ de un diccionario.\n",
    "\n",
    "```{list-table}\n",
    ":header-rows: 1\n",
    "\n",
    "* - Constructor\n",
    "  - Descripción\n",
    "* - [datetime](https://docs.python.org/3/library/datetime.html#datetime.datetime)(year, month, day, hour=0, minute=0, second=0, microsecond=0, tzinfo=None, *, fold=0)\n",
    "  - Los argumentos de `year`, `month` y `day` son obligatorios. `tzinfo` puede ser `None`, o un instancia de la subclase `tzinfo`. Los argumentos restantes deben ser números enteros.\n",
    "```\n",
    "**Notas**:\n",
    "- **`tzinfo`** \\- `str`, `tzinfo`: Es la zona horaria, se puede usar un objeto creado con `datetime.tzinfo()` o usar una cadena, para ver las zonas horarias disponibles ver [Zonas Horarias](https://en.wikipedia.org/wiki/List_of_tz_database_time_zones).\n",
    "\n",
    "<br>\n",
    "\n",
    "---\n",
    "### Crear una fecha y tiempo\n",
    "\n",
    "Existen diversas formas para crear una instancia de `datetime`. A continuación se presentan algunas de las más comunes.\n",
    "\n",
    "**1. Con el constructor**. Se puede usa el constructor `datetime.datetime()` para crear una fecha pasando individualmente cada uno los componentes:"
   ]
  },
  {
   "cell_type": "code",
   "execution_count": 1,
   "id": "9b8cca73",
   "metadata": {},
   "outputs": [
    {
     "name": "stdout",
     "output_type": "stream",
     "text": [
      "2020-01-01 12:30:30\n"
     ]
    }
   ],
   "source": [
    "# Importar la clase\n",
    "from datetime import datetime\n",
    "\n",
    "# Crear una instancia\n",
    "X = datetime(2020, 1, 1, 12, 30, 30)\n",
    "\n",
    "# Imprimir la instancia\n",
    "print(X)"
   ]
  },
  {
   "cell_type": "markdown",
   "id": "c75bef88",
   "metadata": {},
   "source": [
    "**2. Con el método de clase fromisoformat()**: Se puede usar el método de clase `datetime.datetime.fromisoformat()` pasando una cadena que represente una fecha y tiempo respetando ISO 8601."
   ]
  },
  {
   "cell_type": "code",
   "execution_count": 2,
   "id": "61cdee06",
   "metadata": {},
   "outputs": [
    {
     "name": "stdout",
     "output_type": "stream",
     "text": [
      "2020-01-01 12:30:30\n"
     ]
    }
   ],
   "source": [
    "# Importar la función\n",
    "from datetime import datetime\n",
    "\n",
    "# Crear una instancia\n",
    "X = datetime.fromisoformat(\"2020-01-01T12:30:30\")\n",
    "\n",
    "# Imprimir la instancia\n",
    "print(X)"
   ]
  },
  {
   "cell_type": "markdown",
   "id": "a005ef1b",
   "metadata": {},
   "source": [
    "**3. Con el método de clase strptime.()**: Se puede usar el método de clase `datetime.datetime.strptime()` pasando una cadena que represente una fecha indicando el formato en el que está la cadena con los {ref}`codigos-formatos-fechas`."
   ]
  },
  {
   "cell_type": "code",
   "execution_count": 3,
   "id": "9250ce4b",
   "metadata": {},
   "outputs": [
    {
     "name": "stdout",
     "output_type": "stream",
     "text": [
      "2020-01-01 12:30:00\n"
     ]
    }
   ],
   "source": [
    "# Importar la clase\n",
    "from datetime import datetime\n",
    "\n",
    "# Crear una instancia\n",
    "X = datetime.strptime(\"12:30, 1 Jan, 2020\", \"%H:%M, %d %b, %Y\")\n",
    "\n",
    "# Imprimir la instancia\n",
    "print(X)"
   ]
  },
  {
   "cell_type": "markdown",
   "id": "613f1d65",
   "metadata": {},
   "source": [
    ":::{note}\n",
    "Existen más métodos para crear fechas y tiempo, revisar {ref}`datetime-metodos-clase`.\n",
    ":::\n",
    "\n",
    "<br>\n",
    "\n",
    "---\n",
    "### Recuperar componentes de una fecha\n",
    "\n",
    "Para recuperar los componentes de una fecha utilizar los {ref}`datetime-atributos-instancia`.\n",
    "\n",
    "<br>\n",
    "\n",
    "---\n",
    "### Operaciones con objetos datetime\n",
    "\n",
    "Las opciones válidas que se pueden hacer con objetos `datetime` son:\n",
    "- `datetime2 = datetime1 + timedelta`.\n",
    "- `datetime2 = datetime1 - timedelta`.\n",
    "- `timedelta = datetime1 - datetime2`.\n",
    "- `datetime1 < datetime2`.\n",
    "\n",
    "<br>\n",
    "\n",
    "---\n",
    "### Atributos de clase\n",
    "\n",
    "A continuación se presenta una lista de atributos de clase. Tener en cuenta que los atributos de clase son atributos asociados con la clase misma y no con las instancias.\n",
    "\n",
    "Ejemplo de cómo usar un atributo de clase"
   ]
  },
  {
   "cell_type": "code",
   "execution_count": 4,
   "id": "74abee21",
   "metadata": {},
   "outputs": [
    {
     "name": "stdout",
     "output_type": "stream",
     "text": [
      "9999-12-31 23:59:59.999999\n"
     ]
    }
   ],
   "source": [
    "# Importar clase\n",
    "from datetime import datetime\n",
    "\n",
    "# Usar un atributo de clase\n",
    "print(datetime.max)"
   ]
  },
  {
   "cell_type": "markdown",
   "id": "bc0f9f35",
   "metadata": {},
   "source": [
    "Lista de atributos de clase de `datetime.datetime`.\n",
    "\n",
    "```{list-table}\n",
    ":header-rows: 1\n",
    "\n",
    "* - Atributo\n",
    "  - Descripción\n",
    "* - [max](https://docs.python.org/3/library/datetime.html#datetime.datetime.max)\n",
    "  - La máxima fecha y hora representable, `datetime(MAXYEAR, 12, 31, 23, 59, 59, 999999, tzinfo=None)`.\n",
    "* - [min](https://docs.python.org/3/library/datetime.html#datetime.datetime.min)\n",
    "  - La mínima fecha y hora representable, `datetime(MINYEAR, 1, 1, tzinfo=None)`.\n",
    "* - [resolution](https://docs.python.org/3/library/datetime.html#datetime.datetime.resolution)\n",
    "  - La diferencia más pequeña posible entre objetos `datetime` no iguales, `timedelta(microsegundos=1)`.\n",
    "```\n",
    "\n",
    "<br>\n",
    "\n",
    "---\n",
    "(datetime-atributos-instancia)=\n",
    "### Atributos de instancia\n",
    "\n",
    "Los atributos de instancia se aplican directamente sobre un objeto `datetime`. Ejemplo de cómo usar un atributo de instancia."
   ]
  },
  {
   "cell_type": "code",
   "execution_count": 5,
   "id": "9cf72ec5",
   "metadata": {},
   "outputs": [
    {
     "name": "stdout",
     "output_type": "stream",
     "text": [
      "2020\n"
     ]
    }
   ],
   "source": [
    "# Importar clase\n",
    "from datetime import datetime\n",
    "\n",
    "# Crear una instancia\n",
    "X = datetime(2020, 1, 1)\n",
    "\n",
    "# Usar un atributo de instancia\n",
    "print(X.year)"
   ]
  },
  {
   "cell_type": "markdown",
   "id": "db5c8a84",
   "metadata": {},
   "source": [
    "Lista de atributos de instancia de `datetime.datetime`.\n",
    "\n",
    "```{list-table}\n",
    ":header-rows: 1\n",
    "\n",
    "* - Atributo\n",
    "  - Descripción\n",
    "* - [day](https://docs.python.org/3/library/datetime.html#datetime.datetime.day)\n",
    "  - Entre 1 y el número de días del mes dado del año dado.\n",
    "* - [fold](https://docs.python.org/3/library/datetime.html#datetime.datetime.fold)\n",
    "  - Entre [0, 1]. Se utiliza para eliminar la ambigüedad de los tiempos de pared durante un intervalo repetido.\n",
    "* - [hour](https://docs.python.org/3/library/datetime.html#datetime.datetime.hour)\n",
    "  - En rango (24).\n",
    "* - [microsecond](https://docs.python.org/3/library/datetime.html#datetime.datetime.microsecond)\n",
    "  - En rango (1000000).\n",
    "* - [minute](https://docs.python.org/3/library/datetime.html#datetime.datetime.minute)\n",
    "  - En rango (60).\n",
    "* - [month](https://docs.python.org/3/library/datetime.html#datetime.datetime.month)\n",
    "  - Entre 1 y 12 inclusivo.\n",
    "* - [second](https://docs.python.org/3/library/datetime.html#datetime.datetime.second)\n",
    "  - En rango (60).\n",
    "* - [tzinfo](https://docs.python.org/3/library/datetime.html#datetime.datetime.tzinfo)\n",
    "  - El objeto pasado como argumento de `tzinfo` al constructor de `datetime`, o `None` si no se pasó ninguno.\n",
    "* - [year](https://docs.python.org/3/library/datetime.html#datetime.datetime.year)\n",
    "  - Entre `MINYEAR` y `MAXYEAR` inclusivo.\n",
    "```\n",
    "\n",
    "<br>\n",
    "\n",
    "(datetime-metodos-clase)=\n",
    "### Métodos de clase\n",
    "\n",
    "Son métodos que se aplican directamente sobre la clase `datetime.datetime`. Ejemplo de cómo usar un método de clase."
   ]
  },
  {
   "cell_type": "code",
   "execution_count": 6,
   "id": "77276a9b",
   "metadata": {},
   "outputs": [
    {
     "name": "stdout",
     "output_type": "stream",
     "text": [
      "2011-11-04 00:00:00\n"
     ]
    }
   ],
   "source": [
    "# Importar clase\n",
    "from datetime import datetime\n",
    "\n",
    "# Usar método de la clase\n",
    "X = datetime.fromisoformat('2011-11-04')\n",
    "\n",
    "# Imprimir x\n",
    "print(X)"
   ]
  },
  {
   "cell_type": "markdown",
   "id": "ed12406e",
   "metadata": {},
   "source": [
    "Lista de métodos de la clase `datetime.datetime`.\n",
    "\n",
    "```{list-table}\n",
    ":header-rows: 1\n",
    "\n",
    "* - Método\n",
    "  - Descripción\n",
    "* - [combine](https://docs.python.org/3/library/datetime.html#datetime.datetime.combine)(date, time, tzinfo=self.tzinfo)\n",
    "  - Devuelve un nuevo objeto de fecha y hora cuyos componentes de fecha son iguales a el objeto `date` dado, y cuyos componentes de tiempo son iguales a los del objeto `time` dado.\n",
    "* - [fromisocalendar](https://docs.python.org/3/library/datetime.html#datetime.datetime.fromisocalendar)(year, week, day)\n",
    "  - Devuelve una fecha y hora correspondiente a la fecha del calendario ISO especificada por `year`, `week` y `day`.\n",
    "* - [fromisoformat](https://docs.python.org/3/library/datetime.html#datetime.datetime.fromisoformat)(date_string)\n",
    "  - Devuelve una fecha y hora correspondiente a una cadena de fecha en cualquier formato válido ISO 8601.\n",
    "* - [fromordinal](https://docs.python.org/3/library/datetime.html#datetime.datetime.fromordinal)(ordinal)\n",
    "  - Devuelve la fecha y hora correspondiente al ordinal gregoriano proléptico, donde el 1 de enero del año 1 tiene el ordinal 1.\n",
    "* - [fromtimestamp](https://docs.python.org/3/library/datetime.html#datetime.datetime.fromtimestamp)(timestamp, tz=None)\n",
    "  - Devuelve la fecha y hora locales correspondientes a la marca de tiempo POSIX, como es devuelto por time.time().\n",
    "* - [now](https://docs.python.org/3/library/datetime.html#datetime.datetime.now)(tz=None)\n",
    "  - Devuelve la fecha y hora locales actuales.\n",
    "* - [strptime](https://docs.python.org/3/library/datetime.html#datetime.datetime.strptime)(date_string, format)\n",
    "  - Devuelve una fecha y hora correspondiente a `date_string`, de acuerdo con `format`.\n",
    "* - [today](https://docs.python.org/3/library/datetime.html#datetime.datetime.today)()\n",
    "  - Devuelve la fecha y hora local actual, con `tzinfo` `None`.\n",
    "* - [utcfromtimestamp](https://docs.python.org/3/library/datetime.html#datetime.datetime.utcfromtimestamp)(timestamp)\n",
    "  - Devuelve la fecha y hora UTC correspondiente a la marca de tiempo POSIX, con `tzinfo` `None`.\n",
    "* - [utcnow](https://docs.python.org/3/library/datetime.html#datetime.datetime.utcnow)()\n",
    "  - Devuelve la fecha y hora UTC actuales, con `tzinfo` `None`.\n",
    "```\n",
    "\n",
    "<br>\n",
    "\n",
    "----\n",
    "### Métodos de instancia\n",
    "\n",
    "Son métodos que se aplican directamente en instancias (objetos) de la clase `datetime.datetime`. Ejemplo de cómo usar un método de instancia."
   ]
  },
  {
   "cell_type": "code",
   "execution_count": 7,
   "id": "7d0af2cf",
   "metadata": {},
   "outputs": [
    {
     "name": "stdout",
     "output_type": "stream",
     "text": [
      "1577903430.0\n"
     ]
    }
   ],
   "source": [
    "# Importar clase\n",
    "from datetime import datetime\n",
    "\n",
    "# Crear una instancia\n",
    "X = datetime(2020, 1, 1, 12, 30, 30)\n",
    "\n",
    "# Usar un método de instancia\n",
    "print(X.timestamp())"
   ]
  },
  {
   "cell_type": "markdown",
   "id": "ed485737",
   "metadata": {},
   "source": [
    "A continuación la lista de métodos de instancia de la clase `datetime.datetime`.\n",
    "\n",
    "```{list-table}\n",
    ":header-rows: 1\n",
    "\n",
    "* - Método\n",
    "  - Descripción\n",
    "* - [astimezone](https://docs.python.org/3/library/datetime.html#datetime.datetime.astimezone)(tz=None)\n",
    "  - Devuelve un objeto `datetime` con el nuevo atributo `tzinfo` igual a `tz`, ajustando los datos de fecha y hora para que el resultado sea la misma hora UTC que `self`, pero en la hora local de `tz`.\n",
    "* - [ctime](https://docs.python.org/3/library/datetime.html#datetime.datetime.ctime)()\n",
    "  - Devuelve una cadena que representa la fecha y la hora.\n",
    "* - [date](https://docs.python.org/3/library/datetime.html#datetime.datetime.date)()\n",
    "  - Retorna la fecha de un objeto, excluyendo el tiempo.\n",
    "* - [dst](https://docs.python.org/3/library/datetime.html#datetime.datetime.dst)()\n",
    "  - Si `tzinfo` es `None`, devuelve `None`, de lo contrario, devuelve `self.tzinfo.dst(self)`.\n",
    "* - [isocalendar](https://docs.python.org/3/library/datetime.html#datetime.datetime.isocalendar)()\n",
    "  - Devuelve un `namedtuple` con con tres componentes: `year`, `week` y `day`.\n",
    "* - [isoformat](https://docs.python.org/3/library/datetime.html#datetime.datetime.isoformat)(sep='T', timespec='auto')\n",
    "  - Devuelve una cadena que representa la fecha y la hora en formato ISO 8601.\n",
    "* - [isoweekday](https://docs.python.org/3/library/datetime.html#datetime.datetime.isoweekday)()\n",
    "  - Devuelve el día de la semana como un número entero, donde el lunes es 1 y el domingo es 7.\n",
    "* - [replace](https://docs.python.org/3/library/datetime.html#datetime.datetime.replace)(year=self.year, month=self.month, day=self.day, hour=self.hour, minute=self.minute, second=self.second, microsecond=self.microsecond, tzinfo=self.tzinfo, *, fold=0)\n",
    "  - Retorna la misma fecha con una modificación en los elementos especificados. Si se modifica la zona horaria (`tzinfo`), no se modificará la hora, solo la información de la zona horaria, para modificar la hora, usar el método `datetime.datetime.astimezone()`.\n",
    "* - [strftime](https://docs.python.org/3/library/datetime.html#datetime.datetime.strftime)(format)\n",
    "  - Devuelve una cadena que representa la fecha y la hora, controlada por un formato explícito.\n",
    "* - [time](https://docs.python.org/3/library/datetime.html#datetime.datetime.time)()\n",
    "  - Retorna el tiempo de un objeto, excluyendo la fecha.\n",
    "* - [timestamp](https://docs.python.org/3/library/datetime.html#datetime.datetime.timestamp)()\n",
    "  - Devolver el _timestamp_ POSIX correspondiente a la instancia `datetime` (número de segundos que han pasado desde el primero de enero de 1970 hasta la fecha actual).\n",
    "* - [timetuple](https://docs.python.org/3/library/datetime.html#datetime.datetime.timetuple)()\n",
    "  - Devuelve un `time.struct_time` como el que devuelve `time.localtime()`.\n",
    "* - [timetz](https://docs.python.org/3/library/datetime.html#datetime.datetime.timetz)()\n",
    "  - Retorna el tiempo con información de la zona horaria de un objeto.\n",
    "* - [toordinal](https://docs.python.org/3/library/datetime.html#datetime.datetime.toordinal)()\n",
    "  - Devuelve el ordinal gregoriano proléptico de la fecha. Lo mismo que `self.date().toordinal()`.\n",
    "* - [tzname](https://docs.python.org/3/library/datetime.html#datetime.datetime.tzname)()\n",
    "  - Si `tzinfo` es `None`, devuelve `None`, de lo contrario, devuelve `self.tzinfo.tzname(self)`.\n",
    "* - [utcoffset](https://docs.python.org/3/library/datetime.html#datetime.datetime.utcoffset)()\n",
    "  - Si `tzinfo` es `None`, devuelve `None`, de lo contrario, devuelve `self.tzinfo.utcoffset(self)`.\n",
    "* - [utctimetuple](https://docs.python.org/3/library/datetime.html#datetime.datetime.utctimetuple)()\n",
    "  - Si la instancia `d` de `datetime` es _naive_, esto es lo mismo que `d.timetuple()` excepto que `tm_isds`t se fuerza a 0 sin importar qué retorne `d.dst()`.\n",
    "* - [weekday](https://docs.python.org/3/library/datetime.html#datetime.datetime.weekday)()\n",
    "  - Devuelve el día de la semana como un número entero, donde el lunes es 0 y el domingo es 6.\n",
    "```\n",
    "\n",
    "<br>\n",
    "<br>\n",
    "\n",
    "---\n",
    "## Date\n",
    "\n",
    "```{warning}\n",
    "En este sitio no se documenta todas las características de la clase `date`, para un tratado completo visitar la [documentación](https://docs.python.org/3.11/library/datetime.html#date-objects) de Python.\n",
    "```\n",
    "\n",
    "`date` es una clase que representa fechas. Algunas características de estos objetos son:\n",
    "- Es inmutable: No se puede modificar una vez creado.\n",
    "- Es _hashable_: Se puede utilizar como _key_ de un diccionario.\n",
    "\n",
    "\n",
    "```{list-table}\n",
    ":header-rows: 1\n",
    "\n",
    "* - Constructor\n",
    "  - Descripción\n",
    "* - [date](https://docs.python.org/3/library/datetime.html#datetime.date)(year, month, day)\n",
    "  - Todos los argumentos son necesarios. Los argumentos deben ser números enteros.\n",
    "```\n",
    "\n",
    "<br>\n",
    "\n",
    "---\n",
    "### Crear una fecha\n",
    "\n",
    "Existen diversas formas para crear una instancia de `date`. A continuación se presentan algunas de las más comunes.\n",
    "\n",
    "**1. Con el constructor**. Se puede usa el constructor `datetime.date()` para crear una fecha pasando individualmente cada uno los componentes:"
   ]
  },
  {
   "cell_type": "code",
   "execution_count": 8,
   "id": "c2a6a49a",
   "metadata": {},
   "outputs": [
    {
     "name": "stdout",
     "output_type": "stream",
     "text": [
      "2020-01-01\n"
     ]
    }
   ],
   "source": [
    "# Importar la clase\n",
    "from datetime import date\n",
    "\n",
    "# Crear una instancia\n",
    "X = date(2020, 1, 1)\n",
    "\n",
    "# Imprimir la instancia\n",
    "print(X)"
   ]
  },
  {
   "cell_type": "markdown",
   "id": "0e00381b",
   "metadata": {},
   "source": [
    "**2. Con el método de clase fromisoformat()**: Se puede usar el método de clase `datetime.date.fromisoformat()` pasando una cadena que represente una fecha y tiempo respetando ISO 8601."
   ]
  },
  {
   "cell_type": "code",
   "execution_count": 9,
   "id": "dc8acb70",
   "metadata": {},
   "outputs": [
    {
     "name": "stdout",
     "output_type": "stream",
     "text": [
      "2020-01-01\n"
     ]
    }
   ],
   "source": [
    "# Importar la función\n",
    "from datetime import date\n",
    "\n",
    "# Crear una instancia\n",
    "X = date.fromisoformat(\"2020-01-01\")\n",
    "\n",
    "# Imprimir la instancia\n",
    "print(X)"
   ]
  },
  {
   "cell_type": "markdown",
   "id": "6f44407b",
   "metadata": {},
   "source": [
    ":::{note}\n",
    "Existen más métodos para crear fechas, revisar {ref}`date-metodos-clase`.\n",
    ":::\n",
    "\n",
    "<br>\n",
    "\n",
    "---\n",
    "### Recuperar componentes de una fecha\n",
    "\n",
    "Para recuperar los componentes de una fecha utilizar los {ref}`date-atributos-instancia`.\n",
    "\n",
    "<br>\n",
    "\n",
    "---\n",
    "### Operaciones con objetos datetime\n",
    "\n",
    "Las opciones válidas que se pueden hacer con objetos `date` son:\n",
    "- `date2 = date1 + timedelta`.\n",
    "- `date2 = date1 - timedelta`.\n",
    "- `timedelta = date1 - date2`.\n",
    "- `date1 < date2`.\n",
    "\n",
    "<br>\n",
    "\n",
    "---\n",
    "### Atributos de clase\n",
    "\n",
    "A continuación se presenta una lista de atributos de clase. Tener en cuenta que los atributos de clase son atributos asociados con la clase misma y no con las instancias.\n",
    "\n",
    "Ejemplo de cómo usar un atributo de clase"
   ]
  },
  {
   "cell_type": "code",
   "execution_count": 10,
   "id": "85ec5ba4",
   "metadata": {},
   "outputs": [
    {
     "name": "stdout",
     "output_type": "stream",
     "text": [
      "9999-12-31\n"
     ]
    }
   ],
   "source": [
    "# Importar clase\n",
    "from datetime import date\n",
    "\n",
    "# Usar un atributo de clase\n",
    "print(date.max)"
   ]
  },
  {
   "cell_type": "markdown",
   "id": "ca5b8923",
   "metadata": {},
   "source": [
    "Lista de atributos de clase de `datetime.datetime`.\n",
    "\n",
    "```{list-table}\n",
    ":header-rows: 1\n",
    "\n",
    "* - Atributo\n",
    "  - Descripción\n",
    "* - [max](https://docs.python.org/3/library/datetime.html#datetime.date.max)\n",
    "  - La máxima fecha representable, `date(MAXYEAR, 12, 31)`.\n",
    "* - [min](https://docs.python.org/3/library/datetime.html#datetime.date.min)\n",
    "  - La mínima fecha representable, `date(MINYEAR, 1, 1)`.\n",
    "* - [resolution](https://docs.python.org/3/library/datetime.html#datetime.date.resolution)\n",
    "  - La diferencia más pequeña posible entre objetos de fecha no iguales, `timedelta(days=1)`.\n",
    "```\n",
    "\n",
    "<br>\n",
    "\n",
    "---\n",
    "(date-atributos-instancia)=\n",
    "### Atributos de instancia\n",
    "\n",
    "Los atributos de instancia se aplican directamente sobre un objeto `datetime`. Ejemplo de cómo usar un atributo de instancia."
   ]
  },
  {
   "cell_type": "code",
   "execution_count": 11,
   "id": "27a613fd",
   "metadata": {},
   "outputs": [
    {
     "name": "stdout",
     "output_type": "stream",
     "text": [
      "2020\n"
     ]
    }
   ],
   "source": [
    "# Importar clase\n",
    "from datetime import date\n",
    "\n",
    "# Crear una instancia\n",
    "X = date(2020, 1, 1)\n",
    "\n",
    "# Usar un atributo de instancia\n",
    "print(X.year)"
   ]
  },
  {
   "cell_type": "markdown",
   "id": "5be43df9",
   "metadata": {},
   "source": [
    "Lista de atributos de instancia de `datetime.date`.\n",
    "\n",
    "\n",
    "```{list-table}\n",
    ":header-rows: 1\n",
    "\n",
    "* - Atributo\n",
    "  - Descripción\n",
    "* - [day](https://docs.python.org/3/library/datetime.html#datetime.date.day)\n",
    "  - Entre 1 y el número de días del mes dado del año dado.\n",
    "* - [month](https://docs.python.org/3/library/datetime.html#datetime.date.month)\n",
    "  - Entre 1 y 12 inclusive.\n",
    "* - [year](https://docs.python.org/3/library/datetime.html#datetime.date.year)\n",
    "  - Entre `MINYEAR` y `MAXYEAR` inclusivo.\n",
    "```\n",
    " \n",
    "<br> \n",
    " \n",
    "---\n",
    "(date-metodos-clase)=\n",
    "### Métodos de clase\n",
    "\n",
    "\n",
    "Son métodos que se aplican directamente sobre la clase `datetime.date`. Ejemplo de cómo usar un método de clase."
   ]
  },
  {
   "cell_type": "code",
   "execution_count": 12,
   "id": "a94978b6",
   "metadata": {},
   "outputs": [
    {
     "name": "stdout",
     "output_type": "stream",
     "text": [
      "2011-11-04\n"
     ]
    }
   ],
   "source": [
    "# Importar clase\n",
    "from datetime import date\n",
    "\n",
    "# Usar método de la clase\n",
    "X = date.fromisoformat('2011-11-04')\n",
    "\n",
    "# Imprimir x\n",
    "print(X)"
   ]
  },
  {
   "cell_type": "markdown",
   "id": "c061ab2b",
   "metadata": {},
   "source": [
    "Lista de métodos de la clase `datetime.date`.\n",
    "\n",
    "```{list-table}\n",
    ":header-rows: 1\n",
    "\n",
    "* - Método\n",
    "  - Descripción\n",
    "* - [fromisocalendar](https://docs.python.org/3/library/datetime.html#datetime.date.fromisocalendar)(year, week, day)\n",
    "  - Devuelve una fecha correspondiente a la fecha del calendario ISO especificada por año, semana y día.\n",
    "* - [fromisoformat](https://docs.python.org/3/library/datetime.html#datetime.date.fromisoformat)(date_string)\n",
    "  - Retorna una fecha correspondiente a una cadena que representa una fecha dada en cualquier formato válido ISO 8601.\n",
    "* - [fromordinal](https://docs.python.org/3/library/datetime.html#datetime.date.fromordinal)(ordinal)\n",
    "  - Devuelve la fecha correspondiente al ordinal gregoriano proléptico, donde el 1 de enero del año 1 tiene el ordinal 1.\n",
    "* - [fromtimestamp](https://docs.python.org/3/library/datetime.html#datetime.date.fromtimestamp)(timestamp)\n",
    "  - Devuelve la fecha local correspondiente a la marca de tiempo POSIX, como es devuelto por `time.time()`.\n",
    "* - [today](https://docs.python.org/3/library/datetime.html#datetime.date.today)()\n",
    "  - Devuelve la fecha local actual.\n",
    "```\n",
    "\n",
    "<br>\n",
    "\n",
    "---\n",
    "### Métodos de instancia\n",
    "\n",
    "Son métodos que se aplican directamente en instancias (objetos) de la clase `datetime.datetime`. Ejemplo de cómo usar un método de instancia."
   ]
  },
  {
   "cell_type": "code",
   "execution_count": 13,
   "id": "43bc224d",
   "metadata": {},
   "outputs": [
    {
     "name": "stdout",
     "output_type": "stream",
     "text": [
      "Wed Jan  1 00:00:00 2020\n"
     ]
    }
   ],
   "source": [
    "# Importar clase\n",
    "from datetime import date\n",
    "\n",
    "# Crear una instancia\n",
    "X = date(2020, 1, 1)\n",
    "\n",
    "# Usar un método de instancia\n",
    "print(X.ctime())"
   ]
  },
  {
   "cell_type": "markdown",
   "id": "7ccbe79c",
   "metadata": {},
   "source": [
    "A continuación la lista de métodos de instancia de la clase `datetime.datetime`.\n",
    "\n",
    "```{list-table}\n",
    ":header-rows: 1\n",
    "\n",
    "* - Método\n",
    "  - Descripción\n",
    "* - [ctime](https://docs.python.org/3/library/datetime.html#datetime.date.ctime)()\n",
    "  - Devuelve una cadena que representa la fecha.\n",
    "* - [isocalendar](https://docs.python.org/3/library/datetime.html#datetime.date.isocalendar)()\n",
    "  - Devuelve un `namedtuple` con tres componentes: `year`, `week` y `day`.\n",
    "* - [isoformat](https://docs.python.org/3/library/datetime.html#datetime.date.isoformat)()\n",
    "  - Devuelve una fecha correspondiente a una cadena de representa una fecha en cualquier formato válido ISO 8601.\n",
    "* - [isoweekday](https://docs.python.org/3/library/datetime.html#datetime.date.isoweekday)()\n",
    "  - Devuelve el día de la semana como un número entero, donde el lunes es `1` y el domingo es `7`.\n",
    "* - [replace](https://docs.python.org/3/library/datetime.html#datetime.date.replace)(year=self.year, month=self.month, day=self.day)\n",
    "  - Devuelve una fecha con el mismo valor, excepto para aquellos parámetros a los que se le dieron nuevos valores.\n",
    "* - [strftime](https://docs.python.org/3/library/datetime.html#datetime.date.strftime)(format)\n",
    "  - Devuelve una cadena que representa la fecha, controlada por una cadena de formato explícito.\n",
    "* - [timetuple](https://docs.python.org/3/library/datetime.html#datetime.date.timetuple)()\n",
    "  - Devuelve un `time.struct_time` como el que devuelve `time.localtime()`.\n",
    "* - [toordinal](https://docs.python.org/3/library/datetime.html#datetime.date.toordinal)()\n",
    "  - Devuelve el ordinal gregoriano proléptico de la fecha, donde 1 de enero del año 1 tiene ordinal 1.\n",
    "* - [weekday](https://docs.python.org/3/library/datetime.html#datetime.date.weekday)()\n",
    "  - Devuelve el día de la semana como un número entero, donde el lunes es `0` y el domingo es `6`.\n",
    "```\n",
    "\n",
    "<br>\n",
    "<br>\n",
    "\n",
    "---\n",
    "## Time\n",
    "\n",
    "```{warning}\n",
    "En este sitio no se documenta todas las características de la clase `time`, para un tratado completo visitar la [documentación](https://docs.python.org/3.11/library/datetime.html#time-objects) de Python.\n",
    "```\n",
    "\n",
    "`time` es una clase que representa tiempos. Algunas características de estos objetos son:\n",
    "- Es inmutable: No se puede modificar una vez creado.\n",
    "- Es _hashable_: Se puede utilizar como _key_ de un diccionario.\n",
    "\n",
    "```{list-table}\n",
    ":header-rows: 1\n",
    "\n",
    "* - Constructor\n",
    "  - Descripción\n",
    "* - [time](https://docs.python.org/3/library/datetime.html#datetime.time)(hour=0, minute=0, second=0, microsecond=0, tzinfo=None, *, fold=0)\n",
    "  - Todos los argumentos son opcionales. `tzinfo` puede ser `None`, o una instancia de la subclase `tzinfo`. Los argumentos restantes deben ser números enteros.\n",
    "```\n",
    "**Notas**:\n",
    "- **`tzinfo`** \\- `str`, `timezone`: Es la zona horaria, se puede usar un objeto creado con `datetime.timezone()` o usar una cadena, para ver las zonas horarias disponibles ver [Zonas Horarias](https://en.wikipedia.org/wiki/List_of_tz_database_time_zones).\n",
    "\n",
    "<br>\n",
    "\n",
    "---\n",
    "### Crear un tiempo\n",
    "\n",
    "Existen diversas formas para crear una instancia de `time`. A continuación se presentan algunas de las más comunes.\n",
    "\n",
    "**1. Con el constructor**. Se puede usa el constructor `datetime.time()` para crear tiempos pasando individualmente cada uno los componentes:"
   ]
  },
  {
   "cell_type": "code",
   "execution_count": 14,
   "id": "6d52ba29",
   "metadata": {},
   "outputs": [
    {
     "name": "stdout",
     "output_type": "stream",
     "text": [
      "12:30:30\n"
     ]
    }
   ],
   "source": [
    "# Importar la clase\n",
    "from datetime import time\n",
    "\n",
    "# Crear una instancia\n",
    "X = time(12, 30, 30)\n",
    "\n",
    "# Imprimir la instancia\n",
    "print(X)"
   ]
  },
  {
   "cell_type": "markdown",
   "id": "05f64a99",
   "metadata": {},
   "source": [
    "**2. Con el método de clase fromisoformat()**: Se puede usar el método de clase `datetime.time.fromisoformat()` pasando una cadena que represente un tiempo respetando ISO 8601."
   ]
  },
  {
   "cell_type": "code",
   "execution_count": 15,
   "id": "b5cbd5f7",
   "metadata": {},
   "outputs": [
    {
     "name": "stdout",
     "output_type": "stream",
     "text": [
      "12:30:30\n"
     ]
    }
   ],
   "source": [
    "# Importar la función\n",
    "from datetime import time\n",
    "\n",
    "# Crear una instancia\n",
    "X = time.fromisoformat(\"12:30:30\")\n",
    "\n",
    "# Imprimir la instancia\n",
    "print(X)"
   ]
  },
  {
   "cell_type": "markdown",
   "id": "2099fac5",
   "metadata": {},
   "source": [
    "<br>\n",
    "\n",
    "---\n",
    "### Recuperar componentes de un tiempo\n",
    "\n",
    "Para recuperar los componentes de un tiempo utilizar los {ref}`time-atributos-instancia`.\n",
    "\n",
    "<br>\n",
    "\n",
    "---\n",
    "### Atributos de clase\n",
    "\n",
    "A continuación se presenta una lista de atributos de clase. Tener en cuenta que los atributos de clase son atributos asociados con la clase misma y no con las instancias.\n",
    "\n",
    "Ejemplo de cómo usar un atributo de clase"
   ]
  },
  {
   "cell_type": "code",
   "execution_count": 16,
   "id": "61b371c9",
   "metadata": {},
   "outputs": [
    {
     "name": "stdout",
     "output_type": "stream",
     "text": [
      "23:59:59.999999\n"
     ]
    }
   ],
   "source": [
    "# Importar clase\n",
    "from datetime import time\n",
    "\n",
    "# Usar un atributo de clase\n",
    "print(time.max)"
   ]
  },
  {
   "cell_type": "markdown",
   "id": "da205cbe",
   "metadata": {},
   "source": [
    "Lista de atributos de clase de `datetime.time`.\n",
    "\n",
    "```{list-table}\n",
    ":header-rows: 1\n",
    "\n",
    "* - Atributo\n",
    "  - Descripción\n",
    "* - [max](https://docs.python.org/3/library/datetime.html#datetime.time.max)\n",
    "  - El máximo tiempo representable, `time(23, 59, 59, 999999)`.\n",
    "* - [min](https://docs.python.org/3/library/datetime.html#datetime.time.min)\n",
    "  - El mínimo tiempo representable, `time(0, 0, 0, 0)`.\n",
    "* - [resolution](https://docs.python.org/3/library/datetime.html#datetime.time.resolution)\n",
    "  - La diferencia más pequeña posible entre objetos `time` no iguales, `timedelta(microseconds=1)`.\n",
    "```\n",
    "\n",
    "<br>\n",
    "\n",
    "---\n",
    "(time-atributos-instancia)=\n",
    "### Atributos de instancia\n",
    "\n",
    "Los atributos de instancia se aplican directamente sobre un objeto `time`. Ejemplo de cómo usar un atributo de instancia."
   ]
  },
  {
   "cell_type": "code",
   "execution_count": 17,
   "id": "a24c692b",
   "metadata": {},
   "outputs": [
    {
     "name": "stdout",
     "output_type": "stream",
     "text": [
      "12\n"
     ]
    }
   ],
   "source": [
    "# Importar clase\n",
    "from datetime import time\n",
    "\n",
    "# Crear una instancia\n",
    "X = time(12, 30, 30)\n",
    "\n",
    "# Usar un atributo de instancia\n",
    "print(X.hour)"
   ]
  },
  {
   "cell_type": "markdown",
   "id": "8afbd2d4",
   "metadata": {},
   "source": [
    "Lista de atributos de instancia de `datetime.time`.\n",
    "\n",
    "\n",
    "```{list-table}\n",
    ":header-rows: 1\n",
    "\n",
    "* - Atributo\n",
    "  - Descripción\n",
    "* - [fold](https://docs.python.org/3/library/datetime.html#datetime.time.fold)\n",
    "  - En [0, 1]. Se utiliza para eliminar la ambigüedad de los tiempos de pared durante un intervalo repetido.\n",
    "* - [hour](https://docs.python.org/3/library/datetime.html#datetime.time.hour)\n",
    "  - En rango (24).\n",
    "* - [microsecond](https://docs.python.org/3/library/datetime.html#datetime.time.microsecond)\n",
    "  - En rango (1000000).\n",
    "* - [minute](https://docs.python.org/3/library/datetime.html#datetime.time.minute)\n",
    "  - En rango (60).\n",
    "* - [second](https://docs.python.org/3/library/datetime.html#datetime.time.second)\n",
    "  - En rango (60).\n",
    "* - [tzinfo](https://docs.python.org/3/library/datetime.html#datetime.time.tzinfo)\n",
    "  - El objeto pasado como argumento de `tzinfo` al constructor de `time`, o `None` si no se pasó ninguno.\n",
    "```\n",
    " \n",
    "<br> \n",
    " \n",
    "---\n",
    "### Métodos de clase\n",
    "\n",
    "\n",
    "Son métodos que se aplican directamente sobre la clase `datetime.time`. Ejemplo de cómo usar un método de clase."
   ]
  },
  {
   "cell_type": "code",
   "execution_count": 18,
   "id": "9dc6c6ec",
   "metadata": {},
   "outputs": [
    {
     "name": "stdout",
     "output_type": "stream",
     "text": [
      "12:30:30\n"
     ]
    }
   ],
   "source": [
    "# Importar clase\n",
    "from datetime import time\n",
    "\n",
    "# Usar método de la clase\n",
    "X = time.fromisoformat('12:30:30')\n",
    "\n",
    "# Imprimir x\n",
    "print(X)"
   ]
  },
  {
   "cell_type": "markdown",
   "id": "30a07e38",
   "metadata": {},
   "source": [
    "Lista de métodos de la clase `datetime.time`.\n",
    "\n",
    "```{list-table}\n",
    ":header-rows: 1\n",
    "\n",
    "* - Método\n",
    "  - Descripción\n",
    "* - [fromisoformat](https://docs.python.org/3/library/datetime.html#datetime.time.fromisoformat)(time_string)\n",
    "  - Retorna una hora correspondiente a un `time_string` en cualquier formato válido ISO 8601.\n",
    "```\n",
    "\n",
    "<br>\n",
    "\n",
    "---\n",
    "### Métodos de instancia\n",
    "\n",
    "Son métodos que se aplican directamente en instancias (objetos) de la clase `datetime.time`. Ejemplo de cómo usar un método de instancia."
   ]
  },
  {
   "cell_type": "code",
   "execution_count": 19,
   "id": "aa7f2fbf",
   "metadata": {},
   "outputs": [
    {
     "name": "stdout",
     "output_type": "stream",
     "text": [
      "12:30:30\n"
     ]
    }
   ],
   "source": [
    "# Importar clase\n",
    "from datetime import time\n",
    "\n",
    "# Crear una instancia\n",
    "X = time(12, 30, 30)\n",
    "\n",
    "# Usar un método de instancia\n",
    "print(X.isoformat())"
   ]
  },
  {
   "cell_type": "markdown",
   "id": "ad8a6e34",
   "metadata": {},
   "source": [
    "A continuación la lista de métodos de instancia de la clase `datetime.datetime`.\n",
    "\n",
    "```{list-table}\n",
    ":header-rows: 1\n",
    "\n",
    "* - Método\n",
    "  - Descripción\n",
    "* - [isoformat](https://docs.python.org/3/library/datetime.html#datetime.time.isoformat)(timespec='auto')\n",
    "  - Devuelve una cadena que representa la hora en formato ISO 8601\n",
    "* - [replace](https://docs.python.org/3/library/datetime.html#datetime.time.replace)(hour=self.hour, minute=self.minute, second=self.second, microsecond=self.microsecond, tzinfo=self.tzinfo, *, fold=0)\n",
    "  - Retorna una hora con el mismo valor, excepto por aquellos atributos a los que se les dio un nuevo valor.\n",
    "* - [strftime](https://docs.python.org/3/library/datetime.html#datetime.time.strftime)(format)\n",
    "  - Devuelve una cadena que representa la hora, controlada por una cadena de formato explícita.\n",
    "* - [tzname](https://docs.python.org/3/library/datetime.html#datetime.time.tzname)()\n",
    "  - Si `tzinfo` es `None`, devuelve `None`, de lo contrario, devuelve `self.tzinfo.tzname(None)`.\n",
    "```\n",
    "\n",
    "<br>\n",
    "<br>\n",
    "\n",
    "---\n",
    "(timedelta)=\n",
    "## Timedelta\n",
    "\n",
    "```{warning}\n",
    "En este sitio no se documenta todas las características de la clase `timedelta`, para un tratado completo visitar la [documentación](https://docs.python.org/3.11/library/datetime.html#timedelta-objects) de Python.\n",
    "```\n",
    "\n",
    "`timedelta` es una clase que representa diferencias entre tiempos o fechas.\n",
    "\n",
    "\n",
    "```{list-table}\n",
    ":header-rows: 1\n",
    "\n",
    "* - Constructor\n",
    "  - Descripción\n",
    "* - [timedelta](https://docs.python.org/3/library/datetime.html#datetime.timedelta)(days=0, seconds=0, microseconds=0, milliseconds=0, minutes=0, hours=0, weeks=0)\n",
    "  - Todos los argumentos son opcionales y su valor predeterminado es `0`. Los argumentos pueden ser números `int` o `float`, y pueden ser positivos o negativos.\n",
    "```\n",
    "**Notas**\n",
    "- Los componentes pueden ser números negativos.\n",
    "<br>\n",
    "\n",
    "---\n",
    "### Crear un timedelta\n",
    "\n",
    "Para crear una instancia de `timdelta` se puede usa el constructor `datetime.timedelta()` indicando los componentes y sus valores:"
   ]
  },
  {
   "cell_type": "code",
   "execution_count": 20,
   "id": "f09735ff",
   "metadata": {},
   "outputs": [
    {
     "name": "stdout",
     "output_type": "stream",
     "text": [
      "1 day, 3:30:50\n"
     ]
    }
   ],
   "source": [
    "# Importar la clase\n",
    "from datetime import timedelta\n",
    "\n",
    "# Crear una instancia\n",
    "X = timedelta(days=1, seconds=50, milliseconds=0, minutes=30, hours=3)\n",
    "\n",
    "# Imprimir la instancia\n",
    "print(X)"
   ]
  },
  {
   "cell_type": "markdown",
   "id": "e4089a5b",
   "metadata": {},
   "source": [
    "### Operaciones con objetos timedelta\n",
    "\n",
    "Es posible realizar operaciones aritméticas con objetos `timedelta`. \n",
    "\n",
    "**Suma y resta de objetos `timedelta`**.\n",
    "\n",
    "Se pueden sumar o restar dos objetos `timedelta` con los operadores `+` y `-` respectivamente. Ejemplo:"
   ]
  },
  {
   "cell_type": "code",
   "execution_count": 21,
   "id": "c3738c82",
   "metadata": {},
   "outputs": [
    {
     "name": "stdout",
     "output_type": "stream",
     "text": [
      "Suma: 2 days, 1:00:30\n",
      "Resta: 0:00:30\n"
     ]
    }
   ],
   "source": [
    "# Importar clase\n",
    "from datetime import timedelta\n",
    "\n",
    "# Definir dos objetos timedelta\n",
    "X = timedelta(days=1, minutes=30, seconds=30)\n",
    "Y = timedelta(days=1, minutes=30)\n",
    "\n",
    "# Suma y restar objetos timedelta\n",
    "print(f\"Suma: {X+Y}\")\n",
    "print(f\"Resta: {X-Y}\")"
   ]
  },
  {
   "cell_type": "markdown",
   "id": "6fd8478c",
   "metadata": {},
   "source": [
    "**Multiplicar un objeto timedelta por un número**\n",
    "\n",
    "Se puede multiplicar un objeto `timedelta` por un número `int` o `float` con el operador `*`. Cada componente se multiplicará por el factor indicado. Ejemplo:"
   ]
  },
  {
   "cell_type": "code",
   "execution_count": 22,
   "id": "e61e88be",
   "metadata": {},
   "outputs": [
    {
     "name": "stdout",
     "output_type": "stream",
     "text": [
      "Multiplicar por entero: 2 days, 1:01:00\n",
      "Multiplicar por flotante: 2 days, 13:16:15\n"
     ]
    }
   ],
   "source": [
    "# Importar clase\n",
    "from datetime import timedelta\n",
    "\n",
    "# Definir objeto\n",
    "X = timedelta(days=1, minutes=30, seconds=30)\n",
    "\n",
    "# Suma y restar objetos timedelta\n",
    "print(f\"Multiplicar por entero: {X*2}\")\n",
    "print(f\"Multiplicar por flotante: {X*2.5}\")"
   ]
  },
  {
   "cell_type": "markdown",
   "id": "84620767",
   "metadata": {},
   "source": [
    "**Dividir un objeto timedelta**\n",
    "\n",
    "Es posible dividir un objeto `timedelta` entre otro objeto `timedelta` o entre un número `int` o `float` con el operador `/`."
   ]
  },
  {
   "cell_type": "code",
   "execution_count": 23,
   "id": "5264ee4e",
   "metadata": {},
   "outputs": [
    {
     "name": "stdout",
     "output_type": "stream",
     "text": [
      "Dividir X entre Y: 49.0\n",
      "\n",
      "Dividir Y entre 30: 0:01:00\n"
     ]
    }
   ],
   "source": [
    "# Importar clase\n",
    "from datetime import timedelta\n",
    "\n",
    "# Definir dos objetos timedelta\n",
    "X = timedelta(days=1, minutes=30)\n",
    "Y = timedelta(minutes=30)\n",
    "\n",
    "# Divir 2 objetos timedelta\n",
    "print(f\"Dividir X entre Y: {X/Y}\", end=\"\\n\"*2)\n",
    "\n",
    "# Dividir un objeto timedelta entre un número\n",
    "print(f\"Dividir Y entre 30: {Y/30}\")"
   ]
  },
  {
   "cell_type": "markdown",
   "id": "f3200687",
   "metadata": {},
   "source": [
    "Es posible además calcular el módulo o la división parte entera con los operadores `%` y `//` respectivamente o con la función `divmode()`. \n",
    "\n",
    "Para más información visitar las [documentación](https://docs.python.org/3/library/datetime.html#timedelta-objects) de Python.\n",
    "\n",
    "---\n",
    "### Atributos de clase\n",
    "\n",
    "A continuación se presenta una lista de atributos de clase. Tener en cuenta que los atributos de clase son atributos asociados con la clase misma y no con las instancias.\n",
    "\n",
    "Ejemplo de cómo usar un atributo de clase"
   ]
  },
  {
   "cell_type": "code",
   "execution_count": 24,
   "id": "c02d173f",
   "metadata": {},
   "outputs": [
    {
     "name": "stdout",
     "output_type": "stream",
     "text": [
      "999999999 days, 23:59:59.999999\n"
     ]
    }
   ],
   "source": [
    "# Importar clase\n",
    "from datetime import timedelta\n",
    "\n",
    "# Usar un método de clase\n",
    "print(timedelta.max)"
   ]
  },
  {
   "cell_type": "markdown",
   "id": "953f6eca",
   "metadata": {},
   "source": [
    "Lista de atributos de clase de `datetime.timedelta`.\n",
    "\n",
    "```{list-table}\n",
    ":header-rows: 1\n",
    "\n",
    "* - Atributo\n",
    "  - Descripción\n",
    "* - [max](https://docs.python.org/3/library/datetime.html#datetime.timedelta.max)\n",
    "  - El mayor objeto `timedelta` posible, `timedelta(days=999999999, hours=23, minutes=59, seconds=59, microseconds=999999)`.\n",
    "* - [min](https://docs.python.org/3/library/datetime.html#datetime.timedelta.min)\n",
    "  - El menor objeto `timedelta` posible, `timedelta(-999999999)`.\n",
    "* - [resolution](https://docs.python.org/3/library/datetime.html#datetime.timedelta.resolution)\n",
    "  - La diferencia más pequeña posible entre objetos `timedelta` no iguales, `timedelta(microseconds=1)`.\n",
    "```\n",
    "\n",
    "<br>\n",
    "\n",
    "---\n",
    "### Métodos de instancia\n",
    "\n",
    "Son métodos que se aplican directamente en instancias (objetos) de la clase `datetime.timedelta`. Ejemplo de cómo usar un método de instancia."
   ]
  },
  {
   "cell_type": "code",
   "execution_count": 25,
   "id": "f53d14c7",
   "metadata": {},
   "outputs": [
    {
     "name": "stdout",
     "output_type": "stream",
     "text": [
      "432000.0\n"
     ]
    }
   ],
   "source": [
    "# Importar clase\n",
    "from datetime import timedelta\n",
    "\n",
    "# Crear una instancia\n",
    "X = timedelta(days=5)\n",
    "\n",
    "# Usar un método de instancia\n",
    "print(X.total_seconds())"
   ]
  },
  {
   "cell_type": "markdown",
   "id": "92139e9e",
   "metadata": {},
   "source": [
    "A continuación la lista de métodos de instancia de la clase `datetime.timedelta`.\n",
    "\n",
    "```{list-table}\n",
    ":header-rows: 1\n",
    "\n",
    "* - Método\n",
    "  - Descripción\n",
    "* - [total_seconds](https://docs.python.org/3/library/datetime.html#datetime.timedelta.total_seconds)()\n",
    "  - Devuelve el número total de segundos contenidos en el `timedelta`.\n",
    "```\n",
    "\n",
    "<br>\n",
    "<br>\n",
    "\n",
    "---\n",
    "(codigos-formatos-fechas)=\n",
    "## Códigos de fechas\n",
    "\n",
    "A continuación se presentan los códigos de fechas y tiempo que usan los métodos como `strftime()` o `strptime()`. Esta no es una lista completa, para una lista completa visitar [esta página](https://strftime.org/).\n",
    "\n",
    "```{list-table} Códigos de fechas.\n",
    ":header-rows: 1\n",
    ":name: date_codes\n",
    "\n",
    "* - Código\n",
    "  - Elemento\n",
    "* - `%A`\n",
    "  - Nombre día de la semana completo.\n",
    "* - `%w`\n",
    "  - Número de la semana (del 0-6, donde 0 es domingo).\n",
    "* - `%d`\n",
    "  - Día de mes (1-31).\n",
    "* - `%b`\n",
    "  - Nombre abreviado del mes.\n",
    "* - `%B`\n",
    "  - Nombre completo del mes.\n",
    "* - `%m`\n",
    "  - Número del mes (1-12).\n",
    "* - `%y`\n",
    "  - Año abreviado.\n",
    "* - `%Y`\n",
    "  - Año completo.\n",
    "* - `%H`\n",
    "  - Hora (0-24).\n",
    "* - `%I`\n",
    "  - Hora (0-12).\n",
    "* - `%M`\n",
    "  - Minutos (0-60).\n",
    "* - `%S`\n",
    "  - Segundos (0-60).\n",
    "* - `%Z`\n",
    "  - Nombre de la zona Horaria.\n",
    "```"
   ]
  }
 ],
 "metadata": {
  "jupytext": {
   "formats": "md:myst",
   "text_representation": {
    "extension": ".md",
    "format_name": "myst"
   }
  },
  "kernelspec": {
   "display_name": "Python 3",
   "language": "python",
   "name": "python3"
  },
  "language_info": {
   "codemirror_mode": {
    "name": "ipython",
    "version": 3
   },
   "file_extension": ".py",
   "mimetype": "text/x-python",
   "name": "python",
   "nbconvert_exporter": "python",
   "pygments_lexer": "ipython3",
   "version": "3.8.0"
  },
  "source_map": [
   11,
   102,
   111,
   115,
   124,
   128,
   137,
   170,
   176,
   201,
   210,
   246,
   255,
   293,
   302,
   382,
   391,
   395,
   404,
   437,
   443,
   468,
   477,
   504,
   513,
   541,
   550,
   613,
   622,
   626,
   635,
   653,
   659,
   684,
   693,
   725,
   734,
   754,
   763,
   813,
   822,
   832,
   843,
   849,
   859,
   865,
   878,
   891,
   897,
   921,
   930
  ]
 },
 "nbformat": 4,
 "nbformat_minor": 5
}