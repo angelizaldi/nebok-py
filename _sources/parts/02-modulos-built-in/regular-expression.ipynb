{
 "cells": [
  {
   "cell_type": "markdown",
   "id": "69883f3f",
   "metadata": {},
   "source": [
    "# Regular Expressions\n",
    "\n",
    "Un “_regular expression_” es una secuencia de caracteres para identificar y extraer patrones en cadenas. Para usar “regular expressions” es necesario importar el módulo {re}.\n",
    "```python\n",
    "import re\n",
    "```\n",
    "\n",
    "Un patrón en expresiones regulares se conforma de:\n",
    "- texto.\n",
    "- Metacaracteres y secuencias especiales.\n",
    "\n",
    "Si una o más partes de la cadena coinciden con el patrón entonces se dice que hay un \"_Match_\".\n",
    "\n",
    "## Greedy y Non-Greedy\n",
    "\n",
    "Se refiere a la manera como se realiza la búsqueda del patrón, cuando se utilizan los metacaracteres `*`, `+`, `?` o `{num, num}` en un patrón, para ello se agrega un `?` extra.\n",
    "\n",
    "- **Greedy**: Coincide la mayor cantidad de caracteres posibles. Retorna el match más largo. Los metacaracteres `*`, `+`, `?` o `{num, num}` son greedy por default.\n",
    "- **Non-greedy**: Coincide la menor cantidad de caracteres posibles. Retorna el match más corto. Se agrega el metacaracter `?`.\n",
    "\n",
    "La forma como funciona es que los metacaracteres `*`, `+`, `?` o `{min, max}` tienen dos posibles opciones, por ejemplo, tomando `+`, significa **una vez** o **más veces** el caracter a la izquierda. Por default se buscará que sea **más veces**, pero si se agrega un `?` entonces se forzará a que sea **una vez**. De tal forma que tenemos entonces:\n",
    "- `+`: Más de una vez.\n",
    "- `+?`: Una vez.\n",
    "- `*`: Más de una vez.\n",
    "- `*?`: Cero veces.\n",
    "- `{min, max}`: _max_ veces.\n",
    "- `{min, max}?`: _min_ veces.\n",
    "- `?`: Una vez.\n",
    "- `??`: Cero veces.\n",
    "\n",
    "Ejemplo"
   ]
  },
  {
   "cell_type": "code",
   "execution_count": 1,
   "id": "2ac58a1e",
   "metadata": {},
   "outputs": [
    {
     "name": "stdout",
     "output_type": "stream",
     "text": [
      "123\n",
      "1\n",
      "123\n",
      "\n"
     ]
    }
   ],
   "source": [
    "import re\n",
    "\n",
    "cadena = \"123abc\"\n",
    "\n",
    "# Cualquier caracter numerico una o **mas veces** -> \"123\"\n",
    "print(re.search(r\"\\d+\", cadena).group(0))\n",
    "\n",
    "# Cualquier caracter numerico **una** o mas veces -> \"1\"\n",
    "print(re.search(r\"\\d+?\", cadena).group(0)) \n",
    "\n",
    "# Cualquier caracter numerico cero o **mas veces** -> \"123\"\n",
    "print(re.search(r\"\\d*\", cadena).group(0)) \n",
    "\n",
    "# Cualquier caracter numerico **cero** o mas veces -> \"\"\n",
    "print(re.search(r\"\\d*?\", cadena).group(0)) "
   ]
  },
  {
   "cell_type": "markdown",
   "id": "abdec1f7",
   "metadata": {},
   "source": [
    "## Capturando grupos\n",
    "\n",
    "Si se desea recuperar solo una parte del patrón usado, y no todo, se puede encerrar entre paréntesis el grupo de caracteres que se desea recuperar. Un patrón puede tener uno o más grupos.\n",
    "\n",
    "## Flags\n",
    "\n",
    "## Funciones\n",
    "\n",
    "## Objeto Regular Expression\n",
    "\n",
    "## Objeto Match"
   ]
  }
 ],
 "metadata": {
  "jupytext": {
   "formats": "md:myst",
   "text_representation": {
    "extension": ".md",
    "format_name": "myst"
   }
  },
  "kernelspec": {
   "display_name": "Python 3",
   "language": "python",
   "name": "python3"
  },
  "language_info": {
   "codemirror_mode": {
    "name": "ipython",
    "version": 3
   },
   "file_extension": ".py",
   "mimetype": "text/x-python",
   "name": "python",
   "nbconvert_exporter": "python",
   "pygments_lexer": "ipython3",
   "version": "3.8.0"
  },
  "source_map": [
   11,
   44,
   60
  ]
 },
 "nbformat": 4,
 "nbformat_minor": 5
}