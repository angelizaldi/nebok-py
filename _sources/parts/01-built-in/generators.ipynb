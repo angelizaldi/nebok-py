{
 "cells": [
  {
   "cell_type": "markdown",
   "id": "06836379",
   "metadata": {},
   "source": [
    "# Generators\n",
    "\n",
    "Un `generator` es una función que retorna un `iterator`, sobre el cual se puede iterar un elemento a la vez.\n",
    "- Es más sencillo de trabajar con `generators` que con `iterators`. \n",
    "- Para crear un `generator` basta con utilizar dentro de una función uno o más `yield` en lugar de `return`. \n",
    "- Con `return` la función termina completamente, mientras que con `yield`, la función es pausada y conservando su último estado y es reactivada en llamadas posteriores. \n",
    "```python\n",
    "# Plantilla general de un Generator\n",
    "def generator_name(params):\n",
    "    expression1\n",
    "    yield x1\n",
    "    \n",
    "    expression2 \n",
    "    yield x2\n",
    "    \n",
    "    ...\n",
    "\n",
    "# Utilizando el generator\n",
    "X = generator_name(args)\n",
    "next(X)\n",
    "...\n",
    "```\n",
    "- No es necesario asignar el generator a una variable, se puede iterar directmente sobre el objeto o utilizarlo con argumento de otras funciones.\n",
    "- Sobre `X` se puede aplicar `next()`. En la primer llamada de `next()` se ejecuta el _expression1_ hasta que encuentra el primer `yield`, se almacena los valores de las variables locales, posteriormente, si se vuelve a llamar `next()` continua ejecutando el _expression2_ hasta que encuentra el segundo `yield` y así hasta que ya no haya más `yield`. \n",
    "- Este es un ejemplo general, las expresiones y los `yield` pueden estar dentro de un cíclo, como se verá en el ejemplo más adelante.\n",
    "\n",
    "\n",
    "```{warning} \n",
    "El objeto generator solo puede ser iterable una vez.\n",
    "```\n",
    "\n",
    "Si se usa un `for loop` en un objeto generator, se obtendrá cada elemento del generator de forma automática.\n",
    "```python\n",
    "# Iterando sobre un generator:\n",
    "X = generator_name(args):\n",
    "for i in X\n",
    "    expressions\n",
    "    \n",
    "# Se puede iterar directamente sobre el generator:\n",
    "for i in generator_name(args):\n",
    "    expressions\n",
    "```\n",
    "\n",
    "<br>\n",
    "\n",
    "**Ejemplo**: En el siguiente ejemplo se defini un generator que genera una secuencia de números. En este ejemplo se recupera el primer elemento con `next()` y el resto dentro de un `for loop`."
   ]
  },
  {
   "cell_type": "code",
   "execution_count": 1,
   "id": "6b5db081",
   "metadata": {},
   "outputs": [
    {
     "name": "stdout",
     "output_type": "stream",
     "text": [
      "Primer elemento: 0\n",
      "Resto de los elementos\n",
      "1\n",
      "2\n",
      "3\n",
      "4\n",
      "empty\n"
     ]
    }
   ],
   "source": [
    "# Definir el generator\n",
    "def my_range(n):\n",
    "    i = 0\n",
    "    while i < n:\n",
    "        yield i\n",
    "        i += 1\n",
    "\n",
    "# Asignar a una variable\n",
    "X = my_range(5)\n",
    "\n",
    "# Recuperar el primer elemento:\n",
    "print(\"Primer elemento:\", next(X))\n",
    "        \n",
    "# Recuperar el resto de los elementos: \n",
    "print(\"Resto de los elementos\")\n",
    "for i in X:\n",
    "    print(i)\n",
    "\n",
    "# Tratar de recuperar otro elemento\n",
    "print(next(X, \"empty\"))"
   ]
  },
  {
   "cell_type": "markdown",
   "id": "90b2d529",
   "metadata": {},
   "source": [
    "- Después de agotar todos los elementos en el `for loop`, si se trata de recuperar otro elemento se retorna un error `StopIteration` o en este caso, un valor por default.\n",
    "\n",
    "## Generator Expression:\n",
    "\n",
    "- Es como un _list comprehenssion_, pero en lugar de devolver una lista, devuelve un objeto `generator`.\n",
    "- El generator expression produce un solo elemento, cada vez que es llamado con `next()`. \n",
    "- Es útil si se van a generar muchos valores, en ese caso es mejor generarlos poco a poco. \n",
    "- La sintaxis es similar a las _lists comprehenssion_, pero se usan paréntesis\n",
    "```python\n",
    "# Sintaxis de un generator expression\n",
    "X = (expression for i in iterable)\n",
    "```\n",
    "- `X` es el objeto donde se almacenará el objeto `generator` y sobre el cual se aplicará la función `next()` o usar directamente dentro de un `for loop` para ejecutarlo todo.\n",
    "- _expression_ es lo que devolverá el generator expression cada vez que sea llamado con `next()`.\n",
    "- _i_ es un nombre arbitrario para referirse a los elementos del iterable en la parte de _expression_.\n",
    "- `iterable` es un objeto en el que se puede iterar.\n",
    "\n",
    ":::{tip} Los generator expression pueden ser usados como argumento de funciones que reciben un `iterable`, en ese caso, no es necesario poner los paréntesis.\n",
    "\n",
    "<code> python\n",
    "sum(expression for i in iterable) \n",
    "</code>\n",
    "\n",
    "En este caso devolverá la suma de todos los elementos del generator.\n",
    ":::\n",
    "\n",
    "```{note}\n",
    "Es posible usar condicionales dentro del generator expression al igual que con list comprehenssions.\n",
    "```"
   ]
  }
 ],
 "metadata": {
  "jupytext": {
   "formats": "md:myst",
   "text_representation": {
    "extension": ".md",
    "format_name": "myst"
   }
  },
  "kernelspec": {
   "display_name": "Python 3",
   "language": "python",
   "name": "python3"
  },
  "language_info": {
   "codemirror_mode": {
    "name": "ipython",
    "version": 3
   },
   "file_extension": ".py",
   "mimetype": "text/x-python",
   "name": "python",
   "nbconvert_exporter": "python",
   "pygments_lexer": "ipython3",
   "version": "3.8.0"
  },
  "source_map": [
   11,
   60,
   81
  ]
 },
 "nbformat": 4,
 "nbformat_minor": 5
}