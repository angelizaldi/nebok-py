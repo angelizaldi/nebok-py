{
 "cells": [
  {
   "cell_type": "markdown",
   "id": "4f165516",
   "metadata": {},
   "source": [
    "# Decorators\n",
    "\n",
    "```{attention} En esta sección solo se cubre lo básico en relación a decorators y no pretende cubrir extensamente el tema. Se recomienda consultar otras fuentes para saber más del tema.\n",
    "```\n",
    "\n",
    "- Un \"_decorator_\" modifica el comportamiento de una función, puede modificar los inputs, los outputs o modificar el comportamiento como tal de la función. \n",
    "- Los decorators reciben una función como parámetro y retornan otra función. \n",
    "- Los decorators se utilizan junto con el símbolo `@` y se ponen justo arriba de la función que se quierer alterar.\n",
    "\n",
    "---\n",
    "## Crear un decorator:\n",
    "\n",
    "Para crear un decorator tener en cuenta lo siguiente:\n",
    "- Se tiene que crear una función anidada. \n",
    "- La función padre debe de recibir como argumento la función que se va a modificar y retornar una función hija. \n",
    "- La función hija recibe los argumentos de la función que se va a modificar (si tiene) y realizar cualquier modificación o comportamiento de la función original.\n",
    "- La función hija puede o no retornar objetos, dependiendo de las intenciones del decorador.\n",
    "```python\n",
    "# Plantilla general de un decorator\n",
    "\n",
    "# Definir el decorator\n",
    "def decorator_function(my_function):\n",
    "    ...\n",
    "    # Definir la función interna\n",
    "    def inner_function(args):\n",
    "        # Aqui se define cualquier modificación a my_function\n",
    "        ...\n",
    "        # No es obligatorio retornar algo\n",
    "        return something\n",
    "    # Retornar la función interna\n",
    "    return inner_function\n",
    "\n",
    "# Utilizar el decorator\n",
    "@decorator_function\n",
    "def my_function(args):\n",
    "    ...\n",
    "    \n",
    "# Usar el @ equivale a hacer lo siguiente:\n",
    "my_function = decorator_function(my_function)\n",
    "```\n",
    "- _decorator_function_: Es el nombre de una función que recibe como argumento otra función que es justamente la que va a decorar, en este caso _my_function_.\n",
    "- _decorator_function_ suele ser un \"_closure_\".\n",
    "- Después de usar el decorator _my_function_ tendrá las modificaciones definidas en _inner_function_.\n",
    "\n",
    "<br>\n",
    "\n",
    "**Ejemplo**: El siguiente ejemplo modifica el comportamiento de la función _fecha_, esta función retorna la fecha actual con ayuda de la función `datetime.datetime.today()`. Sin el decorator el valor retornado sería similar a `datetime.datetime(YYY, MM, DD, HH, MM, SS)`, pero con el decorator retorna una cadena en un formato `\"YYYY-MM-DD\"`."
   ]
  },
  {
   "cell_type": "code",
   "execution_count": 1,
   "id": "985d3316",
   "metadata": {},
   "outputs": [
    {
     "name": "stdout",
     "output_type": "stream",
     "text": [
      "2023-01-22\n"
     ]
    }
   ],
   "source": [
    "from datetime import datetime\n",
    "\n",
    "# Definir el decorator\n",
    "def decorator_formato(fecha):\n",
    "    # Definir la función interna\n",
    "    def formato():\n",
    "        # Modificar el comportamiento de \"fecha()\"\n",
    "        return fecha().strftime(\"%Y-%m-%d\")\n",
    "    # Retornar la función interna\n",
    "    return formato\n",
    "\n",
    "# Aplicar el decorator a \"fecha()\"\n",
    "@decorator_formato\n",
    "def fecha():\n",
    "    return datetime.today()\n",
    "\n",
    "print(fecha())"
   ]
  }
 ],
 "metadata": {
  "jupytext": {
   "formats": "md:myst",
   "text_representation": {
    "extension": ".md",
    "format_name": "myst"
   }
  },
  "kernelspec": {
   "display_name": "Python 3",
   "language": "python",
   "name": "python3"
  },
  "language_info": {
   "codemirror_mode": {
    "name": "ipython",
    "version": 3
   },
   "file_extension": ".py",
   "mimetype": "text/x-python",
   "name": "python",
   "nbconvert_exporter": "python",
   "pygments_lexer": "ipython3",
   "version": "3.8.0"
  },
  "source_map": [
   11,
   61
  ]
 },
 "nbformat": 4,
 "nbformat_minor": 5
}