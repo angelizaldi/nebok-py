{
 "cells": [
  {
   "cell_type": "markdown",
   "id": "afcab81f",
   "metadata": {},
   "source": [
    "# Formatos de cadena\n",
    "\n",
    "Para dar formatos en el método `str.format()` y en f-strings, se utiliza dos puntos y el formato que se quiere dar dentro de las llaves `{}`:\n",
    "```python\n",
    "# f-string\n",
    "f\"... {expression:format}\"\n",
    "\n",
    "# método format\n",
    "\"... {expression:format} ...\".format(...)\n",
    "```\n",
    "- <code><i> format </i></code>: Es el formato que se quiere dar.\n",
    "\n",
    "Los formatos disponibles son:\n",
    "\n",
    "```{list-table}\n",
    ":header-rows: 1\n",
    ":name: label-to-reference\n",
    "\n",
    "* - Formato.\n",
    "  - Resultado.\n",
    "* - `{expression:<N}`\n",
    "  - Alinear el texto a la izquierda, dejando _N_ espacios en blanco a la derecha.\n",
    "* - `{expression:>N}`\n",
    "  - Alinear el texto a la derecha, dejando _N_ espacios en blanco a la izquierda.\n",
    "* - `{expression:^N}`\n",
    "  - Alinear el texto al centro, dejando _N/2_ espacios en blanco a la der. e izq.\n",
    "* - `{expression:+}`\n",
    "  - Imprimir el signo del número, positivos y negativos.\n",
    "* - `{expression:-}`\n",
    "  - Imprimir el signo del número, solo el de los negativos.\n",
    "* - `{expression:,}`\n",
    "  - Separar con una coma los miles.\n",
    "* - `{expression:.Ne}`\n",
    "  - Imprimir el número en formato científico, con la e en minúscula, con _N_ decimales.\n",
    "* - `{expression:.NE}`\n",
    "  - Imprimir el número en formato científico, con la E en minúscula, con _N_ decimales.\n",
    "* - `{expression:.Nf}`\n",
    "  - Imprimir un número décimal, con _N_ decimales.\n",
    "* - `{expression:.N%}`\n",
    "  - Imprimir un número en formato de porcentaje, con _N_ décimales, el número tiene que ser >0 y <1.\n",
    "* - `{expression:s}`\n",
    "  - Dar formato como cadena.\n",
    "* - `{expression:date-format}`\n",
    "  - Imprimir una fecha, en un formato específico, utilizando los códigos de fechas, junto con otros caracteres. Por ejemplo `%Y-%m-%d`.\n",
    "```\n",
    "- _N_: Son números enteros, suelen ser opcionales.\n",
    "- _expression_: Es la expresión, número, cadena, etc. a la que se le dará formato.\n",
    "\n",
    "<br>\n",
    "\n",
    "**Ejemplos***"
   ]
  },
  {
   "cell_type": "code",
   "execution_count": 1,
   "id": "8d5788b4",
   "metadata": {},
   "outputs": [
    {
     "name": "stdout",
     "output_type": "stream",
     "text": [
      "Sin formato: 1897.9876\n",
      "\n",
      "Separar los miles: 1,897.9876\n",
      "\n",
      "Notación científica con 1 décimal: 1.9e+03\n",
      "\n",
      "Con tres décimales (redondea): 1897.988\n",
      "\n",
      "Combinación de separación de miles y 2 décimales: 1,897.99\n",
      "\n"
     ]
    }
   ],
   "source": [
    "# Definir la variable\n",
    "x = 1897.9876\n",
    "\n",
    "# Diversos formatos que se pueden aplicar a \"x\".\n",
    "print(f\"Sin formato: {x}\", end=\"\\n\"*2)\n",
    "\n",
    "print(f\"Separar los miles: {x:,}\", end=\"\\n\"*2)\n",
    "\n",
    "print(f\"Notación científica con 1 décimal: {x:.1e}\", end=\"\\n\"*2)\n",
    "\n",
    "print(f\"Con tres décimales (redondea): {x:.3f}\", end=\"\\n\"*2)\n",
    "\n",
    "print(f\"Combinación de separación de miles y 2 décimales: {x:,.2f}\", end=\"\\n\"*2)"
   ]
  }
 ],
 "metadata": {
  "jupytext": {
   "formats": "md:myst",
   "text_representation": {
    "extension": ".md",
    "format_name": "myst"
   }
  },
  "kernelspec": {
   "display_name": "Python 3",
   "language": "python",
   "name": "python"
  },
  "language_info": {
   "codemirror_mode": {
    "name": "ipython",
    "version": 3
   },
   "file_extension": ".py",
   "mimetype": "text/x-python",
   "name": "python",
   "nbconvert_exporter": "python",
   "pygments_lexer": "ipython3",
   "version": "3.8.0"
  },
  "source_map": [
   11,
   65
  ]
 },
 "nbformat": 4,
 "nbformat_minor": 5
}