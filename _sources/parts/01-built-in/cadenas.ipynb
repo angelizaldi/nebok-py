{
 "cells": [
  {
   "cell_type": "markdown",
   "id": "dbde6b3b",
   "metadata": {},
   "source": [
    "# Cadenas\n",
    "\n",
    "El tipo de dato `str` almacenan una secuencia de caracteres encerrados entre comillas dobles o simples. `str` es considerado un escalas y una secuencia. Sus principales características son:\n",
    "- Es inmutable: No se puede modificar una vez creada.\n",
    "- Está indexado: Se puede acceder a sus elementos por medio de un índice, por lo tanto sus elementos están ordenados.\n",
    "- Es un iterable: Se puede iterar por sus elementos y se puede utilizar la palabra reservada `in` para verificar membresía.\n",
    "- Se puede hacer _subsetting_ y _slicing_ de sus caracteres.\n",
    "- Se puede concatenar con otras cadenas.\n",
    "\n",
    "Para más información visitar la [documentación](https://docs.python.org/3/library/stdtypes.html#text-sequence-type-str) de Python.\n",
    "\n",
    "---\n",
    "## Crear una cadena\n",
    "\n",
    "Para crear una variable de tipo de cadena usar comillas dobles o comillas simples para abrir y cerrar la cadena:\n",
    "```python\n",
    "# Formas de crear una cadena simple\n",
    "X = \"text\"\n",
    "X = 'text'\n",
    "```\n",
    "\n",
    "Para crear una cadena de mútiples líneas usar tres comillas dobles o tres comillas simples para abrir y cerrar la cadena:\n",
    "```python\n",
    "# Formas de crear una cadena de múltiples lineas\n",
    "X = \"\"\"\n",
    "    text\n",
    "    more text\n",
    "    \"\"\"\n",
    "     \n",
    "X = '''\n",
    "    text\n",
    "    more text\n",
    "    '''\n",
    "```\n",
    "- Los saltos de línea (`\\n`) se respetarán en la cadena.\n",
    "\n",
    "También se puede crear la representación en cadena de otro objeto con la función `str()`:\n",
    "```python\n",
    "# X es la representación en cadena de Y\n",
    "X = str(Y)\n",
    "```\n",
    "\n",
    "---\n",
    "### Unicode\n",
    "\n",
    "Se utiliza para poder ingresar letras o símbolos especiales. Se utilizan los códigos unicode, que se pueden consultar en [códigos unicode](https://unicode-table.com/es/#basic-latin).\n",
    "\n",
    "Para insertar códigos unicode se debe de poner el código dentro de una cadena con el prefijo `u` y el código se pone como <code>\\u<i>code</i></code>, donde <code><i>code</i></code> es el código de unicode. Ejemplo:"
   ]
  },
  {
   "cell_type": "code",
   "execution_count": 1,
   "id": "24ccb8c2",
   "metadata": {},
   "outputs": [
    {
     "name": "stdout",
     "output_type": "stream",
     "text": [
      "Hola mundo!\n"
     ]
    }
   ],
   "source": [
    "# Ingresando un espacio en blanco y el símbolo \"!\" con códigos unicode:\n",
    "print(u\"Hola\\u0020mundo\\u0021\") "
   ]
  },
  {
   "cell_type": "markdown",
   "id": "e84366d9",
   "metadata": {},
   "source": [
    "---\n",
    "### Raw strings\n",
    "\n",
    "Son cadenas \"crudas\", que ignoran _caracteres especiales como `\\n` y los imprime tal cual. Para crear una cadena cruda se utiliza una `r` como prefijo de la cadena."
   ]
  },
  {
   "cell_type": "code",
   "execution_count": 2,
   "id": "7efe2e78",
   "metadata": {},
   "outputs": [
    {
     "name": "stdout",
     "output_type": "stream",
     "text": [
      "text1\ttext2\n",
      "text1\\ttext2\n"
     ]
    }
   ],
   "source": [
    "# Una cadena normal\n",
    "print(\"text1\\ttext2\")\n",
    "\n",
    "# Una cadena cruda\n",
    "print(r\"text1\\ttext2\")"
   ]
  },
  {
   "cell_type": "markdown",
   "id": "47a938fc",
   "metadata": {},
   "source": [
    "Los caracteres especiales son:\n",
    "- `\\'`: Comilla simple.\n",
    "- `\\\"`: Comilla doble.\n",
    "- `\\n`: Salto de línea.\n",
    "- `\\t`: Tabulación.\n",
    "- `\\\\`: Diagonal inversa.\n",
    "- `\\b`: Un espacio en blanco para atrás.\n",
    "- `\\xhh`: Valor hexadecimal.\n",
    "\n",
    "\n",
    "---\n",
    "## Concatenar y repetir cadenas:\n",
    "\n",
    "Para concatenar cadenas se usa el operador `+`. Usar únicamente con objetos de tipo `str`."
   ]
  },
  {
   "cell_type": "code",
   "execution_count": 3,
   "id": "3dc97031",
   "metadata": {},
   "outputs": [
    {
     "name": "stdout",
     "output_type": "stream",
     "text": [
      "Hola mundo!\n"
     ]
    }
   ],
   "source": [
    "# Definir las cadenas\n",
    "x = \"Hola\"\n",
    "y = \"mundo!\"\n",
    "\n",
    "# Concatenar las cadenas\n",
    "print(x + \" \" + y)"
   ]
  },
  {
   "cell_type": "markdown",
   "id": "933f7dac",
   "metadata": {},
   "source": [
    "- Como se puede observar se puede concatenar variables de tipo `str` junto con cadenas directamente entre comillas simples o dobles.\n",
    "\n",
    "<br>\n",
    "\n",
    "Para concatenar cadenas en múltiples líneas se debe de encerrar las cadenas entre paréntesis:"
   ]
  },
  {
   "cell_type": "code",
   "execution_count": 4,
   "id": "68ea1aa9",
   "metadata": {},
   "outputs": [
    {
     "name": "stdout",
     "output_type": "stream",
     "text": [
      "Hola mundo!\n"
     ]
    }
   ],
   "source": [
    "# Definir las cadenas\n",
    "x = \"Hola\"\n",
    "y = \"mundo!\"\n",
    "\n",
    "# Concatenar las cadenas\n",
    "cadena = (x +\n",
    "          \" \" +\n",
    "          y)\n",
    "print(cadena)"
   ]
  },
  {
   "cell_type": "markdown",
   "id": "33485d76",
   "metadata": {},
   "source": [
    "<br>\n",
    "\n",
    "Para concatenar una misma cadena `n` veces usar el operador de multiplicación `*` con la cadena:"
   ]
  },
  {
   "cell_type": "code",
   "execution_count": 5,
   "id": "b8050f84",
   "metadata": {},
   "outputs": [
    {
     "name": "stdout",
     "output_type": "stream",
     "text": [
      "hola hola hola hola hola \n"
     ]
    }
   ],
   "source": [
    "# Repetir \"hola \" 5 veces \n",
    "print(\"hola \" * 5)"
   ]
  },
  {
   "cell_type": "markdown",
   "id": "de5dd6d6",
   "metadata": {},
   "source": [
    "---\n",
    "## Verificar membresía\n",
    "\n",
    "Se puede verificar que una subcadena exista dentro de una cadena con los operadores `in` y `not in`, retornando un valor lógico.\n",
    "```python\n",
    "# Verificar que \"sub\" exista en \"string\"\n",
    "sub in string\n",
    "\n",
    "# Verificar que \"sub\" no exista en \"string\"\n",
    "sub in string\n",
    "```\n",
    "- _sub_ \\- `str`: Subcadena a buscar. Puede ser un patrón, palabras o frases.\n",
    "- _string_ \\- `str`: Cadena donde se buscará _sub_.\n",
    "\n",
    "---\n",
    "## Iteración\n",
    "\n",
    "Las cadenas se pueden usar como el rango en un `for loop`, iterando caracter por caracter:\n",
    "```python\n",
    "for i in string:\n",
    "    expression\n",
    "```\n",
    "- _string_ \\- `str`: Cadena sobre la cual se iterará.\n",
    "\n",
    "---\n",
    "## Subsetting y slicing: \n",
    "\n",
    "\n",
    "### Subsetting:\n",
    "Para seleccionar caracteres individuales de una cadena tener en cuenta las siguientes características:\n",
    "- Se utilizan corchetes `[]` para acceder a los caracteres, junto con la cadena y el índice del elemento. \n",
    "- Los índices comienza en cero (0), esto quiere decir que si quiere acceder al caracter `n`, se debe de usar `[n-1]`. <br/>\n",
    "- Se puede utilizar índices negativos, para hacer subsetting de derecha a izquierda, comenzando por el último caracter. Por ejemplo, se puede acceder al último caracter con `[-1]`, al penúltimo caracter elemento `[-2]`, etc.\n",
    "\n",
    "Algunos patrones útiles:\n",
    "- El primer caracter: <br> `X[0]`\n",
    "- El caracter _n_: <br> `X[n-1]`\n",
    "- El último caracter: <br> `X[-1]`\n",
    "\n",
    "<br>\n",
    "\n",
    "**Ejemplo**"
   ]
  },
  {
   "cell_type": "code",
   "execution_count": 6,
   "id": "454ba3aa",
   "metadata": {},
   "outputs": [
    {
     "name": "stdout",
     "output_type": "stream",
     "text": [
      "a\n",
      "c\n",
      "e\n"
     ]
    }
   ],
   "source": [
    "# Definir la cadena\n",
    "X = 'abcde'\n",
    "\n",
    "# Seleccionar primer elemento\n",
    "print(X[0])\n",
    "\n",
    "# Seleccionar el elemento 3, i.e, el índice 2\n",
    "print(X[2])\n",
    "\n",
    "# Seleccionar último elemento\n",
    "print(X[-1]) "
   ]
  },
  {
   "cell_type": "markdown",
   "id": "ca93d257",
   "metadata": {},
   "source": [
    "---\n",
    "### Slicing:\n",
    "Para seleccionar un rango de caracteres consecutivos tener en cuenta las siguientes características:\n",
    "- Se utiliza dos puntos, indicando los indices de inicio, fin y el paso: <br/> `X[i:j:k]`\n",
    "- La selección por rango, tienen la característica que el primer elemento es inclusivo y el último es exclusivo, esto quiere decir que no se incluirá en el rango, si se usa el rango `[i:j]`, en realidad solo se accederá a `[i:j-1]`.\n",
    "\n",
    "Algunos patrones útiles:\n",
    "- Desde el índice `i` hasta el `j`, sin incluir el `j`: <br> `X[i:j]`\n",
    "- Desde el inicio hasta el `j`, sin incluir el `j`: <br> `X[:j]`\n",
    "- Desde la posición `i` hasta el final de la cadena: <br>`X[i:]`\n",
    "- Toda la cadena: <br> `X[:]`\n",
    "- Desde el índice `i` hasta el `j`, sin incluir el `j`, cada `k` caracteres: <br> `X[i:j:k]`\n",
    "- Toda la cadena cada `k` caracteres: <br> `X[::k]`\n",
    "- Toda la cadena al revés: <br> `X[::-1]`\n",
    "\n",
    "<br>\n",
    "\n",
    "**Ejemplo**"
   ]
  },
  {
   "cell_type": "code",
   "execution_count": 7,
   "id": "66f9b952",
   "metadata": {},
   "outputs": [
    {
     "name": "stdout",
     "output_type": "stream",
     "text": [
      "abc\n",
      "de\n",
      "bd\n",
      "edcba\n"
     ]
    }
   ],
   "source": [
    "# Definir la cadena\n",
    "X = 'abcde'\n",
    "\n",
    "# Seleccionar la primeras 3 letras\n",
    "print(X[:3])\n",
    "\n",
    "# Seleccionar las útlimas 2 letras\n",
    "print(X[-2:]) #  print(X[len(X)-2:])->print(X[3:])\n",
    "\n",
    "# Seleccionar las letras en posiciones (no indices) pares\n",
    "print(X[1::2]) \n",
    "\n",
    "# Revertir la cadena\n",
    "print(X[::-1]) "
   ]
  },
  {
   "cell_type": "markdown",
   "id": "a573f6a2",
   "metadata": {},
   "source": [
    "---\n",
    "## Métodos de cadenas\n",
    "\n",
    "En esta sección se enlistan los métodos del tipo `str` por categorias. \n",
    "\n",
    "Tener en cuenta que los métodos generalmente se aplican sobre un objeto de tipo `str`, por ejemplo, si `X` es `str`, entonces se utiliza <code>X.<i>method_name</i></code>. Sin embargo es posible usar la cadena como argumento de <code>str.<i>method_name</i></code>. Por ejemplo."
   ]
  },
  {
   "cell_type": "code",
   "execution_count": 8,
   "id": "db13c5bf",
   "metadata": {},
   "outputs": [
    {
     "name": "stdout",
     "output_type": "stream",
     "text": [
      "HOLA MUNDO\n",
      "HOLA MUNDO\n"
     ]
    }
   ],
   "source": [
    "# Definir una cadena\n",
    "X = \"hola mundo\"\n",
    "\n",
    "# Usar el metodo sobre el objeto\n",
    "print(X.upper())\n",
    "\n",
    "# Equivale a:\n",
    "print(str.upper(X))"
   ]
  },
  {
   "cell_type": "markdown",
   "id": "e9d20499",
   "metadata": {},
   "source": [
    "- Tener en cuenta que en la segunda forma la cadena siempre debe de ser el primer argumento.\n",
    "\n",
    "\n",
    "---\n",
    "### Buscar subcadenas\n",
    "\n",
    "Métodos para buscar subcadenas en una cadena.\n",
    "\n",
    "```{list-table}\n",
    ":header-rows: 1\n",
    "\n",
    "* - Funciones\n",
    "  - Descripción\n",
    "* - [index](https://docs.python.org/3/library/stdtypes.html#str.index)(sub[, start[, end]])\n",
    "  - Devuelve la primer posición de la cadena donde se encuentra una subcadena. Si no encuentra la subcadena devuelve `ValueError`.\n",
    "* - [find](https://docs.python.org/3/library/stdtypes.html#str.find)(sub[, start[, end]])\n",
    "  - Devuelve el primer índice en la cadena donde se encuentra la subcadena `sub`. Devuelve -1 si no se encuentra `sub`.\n",
    "* - [rfind](https://docs.python.org/3/library/stdtypes.html#str.rfind)(sub[, start[, end]])\n",
    "  - Devuelve el índice más grande en la cadena donde se encuentra la subcadena `sub`. Devuelve -1 si no se encuentra `sub`.\n",
    "* - [rindex](https://docs.python.org/3/library/stdtypes.html#str.rindex)(sub[, start[, end]])\n",
    "  - Devuelve el índice más grande en la cadena donde se encuentra la subcadena `sub`. Devuelve `ValueError` si no se encuentra `sub`.\n",
    "```\n",
    "\n",
    "---\n",
    "### Formato de la cadena\n",
    "\n",
    "Métodos para modificar el formato de una cadena.\n",
    "\n",
    "```{list-table}\n",
    ":header-rows: 1\n",
    "\n",
    "* - Funciones\n",
    "  - Descripción\n",
    "* - [zfill](https://docs.python.org/3/library/stdtypes.html#str.zfill)(width)\n",
    "  - Retorna una cadena agregando ceros al principio de la cadena (si es necesario), para que tenga una longitud específica.\n",
    "* - [ljust](https://docs.python.org/3/library/stdtypes.html#str.ljust)(width[, fillchar])\n",
    "  - Justifica el texto a la izquierda, agregando caracteres al final de la cadena para que tenga una longitud determinada.\n",
    "* - [rjust](https://docs.python.org/3/library/stdtypes.html#str.rjust)(width[, fillchar])\n",
    "  - Justifica el texto a la derecha, agregando caracteres al principio de la cadena para que tenga una longitud determinada.\n",
    "* - [title](https://docs.python.org/3/library/stdtypes.html#str.title)()\n",
    "  - Devuelve una versión de título de la cadena donde las palabras comienzan con mayúscula y los caracteres restantes son minúsculas.\n",
    "* - [upper](https://docs.python.org/3/library/stdtypes.html#str.upper)()\n",
    "  - Convierte una cadena en mayúsculas.\n",
    "* - [swapcase](https://docs.python.org/3/library/stdtypes.html#str.swapcase)()\n",
    "  - Devuelve una copia de la cadena con caracteres en mayúsculas convertidos a minúsculas y viceversa.\n",
    "* - [casefold](https://docs.python.org/3/library/stdtypes.html#str.casefold)()\n",
    "  - Retorna una copia de la cadena con todos los caracteres en minúsculas.\n",
    "* - [format](https://docs.python.org/3/library/stdtypes.html#str.format)(*args, **kwargs)\n",
    "  - Realice una operación de formato de cadena.\n",
    "* - [center](https://docs.python.org/3/library/stdtypes.html#str.center)(width[, fillchar])\n",
    "  - Retorna una cadena agregando caracteres al princio y al final, para que tenga una longitud determinada y la cadena original esté al centro.\n",
    "* - [format_map](https://docs.python.org/3/library/stdtypes.html#str.format_map)(mapping)\n",
    "  - Similar a `str.format(**mapping)`, excepto que el mapeo es utilizado directamente y no copiado a un `dict`. Esto es útil si, por ejemplo, el mapeo es una subclase `dict`.\n",
    "* - [lower](https://docs.python.org/3/library/stdtypes.html#str.lower)()\n",
    "  - Devuelve una copia de la cadena con todos los caracteres en mayúsculas convertidos a minúsculas.\n",
    "* - [capitalize](https://docs.python.org/3/library/stdtypes.html#str.capitalize)()\n",
    "  - Devuelve una copia de la cadena con su primer carácter en mayúscula y el resto en minúsculas.\n",
    "```\n",
    "\n",
    "---\n",
    "### Información de la cadena\n",
    "\n",
    "Métodos para obtener información sobre la cadena.\n",
    "\n",
    "```{list-table}\n",
    ":header-rows: 1\n",
    "\n",
    "* - Funciones\n",
    "  - Descripción\n",
    "* - [isdigit](https://docs.python.org/3/library/stdtypes.html#str.isdigit)()\n",
    "  - Devuelve `True` si todos los caracteres de la cadena son dígitos y hay al menos un carácter, `False` en caso contrario.\n",
    "* - [isprintable](https://docs.python.org/3/library/stdtypes.html#str.isprintable)()\n",
    "  - Retorna `True` si todos los caracteres en la cadena son imprimibles o si es una cadena vacía, `False` en caso contrario.\n",
    "* - [isspace](https://docs.python.org/3/library/stdtypes.html#str.isspace)()\n",
    "  - Retorna `True` si solo hay espacios en blanco en la cadena y hay al menos un carácter, `False` en caso contrario.\n",
    "* - [isupper](https://docs.python.org/3/library/stdtypes.html#str.isupper)()\n",
    "  - Retorna `True` si todos los caracteres son mayúsculas y hay al menos un caracter alfabético en mayúsculas, `False` en caso contrario.\n",
    "* - [count](https://docs.python.org/3/library/stdtypes.html#str.count)(sub[, start[, end]])\n",
    "  - Devuelve el número de ocurrencias no superpuestas de la subcadena `sub` en el rango [`start`, `end`].\n",
    "* - [istitle](https://docs.python.org/3/library/stdtypes.html#str.istitle)()\n",
    "  - Retorna `True` si la cadena es una cadena con título y hay al menos una carácter.\n",
    "* - [startswith](https://docs.python.org/3/library/stdtypes.html#str.startswith)(prefix[, start[, end]])\n",
    "  - Devuelve `True` si la cadena comienza con el prefijo; de lo contrario, devuelve `False`.\n",
    "* - [islower](https://docs.python.org/3/library/stdtypes.html#str.islower)()\n",
    "  - Retorna `True` si todos los caracteres en la cadena están en minúsculas y hay al menos un carácter en minúsculas, de lo contrario retornar `False`.\n",
    "* - [isdecimal](https://docs.python.org/3/library/stdtypes.html#str.isdecimal)()\n",
    "  - Retorna `True` si todos los caracteres en la cadena son caracteres decimales y hay al menos un carácter, `False` de lo contrario.\n",
    "* - [isidentifier](https://docs.python.org/3/library/stdtypes.html#str.isidentifier)()\n",
    "  - Retorna `True` si la cadena es un identificador válido.\n",
    "* - [endswith](https://docs.python.org/3/library/stdtypes.html#str.endswith)`(suffix[, start[, end]])`\n",
    "  - Retorna `True` si la cadena termina con algún sufijo en específico.\n",
    "* - [isalpha](https://docs.python.org/3/library/stdtypes.html#str.isalpha)()\n",
    "  - Devuelve `True` si todos los caracteres de la cadena son alfabéticos y hay al menos un carácter, `False` en caso contrario.\n",
    "* - [isascii](https://docs.python.org/3/library/stdtypes.html#str.isascii)()\n",
    "  - Retorna `True` si la cadena está vacía o todos los caracteres de la cadena son ASCII, `False` en caso contrario.\n",
    "* - [isalnum](https://docs.python.org/3/library/stdtypes.html#str.isalnum)()\n",
    "  - Retorna `True` si todos los caracteres de la cadena son alfanuméricos.\n",
    "* - [isnumeric](https://docs.python.org/3/library/stdtypes.html#str.isnumeric)()\n",
    "  - Retorna `True` si todos los caracteres de la cadena son numéricos.\n",
    "```\n",
    "\n",
    "---\n",
    "### Otros\n",
    "\n",
    "Otros métodos para cadenas.\n",
    "\n",
    "```{list-table}\n",
    ":header-rows: 1\n",
    "\n",
    "* - Funciones\n",
    "  - Descripción\n",
    "* - [maketrans](https://docs.python.org/3/library/stdtypes.html#str.maketrans)(x[, y[, z]])\n",
    "  - Este método estático devuelve una tabla de traducción utilizable para `str.translate()`.\n",
    "* - [translate](https://docs.python.org/3/library/stdtypes.html#str.translate)(table)\n",
    "  - Devuelve una copia de la cadena en la que se ha mapeado cada carácter de acuerdo al mapeo indicado en `str.maketrans()`.\n",
    "* - [encode](https://docs.python.org/3/library/stdtypes.html#str.encode)(encoding='utf-8', errors='strict')\n",
    "  - Devuelve la cadena codificada en bytes.\n",
    "```\n",
    "\n",
    "---\n",
    "### Reemplazar y remover subcadenas.\n",
    "\n",
    "Métodos para reemplazar o remover subcadenas dentro de una cadena.\n",
    "\n",
    "```{list-table}\n",
    ":header-rows: 1\n",
    "\n",
    "* - Funciones\n",
    "  - Descripción\n",
    "* - [removeprefix](https://docs.python.org/3/library/stdtypes.html#str.removeprefix)(prefix, /)\n",
    "  - Devuelve una copia de la cadena eliminando el prefijo `prefix` al inicio de la cadena, si existe.\n",
    "* - [expandtabs](https://docs.python.org/3/library/stdtypes.html#str.expandtabs)`(tabsize=8)`\n",
    "  - Devuelve una copia de la cadena donde todos los caracteres de tabulación se reemplazan por uno o más espacios.\n",
    "* - [removesuffix](https://docs.python.org/3/library/stdtypes.html#str.removesuffix)(suffix, /)\n",
    "  - Retorna una copia de la cadena eliminando el sufijo `suffix` al final de la cadena, si existe.\n",
    "* - [replace](https://docs.python.org/3/library/stdtypes.html#str.replace)(old, new[, count])\n",
    "  - Devuelve una copia de la cadena con todas las apariciones de la subcadena `old` reemplazada por `new`. Si se da el argumento opcional `count`, solo las primeras `count` ocurrencias son reemplazadas.\n",
    "```\n",
    "\n",
    "---\n",
    "### Joins y splits\n",
    "\n",
    "Métodos para separar cadenas o para crear cadenas desde iterables.\n",
    "\n",
    "```{list-table}\n",
    ":header-rows: 1\n",
    "\n",
    "* - Funciones\n",
    "  - Descripción\n",
    "* - [join](https://docs.python.org/3/library/stdtypes.html#str.join)(iterable)\n",
    "  - Devuelve una cadena que es la concatenación de las cadenas en un iterable. Se generará un `TypeError` si hay valores que no sean cadenas en el iterable.\n",
    "* - [split](https://docs.python.org/3/library/stdtypes.html#str.split)(sep=None, maxsplit=- 1)\n",
    "  - Devuelve una lista de las palabras de la cadena, utilizando `sep` como cadena delimitadora. Si se da `maxsplit`, como máximo se realizan `maxsplit` divisiones. Por default se usan espacios en blanco como separador.\n",
    "* - [rsplit](https://docs.python.org/3/library/stdtypes.html#str.rsplit)(sep=None, maxsplit=- 1)\n",
    "  - Devuelve una lista de las palabras de la cadena, utilizando `sep` como cadena delimitadora. Si se da `maxsplit`, como máximo se realizan `maxsplit` divisiones. Por default se usan espacios en blanco como separador.\n",
    "* - [splitlines](https://docs.python.org/3/library/stdtypes.html#str.splitlines)(keepends=False)\n",
    "  - Devuelve una lista de las líneas de la cadena, separando por los saltos de línea.\n",
    "* - [partition](https://docs.python.org/3/library/stdtypes.html#str.partition)(sep)\n",
    "  - Divide la cadena en la primera aparición de `sep` y devuelva un `tuple` de 3 elementos que contiene la parte anterior al separador, el propio separador y la parte después del separador.\n",
    "* - [rpartition](https://docs.python.org/3/library/stdtypes.html#str.rpartition)(sep)\n",
    "  - Divide la cadena en la última aparición de `sep` y devuelva un `tuple` de 3 elementos que contiene la parte anterior al separador, el propio separador y la parte después del separador.\n",
    "```\n",
    "\n",
    "---\n",
    "### Strip\n",
    "\n",
    "Métodos para eliminar caracteres al inicio, final o ambos de una cadena.\n",
    "\n",
    "```{list-table}\n",
    ":header-rows: 1\n",
    "\n",
    "* - Funciones\n",
    "  - Descripción\n",
    "* - [strip](https://docs.python.org/3/library/stdtypes.html#str.strip)([chars])\n",
    "  - Elimina los espacios en blanco o un conjunto de caracteres, al principio y final de una cadena.\n",
    "* - [lstrip](https://docs.python.org/3/library/stdtypes.html#str.lstrip)([chars])\n",
    "  - Elimina los espacios en blanco o un conjunto de caracteres en específico al principio de la cadena. Retorna una copia de la cadena.\n",
    "* - [rstrip](https://docs.python.org/3/library/stdtypes.html#str.rstrip)([chars])\n",
    "  - Elimina los espacios en blanco o un conjunto de caracteres en específico al final de la cadena.\n",
    "```\n",
    "\n",
    "---\n",
    "## Formatos de cadenas.\n",
    "\n",
    "En esta sección se explica el método `str.format()` y las \"_f-strings_\" que permiten darle un formato personalizado a las cadenas e incluir de manera dinámica variables en la cadena.\n",
    "\n",
    ":::{warning} \n",
    "Existen otros métodos para hacer lo mismo como los `string.Template` o usando el operador `%`, pero no se cubrirán en esta página.\n",
    ":::\n",
    "\n",
    "---\n",
    "### str.format\n",
    "\n",
    "Es un método que sirve para imprimir valores de variables en algún formato en específico. Para ello en la cadena se deben especificar campos delimitados por corchetes `{}` donde irán los valores.\n",
    "\n",
    "---\n",
    "#### Uso\n",
    "\n",
    "Existen tres formas principales de usar este método:\n",
    "\n",
    "**1. índices**\n",
    "\n",
    "- Dentro de la cadena se usa `{0}`, `{1}`, `{2}`, ..., que indican los índices de los argumentos de `str.format()`, donde 0 es el primer argumento, 1 el segundo, etc. \n",
    "- Un mismo índice `{i}` se puede poner múltiples veces, de manera que lo imprima más de una vez en una misma cadena. \n",
    "- Los índice comienzan en cero.\n",
    "- Si no se indican los índices dentro de `{}` se empatan por posición los argumentos con los campos `{}`, pero el número de llaves debe ser igual al número de argumentos.\n",
    "\n",
    "Ejemplo:"
   ]
  },
  {
   "cell_type": "code",
   "execution_count": 9,
   "id": "b4ee3f04",
   "metadata": {},
   "outputs": [
    {
     "name": "stdout",
     "output_type": "stream",
     "text": [
      "Lenguaje: Python\n",
      "Versión: 11\n"
     ]
    }
   ],
   "source": [
    "# Definir las variables\n",
    "nombre = \"Python\"\n",
    "version = 11\n",
    "\n",
    "# Definir la plantilla\n",
    "cadena = \"Lenguaje: {0}\\nVersión: {1}\"\n",
    "\n",
    "# Imprimir la cadena con los valores de las variables\n",
    "print(cadena.format(nombre, version))"
   ]
  },
  {
   "cell_type": "markdown",
   "id": "0c3170b4",
   "metadata": {},
   "source": [
    "---\n",
    "**2. nombres**\n",
    "\n",
    "- En la cadena, los campos `{}` deben de tener nombres, los cuales se deben especificar en `str.format()` como un par  `name=val`.\n",
    "\n",
    "Ejemplo:"
   ]
  },
  {
   "cell_type": "code",
   "execution_count": 10,
   "id": "2d2325f1",
   "metadata": {},
   "outputs": [
    {
     "name": "stdout",
     "output_type": "stream",
     "text": [
      "Lenguaje: Python\n",
      "Versión: 11\n"
     ]
    }
   ],
   "source": [
    "# Definir las variables\n",
    "nombre = \"Python\"\n",
    "version = 11\n",
    "\n",
    "# Definir la plantilla\n",
    "cadena = \"Lenguaje: {languaje}\\nVersión: {version}\"\n",
    "\n",
    "# Imprimir la cadena con los valores de las variables\n",
    "print(cadena.format(languaje=nombre, version=version))"
   ]
  },
  {
   "cell_type": "markdown",
   "id": "c45f0330",
   "metadata": {},
   "source": [
    "---\n",
    "**3. diccionario**\n",
    "\n",
    "- El argumento de `str.format()` es un diccionario y en los campos `{}` se accede a los valores del diccionario recuperando el valor con los nombres de las llaves del diccionario. \n",
    "- Los nombres de las llaves dentro de la cadena no se deben de poner entre comillas.\n",
    "\n",
    "Ejemplo:"
   ]
  },
  {
   "cell_type": "code",
   "execution_count": 11,
   "id": "407c8065",
   "metadata": {},
   "outputs": [
    {
     "name": "stdout",
     "output_type": "stream",
     "text": [
      "Lenguaje: Python\n",
      "Versión: 11\n"
     ]
    }
   ],
   "source": [
    "# Definir el diccionario\n",
    "my_dict = {\"nombre\": \"Python\", \"version\": 11}\n",
    "\n",
    "# Definir la plantilla\n",
    "cadena = \"Lenguaje: {x[nombre]}\\nVersión: {x[version]}\"\n",
    "\n",
    "# Imprimir la cadena con los valores del diccionario\n",
    "print(cadena.format(x=my_dict))"
   ]
  },
  {
   "cell_type": "markdown",
   "id": "d74fdae1",
   "metadata": {},
   "source": [
    "---\n",
    "### f-strings\n",
    "\n",
    "Es una alternativa al método `str.format()`, está disponible en Python 3.6+. Requiere una sintaxis más sencilla y es más rápida, para ello se agrega el prefijo `f` a una cadena. Al igual que con el método `str.format()` se utilizan llaves `{}` para insertar los valores de las variables, pero en el caso de las f-string se ponen directamente las variables o expresiones.\n",
    "\n",
    "**Sintaxis**:\n",
    "```python\n",
    "f\"texto {expression} texto\"\n",
    "```\n",
    "- _expression_: Es un valor, un objeto o incluso funciones y/o métodos que retornen un objeto imprimible. El valor mostrado será el mismo que el del método `__str__()` o `__repr__()` de la clase del objeto.\n",
    "\n",
    "Ejemplo:"
   ]
  },
  {
   "cell_type": "code",
   "execution_count": 12,
   "id": "e3338cfa",
   "metadata": {},
   "outputs": [
    {
     "name": "stdout",
     "output_type": "stream",
     "text": [
      "Lenguaje: Python\n",
      "Versión: 11\n"
     ]
    }
   ],
   "source": [
    "# Definir las variables\n",
    "nombre = \"Python\"\n",
    "version = 11\n",
    "\n",
    "# Imprimir la cadena con los valores de las variables\n",
    "print(f\"Lenguaje: {nombre}\\nVersión: {version}\")"
   ]
  },
  {
   "cell_type": "markdown",
   "id": "0b6f9d83",
   "metadata": {},
   "source": [
    "Se puede realizar una conversión en los campos `{}`, algunas conversiones disponibles son:\n",
    "- `!s`: Version en cadena.\n",
    "- `!r`: Cadena en versión imprimible, es decir, entre comillas, (solo funciona si la expresión es `str`).\n",
    "- `!a`: Como `!r` pero ignora los caracteres non-ASCII.\n",
    "\n",
    "Ejemplo:"
   ]
  },
  {
   "cell_type": "code",
   "execution_count": 13,
   "id": "9abef989",
   "metadata": {},
   "outputs": [
    {
     "name": "stdout",
     "output_type": "stream",
     "text": [
      "Lenguaje: 'Python'\n",
      "Versión: 11\n"
     ]
    }
   ],
   "source": [
    "# Definir las variables\n",
    "nombre = \"Python\"\n",
    "version = 11\n",
    "\n",
    "# Imprimir la cadena con los valores de las variables\n",
    "print(f\"Lenguaje: {nombre!r}\\nVersión: {version!s}\")"
   ]
  },
  {
   "cell_type": "markdown",
   "id": "15655674",
   "metadata": {},
   "source": [
    "### Formatos\n",
    "\n",
    "Para dar formatos en el método `str.format()` y en f-strings, se utiliza dos puntos y el formato que se quiere dar dentro de las llaves `{}`:\n",
    "```python\n",
    "# f-string\n",
    "f\"... {expression:format}\"\n",
    "\n",
    "# método format\n",
    "\"... {expression:format} ...\".format(...)\n",
    "```\n",
    "- <code><i> format </i></code>: Es el formato que se quiere dar.\n",
    "\n",
    "Los formatos disponibles son:\n",
    "\n",
    "```{list-table}\n",
    ":header-rows: 1\n",
    ":name: label-to-reference\n",
    "\n",
    "* - Formato.\n",
    "  - Resultado.\n",
    "* - `{expression:<N}`\n",
    "  - Alinear el texto a la izquierda, dejando _N_ espacios en blanco a la derecha.\n",
    "* - `{expression:>N}`\n",
    "  - Alinear el texto a la derecha, dejando _N_ espacios en blanco a la izquierda.\n",
    "* - `{expression:^N}`\n",
    "  - Alinear el texto al centro, dejando _N/2_ espacios en blanco a la der. e izq.\n",
    "* - `{expression:+}`\n",
    "  - Imprimir el signo del número, positivos y negativos.\n",
    "* - `{expression:-}`\n",
    "  - Imprimir el signo del número, solo el de los negativos.\n",
    "* - `{expression:,}`\n",
    "  - Separar con una coma los miles.\n",
    "* - `{expression:.Ne}`\n",
    "  - Imprimir el número en formato científico, con la e en minúscula, con _N_ decimales.\n",
    "* - `{expression:.NE}`\n",
    "  - Imprimir el número en formato científico, con la E en minúscula, con _N_ decimales.\n",
    "* - `{expression:.Nf}`\n",
    "  - Imprimir un número décimal, con _N_ decimales.\n",
    "* - `{expression:.N%}`\n",
    "  - Imprimir un número en formato de porcentaje, con _N_ décimales, el número tiene que ser >0 y <1.\n",
    "* - `{expression:s}`\n",
    "  - Dar formato como cadena.\n",
    "* - `{expression:date-format}`\n",
    "  - Imprimir una fecha, en un formato específico, utilizando los códigos de fechas, junto con otros caracteres. Por ejemplo `%Y-%m-%d`.\n",
    "```\n",
    "- _N_: Son números enteros, suelen ser opcionales.\n",
    "- _expression_: Es la expresión, número, cadena, etc. a la que se le dará formato.\n",
    "\n",
    "<br>\n",
    "\n",
    "**Ejemplos***"
   ]
  },
  {
   "cell_type": "code",
   "execution_count": 14,
   "id": "f8282dfd",
   "metadata": {},
   "outputs": [
    {
     "name": "stdout",
     "output_type": "stream",
     "text": [
      "Sin formato: 1897.9876\n",
      "\n",
      "Separar los miles: 1,897.9876\n",
      "\n",
      "Notación científica con 1 décimal: 1.9e+03\n",
      "\n",
      "Con tres décimales (redondea): 1897.988\n",
      "\n",
      "Combinación de separación de miles y 2 décimales: 1,897.99\n",
      "\n"
     ]
    }
   ],
   "source": [
    "# Definir la variable\n",
    "x = 1897.9876\n",
    "\n",
    "# Diversos formatos que se pueden aplicar a \"x\".\n",
    "print(f\"Sin formato: {x}\", end=\"\\n\"*2)\n",
    "\n",
    "print(f\"Separar los miles: {x:,}\", end=\"\\n\"*2)\n",
    "\n",
    "print(f\"Notación científica con 1 décimal: {x:.1e}\", end=\"\\n\"*2)\n",
    "\n",
    "print(f\"Con tres décimales (redondea): {x:.3f}\", end=\"\\n\"*2)\n",
    "\n",
    "print(f\"Combinación de separación de miles y 2 décimales: {x:,.2f}\", end=\"\\n\"*2)"
   ]
  }
 ],
 "metadata": {
  "jupytext": {
   "formats": "md:myst",
   "text_representation": {
    "extension": ".md",
    "format_name": "myst"
   }
  },
  "kernelspec": {
   "display_name": "Python 3",
   "language": "python",
   "name": "python"
  },
  "language_info": {
   "codemirror_mode": {
    "name": "ipython",
    "version": 3
   },
   "file_extension": ".py",
   "mimetype": "text/x-python",
   "name": "python",
   "nbconvert_exporter": "python",
   "pygments_lexer": "ipython3",
   "version": "3.8.0"
  },
  "source_map": [
   11,
   62,
   65,
   72,
   78,
   94,
   101,
   107,
   117,
   122,
   125,
   169,
   181,
   201,
   216,
   225,
   234,
   443,
   453,
   461,
   471,
   480,
   489,
   503,
   510,
   518,
   525,
   579
  ]
 },
 "nbformat": 4,
 "nbformat_minor": 5
}