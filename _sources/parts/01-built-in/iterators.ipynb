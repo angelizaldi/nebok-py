{
 "cells": [
  {
   "cell_type": "markdown",
   "id": "58dada3c",
   "metadata": {},
   "source": [
    "# Iterators\n",
    "\n",
    "Un `iterator` es un objeto que es iterable, es decir que se puede acceder a sus elementos uno por uno. Técnicamente hablando, en Python un iterator es un objeto que se le puede aplicar los protócolos `__iter__()` y `__next__()`.\n",
    "\n",
    "Se puede obtener un `iterator` de los objetos iterables (`list`, `tuple`, `set`, `dict` y `str`)  con `iter()`.\n",
    "\n",
    "\n",
    "```{list-table} iter\n",
    ":header-rows: 1\n",
    "\n",
    "* - Funciones\n",
    "  - Descripción\n",
    "* - [iter](https://docs.python.org/3/library/functions.html#iter)(object)\n",
    "  - Convierte un `iterable` en un `iterator`.\n",
    "* - [next](https://docs.python.org/3/library/functions.html#next)(iterator, default)\n",
    "  - Recupera cada uno de los elementos de un `iterator`, uno a la vez. Si se proporcionó `default`, retorna ese valor cuando ya no haya elementos en el `iterator`, en caso contrario retornar `StopIteration`.\n",
    "```\n",
    "\n",
    "<br>\n",
    "\n",
    "**Ejemplo**: A continuación se presenta un sencillo ejemplo del uso de iterators:"
   ]
  },
  {
   "cell_type": "code",
   "execution_count": 1,
   "id": "86fc73b8",
   "metadata": {},
   "outputs": [
    {
     "name": "stdout",
     "output_type": "stream",
     "text": [
      "Primer elemento: a\n",
      "Resto de los elementos:\n",
      "b\n",
      "c\n",
      "empty\n"
     ]
    }
   ],
   "source": [
    "# Crear un objeto iterable\n",
    "X = [\"a\", \"b\", \"c\"]\n",
    "\n",
    "# Crear un iterator desde X\n",
    "iter_X = iter(X)\n",
    "\n",
    "# Recuperar el primer elemento:\n",
    "print(\"Primer elemento:\", next(iter_X))\n",
    "\n",
    "# Recuperar el resto de los elementos: \n",
    "print(\"Resto de los elementos:\")\n",
    "for i in iter_X:\n",
    "    print(i)\n",
    "    \n",
    "# Tratar de recuperar otro elemento\n",
    "print(next(iter_X, \"empty\"))"
   ]
  },
  {
   "cell_type": "markdown",
   "id": "e669a850",
   "metadata": {},
   "source": [
    "- Si se itera sobre un `iterator` no es necesario usar `next()` y por default la iteración se detendrá en el último elemento.\n",
    "- Después de agotar todos los elementos en el `for loop`, si se trata de recuperar otro elemento se retorna un error `StopIteration` o en este caso, un valor por default."
   ]
  }
 ],
 "metadata": {
  "jupytext": {
   "formats": "md:myst",
   "text_representation": {
    "extension": ".md",
    "format_name": "myst"
   }
  },
  "kernelspec": {
   "display_name": "Python 3",
   "language": "python",
   "name": "python3"
  },
  "language_info": {
   "codemirror_mode": {
    "name": "ipython",
    "version": 3
   },
   "file_extension": ".py",
   "mimetype": "text/x-python",
   "name": "python",
   "nbconvert_exporter": "python",
   "pygments_lexer": "ipython3",
   "version": "3.8.0"
  },
  "source_map": [
   11,
   35,
   52
  ]
 },
 "nbformat": 4,
 "nbformat_minor": 5
}