{
 "cells": [
  {
   "cell_type": "markdown",
   "id": "43d14323",
   "metadata": {},
   "source": [
    "# Anexos\n",
    "\n",
    "En esta sección se recopilan información extra como los tipos de datos built-in, operadores y palabras reservadas, entre otros.\n",
    "\n",
    "## Tabla de contenido\n",
    "\n",
    "```{tableofcontents}\n",
    "````"
   ]
  }
 ],
 "metadata": {
  "jupytext": {
   "formats": "md:myst",
   "text_representation": {
    "extension": ".md",
    "format_name": "myst"
   }
  },
  "kernelspec": {
   "display_name": "Python 3",
   "language": "python",
   "name": "python"
  },
  "language_info": {
   "codemirror_mode": {
    "name": "ipython",
    "version": 3
   },
   "file_extension": ".py",
   "mimetype": "text/x-python",
   "name": "python",
   "nbconvert_exporter": "python",
   "pygments_lexer": "ipython3",
   "version": "3.8.0"
  },
  "source_map": [
   11
  ]
 },
 "nbformat": 4,
 "nbformat_minor": 5
}